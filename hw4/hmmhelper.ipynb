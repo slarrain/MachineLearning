{
 "cells": [
  {
   "cell_type": "code",
   "execution_count": 2,
   "metadata": {
    "collapsed": false
   },
   "outputs": [],
   "source": [
    "import nltk, unittest, itertools, numpy as np\n",
    "from nltk.corpus import brown\n",
    "import copy\n",
    "import itertools"
   ]
  },
  {
   "cell_type": "markdown",
   "metadata": {},
   "source": [
    "####  For ease of grading please use the following template for your code.  Replace the DefaultTagger with code for HMM Tagger.  You may add other classes and functions, but please do not remove the existing functions like untag(), evaluate(), etc.  We should be able to simply run all the cells in your script to get the accuracies of your model."
   ]
  },
  {
   "cell_type": "code",
   "execution_count": 6,
   "metadata": {
    "collapsed": false
   },
   "outputs": [],
   "source": [
    "class DefaultTagger:\n",
    "    \n",
    "    def __init__(self):\n",
    "        self.individual_tag = {}\n",
    "        self.transitional_prob_counter = {}\n",
    "        self.emission_prob_counter = {}\n",
    "        self.transitional_prob = {}\n",
    "        self.emission_prob = {}\n",
    "        \n",
    "    def train(self, tagged_sent):\n",
    "        prev_tag = '<s>'\n",
    "        self.individual_tag[prev_tag] = self.individual_tag.get(prev_tag, 0) + 1\n",
    "        for sentence in tagged_sent:\n",
    "            #tagged_sent is actually a sentence\n",
    "            #print (len(sentence))\n",
    "            #for x in sentence:\n",
    "            #print (x)\n",
    "            word = sentence[0]\n",
    "            tag = sentence[1]\n",
    "            #Add 1 to the counter of tags\n",
    "            self.individual_tag[tag] = self.individual_tag.get(tag, 0) + 1\n",
    "\n",
    "            #Add to the transitional probability counter\n",
    "            if prev_tag not in self.transitional_prob_counter.keys():\n",
    "                self.transitional_prob_counter[prev_tag] = {tag:0}\n",
    "            #if tag not in self.transitional_prob[prev_tag].keys():\n",
    "                #self.transitional_prob[prev_tag][tag] = 0\n",
    "            self.transitional_prob_counter[prev_tag][tag] = self.transitional_prob_counter[prev_tag].get(tag, 0) + 1\n",
    "            prev_tag = tag  #change the value of preious tag to the next tag\n",
    "\n",
    "            #Add to the emission probability counter\n",
    "            if word not in self.emission_prob_counter.keys():\n",
    "                self.emission_prob_counter[word] = {tag:0}\n",
    "            self.emission_prob_counter[word][tag] = self.emission_prob_counter[word].get(tag, 0) + 1\n",
    "        \n",
    "    \n",
    "    def convert_to_prob(self):\n",
    "        '''\n",
    "        Converts the Transitional and Emission counter to probabilities\n",
    "        '''\n",
    "        self.transitional_prob = copy.deepcopy (self.transitional_prob_counter)\n",
    "        self.emission_prob = copy.deepcopy(self.emission_prob_counter)\n",
    "        for prev in self.individual_tag:\n",
    "            if prev not in self.transitional_prob:\n",
    "                self.transitional_prob[prev] = {}\n",
    "            for pos in [tag for tag in self.individual_tag if tag != '<s>']:\n",
    "                #print (prev, pos)\n",
    "                #smoothing\n",
    "                self.transitional_prob[prev][pos] = (self.transitional_prob[prev].get(pos, 0)+1)/(self.individual_tag[prev]+len(self.transitional_prob[prev].keys()))\n",
    "                \n",
    "        \n",
    "        for word in self.emission_prob:\n",
    "            for pos in [tag for tag in self.individual_tag if tag != '<s>']:\n",
    "                self.emission_prob[word][pos] = (self.emission_prob[word].get(pos, 0)+1)/(self.individual_tag[pos]+(len(self.emission_prob.keys())))\n",
    "    \n",
    "    def test_word_unseen(self, word):\n",
    "        '''\n",
    "        Smoothin when a word on the test set has not been seen\n",
    "        '''\n",
    "        self.emission_prob[word] = {}\n",
    "        for tag in self.individual_tag:\n",
    "            #Smoothing\n",
    "            self.emission_prob[word][tag] = 1/(self.individual_tag[tag]+(len(self.emission_prob.keys())))\n",
    "            \n",
    "    def build_combinations (self, s_length):\n",
    "        return list(itertools.product([tag for tag in self.individual_tag if tag != '<s>'], repeat=s_length))\n",
    "                    \n",
    "    def calculate_prob(self, prev, tag, word):\n",
    "        #print (word, prev, tag)\n",
    "        if word not in self.emission_prob:\n",
    "                self.test_word_unseen(word)\n",
    "        em_prob = self.emission_prob[word][tag]  #Emission probability\n",
    "        tran_prob = self.transitional_prob[prev][tag]  #Transitional Probability\n",
    "        prob = em_prob*tran_prob  #Joint probability\n",
    "        return prob\n",
    "                    \n",
    "                    \n",
    "    def get_best_result (self, produc_list, sentence):\n",
    "        '''\n",
    "        Builds the actual list with the results\n",
    "        '''\n",
    "        result_list = []\n",
    "        for pos_combination in produc_list:\n",
    "            prev = '<s>'\n",
    "            result = 1.0\n",
    "            for i in range(len(sentence)):  #Every pos_combination should have the same length as sentence\n",
    "                current_pos = pos_combination[i]\n",
    "                word = sentence[i]\n",
    "                result *= self.calculate_prob(prev, current_pos, word)\n",
    "                prev = current_pos\n",
    "            result_list.append([result, pos_combination])\n",
    "        return (max(result_list)[1])\n",
    "            \n",
    "                \n",
    "        \n",
    "        \n",
    "    def predict (self, s):\n",
    "        '''\n",
    "        Returns a list of POS for a given test sentence s\n",
    "        '''\n",
    "        self.convert_to_prob()\n",
    "        product = self.build_combinations(len(s))\n",
    "        return self.get_best_result(product, s)\n",
    "                    \n",
    "        '''\n",
    "        #s = ['<s>'] + s\n",
    "        prev = '<s>'\n",
    "        t = len(self.individual_tag.keys())  #  Must be == len(self.emission_prob[word])\n",
    "        results = [[1.0, []]]*len(s)*t\n",
    "        for i in range(len(s)):\n",
    "            word = s[i]\n",
    "            j = 0\n",
    "            if word not in self.emission_prob:\n",
    "                self.test_word_unseen(word)\n",
    "            for tag in self.emission_prob[word]:  #TODO Unseen words #Done\n",
    "                em_prob = self.emission_prob[word][tag]  #Emission probability\n",
    "                tran_prob = self.transitional_prob[prev][tag]  #Transitional Probability\n",
    "                prob = em_prob*tran_prob  #Joint probability\n",
    "                index = i*t+j  \n",
    "                results[index][0] *= prob\n",
    "                results[index][1].append(tag)\n",
    "                prev = tag\n",
    "                j =+1\n",
    "                if (j>=t): print ('ALERT!')\n",
    "        return max(results)[1]\n",
    "        '''\n",
    "    def tag(self, s):\n",
    "        return list(zip(s, self.predict(s)))\n",
    "        #return list(zip(s, ['NOUN']*len(s)))\n"
   ]
  },
  {
   "cell_type": "code",
   "execution_count": 4,
   "metadata": {
    "collapsed": false
   },
   "outputs": [],
   "source": [
    "def untag(tagged_sentence):\n",
    "    return [w for (w,t) in tagged_sentence]\n",
    "\n",
    "def evaluate(gold, predicted):\n",
    "    if len(gold) != len(predicted):\n",
    "        raise Exception(\"Mismatching length\")\n",
    "    count = 0\n",
    "    for (g,p) in zip(gold, predicted):\n",
    "        if g[1] == p[1]:\n",
    "            count += 1\n",
    "    l = len(gold)\n",
    "    #print (count, l)\n",
    "    return(count == l, count, l)\n",
    "\n",
    "def tagger_train(tagger, train):\n",
    "    for ts in train:\n",
    "        tagger.train(ts)\n",
    "\n",
    "def tagger_accuracy(tagger, test):\n",
    "    total_words = 0\n",
    "    total_sentences = len(test)\n",
    "    correct_words = 0\n",
    "    correct_sentences = 0\n",
    "    for ts in test:\n",
    "        pred = tagger.tag(untag(ts))\n",
    "        is_correct, num_correct, total =  evaluate(ts, pred)\n",
    "        if is_correct: \n",
    "            correct_sentences += 1\n",
    "        correct_words += num_correct\n",
    "        total_words += total\n",
    "    return(correct_sentences/total_sentences, correct_words/total_words)\n",
    "                          "
   ]
  },
  {
   "cell_type": "code",
   "execution_count": 7,
   "metadata": {
    "collapsed": false
   },
   "outputs": [
    {
     "name": "stdout",
     "output_type": "stream",
     "text": [
      "Sentence 0.432457496136 Word 0.674048451023\n"
     ]
    }
   ],
   "source": [
    "k = 5\n",
    "max_tag_length = 4\n",
    "# Use smaller values during development and code testing\n",
    "\n",
    "brown_tagged_sents = [s for s in brown.tagged_sents(tagset=\"universal\") if len(s) <= max_tag_length]\n",
    "num_in_fold = len(brown_tagged_sents) // k\n",
    "\n",
    "sentence_accuracies = []\n",
    "word_accuracies = []\n",
    "for i in range(k):\n",
    "    training_set = (brown_tagged_sents[0:i*num_in_fold] + \n",
    "                        brown_tagged_sents[(i+1)*num_in_fold:])\n",
    "    test_set = brown_tagged_sents[i*num_in_fold: (i+1)*num_in_fold]\n",
    "    #\n",
    "    # IN THE FOLLOWING REPLACE THE DefaultTagger() WITH YOUR HMM TAGGER\n",
    "    #\n",
    "    tagger = DefaultTagger()\n",
    "    tagger_train(tagger, training_set)\n",
    "    sentence_accuracy, word_accuracy = tagger_accuracy(tagger, test_set)\n",
    "    sentence_accuracies.append(sentence_accuracy)\n",
    "    word_accuracies.append(word_accuracy)\n",
    "print('Sentence', np.array(sentence_accuracies).mean(), 'Word', np.array(word_accuracies).mean())\n",
    "\n",
    "#\n",
    "# WITH HMM TAGGING YOU SHOULD GET SENTENCE LEVEL ACCURACY OF AT LEAST 0.3, \n",
    "# AND WORD LEVEL ACCURACY OF AT LEAST 0.6.  \n",
    "#\n"
   ]
  },
  {
   "cell_type": "code",
   "execution_count": 51,
   "metadata": {
    "collapsed": true
   },
   "outputs": [],
   "source": [
    "#tagger.test_word_unseen('test2')"
   ]
  },
  {
   "cell_type": "code",
   "execution_count": 8,
   "metadata": {
    "collapsed": false
   },
   "outputs": [
    {
     "data": {
      "text/plain": [
       "{'.': 0.0002048760499897562,\n",
       " 'ADJ': 0.00032808398950131233,\n",
       " 'ADP': 0.0003436426116838488,\n",
       " 'ADV': 0.0003418803418803419,\n",
       " 'CONJ': 0.00036088054853843375,\n",
       " 'DET': 0.00033955857385398983,\n",
       " 'NOUN': 0.0004089143324473523,\n",
       " 'NUM': 0.00031735956839098697,\n",
       " 'PRON': 0.00034106412005457026,\n",
       " 'PRT': 0.00035842293906810036,\n",
       " 'VERB': 0.00028620492272467084,\n",
       " 'X': 0.00037105751391465676}"
      ]
     },
     "execution_count": 8,
     "metadata": {},
     "output_type": "execute_result"
    }
   ],
   "source": [
    "#tagger.emission_prob['train']"
   ]
  },
  {
   "cell_type": "code",
   "execution_count": 53,
   "metadata": {
    "collapsed": false
   },
   "outputs": [
    {
     "ename": "SyntaxError",
     "evalue": "invalid syntax (<ipython-input-53-339e806aa4ef>, line 1)",
     "output_type": "error",
     "traceback": [
      "\u001b[1;36m  File \u001b[1;32m\"<ipython-input-53-339e806aa4ef>\"\u001b[1;36m, line \u001b[1;32m1\u001b[0m\n\u001b[1;33m    Sentence 0.0 Word 0.0585442575123\u001b[0m\n\u001b[1;37m               ^\u001b[0m\n\u001b[1;31mSyntaxError\u001b[0m\u001b[1;31m:\u001b[0m invalid syntax\n"
     ]
    }
   ],
   "source": [
    "'''\n",
    "Sentence 0.0 Word 0.0585442575123\n",
    "Sentence 0.309737248841 Word 0.278191630888\n",
    "Sentence 0.432457496136 Word 0.674048451023\n",
    "'''"
   ]
  }
 ],
 "metadata": {
  "kernelspec": {
   "display_name": "Python 3",
   "language": "python",
   "name": "python3"
  },
  "language_info": {
   "codemirror_mode": {
    "name": "ipython",
    "version": 3
   },
   "file_extension": ".py",
   "mimetype": "text/x-python",
   "name": "python",
   "nbconvert_exporter": "python",
   "pygments_lexer": "ipython3",
   "version": "3.4.3+"
  }
 },
 "nbformat": 4,
 "nbformat_minor": 0
}
