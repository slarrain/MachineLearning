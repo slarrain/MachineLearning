{
 "cells": [
  {
   "cell_type": "code",
   "execution_count": 25,
   "metadata": {
    "collapsed": true
   },
   "outputs": [],
   "source": [
    "import networkx as nx\n",
    "import matplotlib as mpl\n",
    "import matplotlib.pyplot as plt\n",
    "import numpy as np\n",
    "import unittest\n",
    "mpl.rc('figure', figsize=[30,30])  #set the default figure size\n",
    "#%matplotlib inline"
   ]
  },
  {
   "cell_type": "code",
   "execution_count": 21,
   "metadata": {
    "collapsed": true
   },
   "outputs": [],
   "source": [
    "def create_labels(g):\n",
    "    labels = {}\n",
    "    for n in g.nodes():\n",
    "        labels[n] = n\n",
    "    return labels\n",
    "arguments = {'node_size':100, 'font_size':8, 'alpha':0.3}"
   ]
  },
  {
   "cell_type": "code",
   "execution_count": 3,
   "metadata": {
    "collapsed": false,
    "scrolled": false
   },
   "outputs": [
    {
     "name": "stderr",
     "output_type": "stream",
     "text": [
      ".\n",
      "----------------------------------------------------------------------\n",
      "Ran 1 test in 0.074s\n",
      "\n",
      "OK\n"
     ]
    },
    {
     "data": {
      "text/plain": [
       "<unittest.runner.TextTestResult run=1 errors=0 failures=0>"
      ]
     },
     "execution_count": 3,
     "metadata": {},
     "output_type": "execute_result"
    }
   ],
   "source": [
    "def girvan_newman(G, k=2):\n",
    "    '''Return a list of k lists of nodes, each forming a \n",
    "    community.'''\n",
    "    \n",
    "    # REPLACE THE FOLLOWING PLACEHOLDER CODE WITH YOUR OWN\n",
    "    if len(G.nodes()) == 1:\n",
    "        return [G.nodes()]\n",
    "\n",
    "    def find_best_edge(G0):\n",
    "        \"\"\"\n",
    "        Networkx implementation of edge_betweenness\n",
    "        returns a dictionary. Make this into a list,\n",
    "        sort it and return the edge with highest betweenness.\n",
    "        \"\"\"\n",
    "        eb = nx.edge_betweenness_centrality(G0)\n",
    "        eb_il = list(eb.items())\n",
    "        eb_il.sort(key=lambda x: x[1], reverse=True)\n",
    "        return eb_il[0][0]\n",
    "\n",
    "    components = list(nx.connected_component_subgraphs(G))\n",
    "\n",
    "    while len(components) < k:\n",
    "        G.remove_edge(*find_best_edge(G))\n",
    "        components = list(nx.connected_component_subgraphs(G))\n",
    "\n",
    "    result = [c.nodes() for c in components]\n",
    "    return result\n",
    "\n",
    "\n",
    "# PLEASE DO NOT MODIFY THE TEST CODE BELOW WHICH (ALONG WITH OTHER SUCH TESTS) \n",
    "# WILL BE USED TO TEST YOUR IMPLEMENTATION\n",
    "\n",
    "class TestCommunities(unittest.TestCase):\n",
    "        \n",
    "    def setUp(self):\n",
    "        \n",
    "        self.g = nx.Graph()\n",
    "        self.g.add_edges_from([\n",
    "            (1, 2),(1, 3), (2, 3),\n",
    "            (2, 4), (3, 4),\n",
    "            (4, 5), (5, 6), (4, 6),\n",
    "            (7, 8), (7, 9), (8, 9),\n",
    "            (5, 9)\n",
    "        ])\n",
    "\n",
    "        \n",
    "    def test_gn(self):    \n",
    "        \n",
    "        nx.draw(self.g, labels=create_labels(self.g), **arguments)\n",
    "        \n",
    "        components = girvan_newman(self.g, 2)\n",
    "        c_set = {frozenset(c) for c in components}\n",
    "        self.assertEqual(c_set,\n",
    "            {\n",
    "                frozenset([1, 2, 3, 4, 5, 6]),\n",
    "                frozenset([7, 8, 9])\n",
    "            })\n",
    "    \n",
    "        components = girvan_newman(self.g, 3)\n",
    "        c_set = {frozenset(c) for c in components}\n",
    "        self.assertEqual(c_set,\n",
    "            {\n",
    "                frozenset([1, 2, 3]),\n",
    "                frozenset([4, 5, 6]),\n",
    "                frozenset([7, 8, 9])\n",
    "            })\n",
    "        \n",
    "        \n",
    "\n",
    "\n",
    "suite = unittest.TestLoader().loadTestsFromModule(TestCommunities())\n",
    "unittest.TextTestRunner().run(suite)\n",
    "        "
   ]
  },
  {
   "cell_type": "code",
   "execution_count": 89,
   "metadata": {
    "collapsed": false
   },
   "outputs": [],
   "source": [
    "def girvan_newman (G, k):\n",
    "    '''\n",
    "    Fixed so it splits the graphs in k components. Returns a list with lists of the componenents nodes\n",
    "    '''\n",
    "\n",
    "    if len(G.nodes()) == 1:\n",
    "        return [G.nodes()]\n",
    "\n",
    "    def find_best_edge(G0):\n",
    "        \"\"\"\n",
    "        Networkx implementation of edge_betweenness\n",
    "        returns a dictionary. Make this into a list,\n",
    "        sort it and return the edge with highest betweenness.\n",
    "        \"\"\"\n",
    "        eb = nx.edge_betweenness_centrality(G0)\n",
    "        eb_il = list(eb.items())\n",
    "        eb_il.sort(key=lambda x: x[1], reverse=True)\n",
    "        return eb_il[0][0]\n",
    "\n",
    "    components = list(nx.connected_component_subgraphs(G))\n",
    "\n",
    "    while len(components) < k:\n",
    "        G.remove_edge(*find_best_edge(G))\n",
    "        components = list(nx.connected_component_subgraphs(G))\n",
    "\n",
    "    result = [c.nodes() for c in components]\n",
    "    return result\n",
    "    '''\n",
    "    for c in components:\n",
    "        print (c)\n",
    "        result.extend(girvan_newman(c))\n",
    "\n",
    "    return result\n",
    "    '''"
   ]
  },
  {
   "cell_type": "code",
   "execution_count": 85,
   "metadata": {
    "collapsed": true
   },
   "outputs": [],
   "source": [
    "b = create_graph()"
   ]
  },
  {
   "cell_type": "code",
   "execution_count": 106,
   "metadata": {
    "collapsed": false
   },
   "outputs": [],
   "source": [
    "gn = girvan_newman(b, 5)"
   ]
  },
  {
   "cell_type": "code",
   "execution_count": 105,
   "metadata": {
    "collapsed": false
   },
   "outputs": [
    {
     "data": {
      "text/plain": [
       "[1, 2, 3, 4, 5, 6, 7, 8, 9]"
      ]
     },
     "execution_count": 105,
     "metadata": {},
     "output_type": "execute_result"
    },
    {
     "data": {
      "image/png": "[encoded data removed]",
      "text/plain": [
       "<matplotlib.figure.Figure at 0x7f8ccc1bcb38>"
      ]
     },
     "metadata": {},
     "output_type": "display_data"
    }
   ],
   "source": [
    "draw(b)\n",
    "b.nodes()\n"
   ]
  },
  {
   "cell_type": "code",
   "execution_count": 4,
   "metadata": {
    "collapsed": true
   },
   "outputs": [],
   "source": [
    "def color_node(gn_rv):\n",
    "    colors = []\n",
    "    for i in range(len(gn_rv)):\n",
    "        for node in gn_rv[i]:\n",
    "            colors.append(i)\n",
    "    return colors"
   ]
  },
  {
   "cell_type": "code",
   "execution_count": 5,
   "metadata": {
    "collapsed": true
   },
   "outputs": [],
   "source": [
    "def read(n):\n",
    "    filename = str(n)+'.edges'\n",
    "    #g = nx.Graph()\n",
    "    g = nx.read_edgelist(filename)\n",
    "    return g"
   ]
  },
  {
   "cell_type": "code",
   "execution_count": 6,
   "metadata": {
    "collapsed": true
   },
   "outputs": [],
   "source": [
    "def run(n, k=10):\n",
    "    g = read(n)\n",
    "    gn = girvan_newman(g, 10)\n",
    "    draw_pdf(g, gn, n)"
   ]
  },
  {
   "cell_type": "code",
   "execution_count": 7,
   "metadata": {
    "collapsed": true
   },
   "outputs": [],
   "source": [
    "def draw_pdf(g, gn, n):\n",
    "    #TODO Size and viz\n",
    "    plt.clf()\n",
    "    nx.draw_networkx(g, labels=create_labels(g), node_color=color_node(gn), alpha=0.7)\n",
    "    plt.savefig('ego'+str(n)+'.pdf')"
   ]
  },
  {
   "cell_type": "code",
   "execution_count": 8,
   "metadata": {
    "collapsed": true
   },
   "outputs": [],
   "source": [
    "def run_all():\n",
    "    for x in [3980, 348, 3437]:\n",
    "        run(x, 10)"
   ]
  },
  {
   "cell_type": "code",
   "execution_count": 11,
   "metadata": {
    "collapsed": false
   },
   "outputs": [],
   "source": [
    "n0 = read(0)\n",
    "draw(n0)"
   ]
  },
  {
   "cell_type": "code",
   "execution_count": 12,
   "metadata": {
    "collapsed": true
   },
   "outputs": [],
   "source": [
    "gn348 = girvan_newman(n0, 10)"
   ]
  },
  {
   "cell_type": "code",
   "execution_count": 26,
   "metadata": {
    "collapsed": true
   },
   "outputs": [],
   "source": [
    "plt.clf()"
   ]
  },
  {
   "cell_type": "code",
   "execution_count": 27,
   "metadata": {
    "collapsed": false
   },
   "outputs": [],
   "source": [
    "nx.draw_networkx(n0, labels=create_labels(n0), node_color=color_node(gn348), **arguments)"
   ]
  },
  {
   "cell_type": "code",
   "execution_count": 28,
   "metadata": {
    "collapsed": false
   },
   "outputs": [],
   "source": [
    "plt.savefig('temp5.png')"
   ]
  },
  {
   "cell_type": "code",
   "execution_count": 110,
   "metadata": {
    "collapsed": false
   },
   "outputs": [
    {
     "data": {
      "image/png": "[encoded data removed]",
      "text/plain": [
       "<matplotlib.figure.Figure at 0x7f8ccc37c0f0>"
      ]
     },
     "metadata": {},
     "output_type": "display_data"
    }
   ],
   "source": [
    "nx.draw_networkx(b, labels=create_labels(b), node_color=color_node(gn), alpha=0.7)"
   ]
  },
  {
   "cell_type": "code",
   "execution_count": 96,
   "metadata": {
    "collapsed": false
   },
   "outputs": [
    {
     "data": {
      "text/plain": [
       "[((4, 5), 0.027777777777777776),\n",
       " ((2, 3), 0.027777777777777776),\n",
       " ((5, 6), 0.027777777777777776),\n",
       " ((7, 8), 0.027777777777777776),\n",
       " ((4, 6), 0.027777777777777776)]"
      ]
     },
     "execution_count": 96,
     "metadata": {},
     "output_type": "execute_result"
    }
   ],
   "source": [
    "eb = nx.edge_betweenness_centrality(b)\n",
    "eb_il = list(eb.items())\n",
    "eb_il.sort(key=lambda x: x[1], reverse=True)\n",
    "eb_il"
   ]
  },
  {
   "cell_type": "code",
   "execution_count": null,
   "metadata": {
    "collapsed": true
   },
   "outputs": [],
   "source": [
    "    "
   ]
  },
  {
   "cell_type": "code",
   "execution_count": 10,
   "metadata": {
    "collapsed": true
   },
   "outputs": [],
   "source": [
    "def create_graph():\n",
    "    g = nx.Graph()\n",
    "    g.add_edges_from([\n",
    "            (1, 2),(1, 3), (2, 3),\n",
    "            (2, 4), (3, 4),\n",
    "            (4, 5), (5, 6), (4, 6),\n",
    "            (7, 8), (7, 9), (8, 9),\n",
    "            (5, 9)\n",
    "        ])\n",
    "    return g\n",
    "\n",
    "def draw(g):\n",
    "    return nx.draw(g, labels=create_labels(g), **arguments)"
   ]
  },
  {
   "cell_type": "code",
   "execution_count": 32,
   "metadata": {
    "collapsed": false
   },
   "outputs": [
    {
     "data": {
      "text/plain": [
       "[1, 2, 3, 4, 5, 6, 7, 8, 9]"
      ]
     },
     "execution_count": 32,
     "metadata": {},
     "output_type": "execute_result"
    }
   ],
   "source": [
    "g.nodes()"
   ]
  },
  {
   "cell_type": "code",
   "execution_count": 49,
   "metadata": {
    "collapsed": false
   },
   "outputs": [
    {
     "data": {
      "image/png": "[encoded data removed]",
      "text/plain": [
       "<matplotlib.figure.Figure at 0x7f8ccc3beeb8>"
      ]
     },
     "metadata": {},
     "output_type": "display_data"
    }
   ],
   "source": [
    "nx.draw(g, labels=create_labels(g), **arguments)"
   ]
  }
 ],
 "metadata": {
  "kernelspec": {
   "display_name": "Python 3",
   "language": "python",
   "name": "python3"
  },
  "language_info": {
   "codemirror_mode": {
    "name": "ipython",
    "version": 3
   },
   "file_extension": ".py",
   "mimetype": "text/x-python",
   "name": "python",
   "nbconvert_exporter": "python",
   "pygments_lexer": "ipython3",
   "version": "3.4.3+"
  }
 },
 "nbformat": 4,
 "nbformat_minor": 0
}
