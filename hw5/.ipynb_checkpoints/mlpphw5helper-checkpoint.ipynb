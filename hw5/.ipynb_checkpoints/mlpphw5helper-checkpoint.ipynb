{
 "cells": [
  {
   "cell_type": "code",
   "execution_count": 35,
   "metadata": {
    "collapsed": false
   },
   "outputs": [],
   "source": [
    "import networkx as nx\n",
    "import matplotlib as mpl\n",
    "import matplotlib.pyplot as plt\n",
    "import numpy as np\n",
    "import unittest\n",
    "import statistics\n",
    "mpl.rc('figure', figsize=[30,30])  #set the default figure size\n",
    "%matplotlib inline"
   ]
  },
  {
   "cell_type": "code",
   "execution_count": 86,
   "metadata": {
    "collapsed": true
   },
   "outputs": [],
   "source": [
    "def create_labels(g):\n",
    "    labels = {}\n",
    "    for n in g.nodes():\n",
    "        labels[n] = n\n",
    "    return labels\n",
    "arguments = {'node_size':100, 'font_size':8, 'alpha':0.3}\n"
   ]
  },
  {
   "cell_type": "code",
   "execution_count": 37,
   "metadata": {
    "collapsed": false,
    "scrolled": false
   },
   "outputs": [
    {
     "name": "stderr",
     "output_type": "stream",
     "text": [
      ".\n",
      "----------------------------------------------------------------------\n",
      "Ran 1 test in 0.024s\n",
      "\n",
      "OK\n"
     ]
    },
    {
     "data": {
      "text/plain": [
       "<unittest.runner.TextTestResult run=1 errors=0 failures=0>"
      ]
     },
     "execution_count": 37,
     "metadata": {},
     "output_type": "execute_result"
    }
   ],
   "source": [
    "def girvan_newman(G, k=2):\n",
    "    '''Return a list of k lists of nodes, each forming a \n",
    "    community.'''\n",
    "    \n",
    "    # REPLACE THE FOLLOWING PLACEHOLDER CODE WITH YOUR OWN\n",
    "    if len(G.nodes()) == 1:\n",
    "        return [G.nodes()]\n",
    "\n",
    "    def find_best_edge(G0):\n",
    "        \"\"\"\n",
    "        Networkx implementation of edge_betweenness\n",
    "        returns a dictionary. Make this into a list,\n",
    "        sort it and return the edge with highest betweenness.\n",
    "        \"\"\"\n",
    "        eb = nx.edge_betweenness_centrality(G0)\n",
    "        eb_il = list(eb.items())\n",
    "        eb_il.sort(key=lambda x: x[1], reverse=True)\n",
    "        return eb_il[0][0]\n",
    "\n",
    "    components = list(nx.connected_component_subgraphs(G))\n",
    "\n",
    "    while len(components) < k:\n",
    "        G.remove_edge(*find_best_edge(G))\n",
    "        components = list(nx.connected_component_subgraphs(G))\n",
    "\n",
    "    result = [c.nodes() for c in components]\n",
    "    return result\n",
    "\n",
    "\n",
    "# PLEASE DO NOT MODIFY THE TEST CODE BELOW WHICH (ALONG WITH OTHER SUCH TESTS) \n",
    "# WILL BE USED TO TEST YOUR IMPLEMENTATION\n",
    "\n",
    "class TestCommunities(unittest.TestCase):\n",
    "        \n",
    "    def setUp(self):\n",
    "        \n",
    "        self.g = nx.Graph()\n",
    "        self.g.add_edges_from([\n",
    "            (1, 2),(1, 3), (2, 3),\n",
    "            (2, 4), (3, 4),\n",
    "            (4, 5), (5, 6), (4, 6),\n",
    "            (7, 8), (7, 9), (8, 9),\n",
    "            (5, 9)\n",
    "        ])\n",
    "\n",
    "        \n",
    "    def test_gn(self):    \n",
    "        \n",
    "        nx.draw(self.g, labels=create_labels(self.g), **arguments)\n",
    "        \n",
    "        components = girvan_newman(self.g, 2)\n",
    "        c_set = {frozenset(c) for c in components}\n",
    "        self.assertEqual(c_set,\n",
    "            {\n",
    "                frozenset([1, 2, 3, 4, 5, 6]),\n",
    "                frozenset([7, 8, 9])\n",
    "            })\n",
    "    \n",
    "        components = girvan_newman(self.g, 3)\n",
    "        c_set = {frozenset(c) for c in components}\n",
    "        self.assertEqual(c_set,\n",
    "            {\n",
    "                frozenset([1, 2, 3]),\n",
    "                frozenset([4, 5, 6]),\n",
    "                frozenset([7, 8, 9])\n",
    "            })\n",
    "        \n",
    "        \n",
    "\n",
    "\n",
    "suite = unittest.TestLoader().loadTestsFromModule(TestCommunities())\n",
    "unittest.TextTestRunner().run(suite)\n",
    "        "
   ]
  },
  {
   "cell_type": "code",
   "execution_count": 93,
   "metadata": {
    "collapsed": true
   },
   "outputs": [],
   "source": [
    "def color_node(g, gn_rv):\n",
    "    colors = {}\n",
    "    l = []\n",
    "    #tot = len(gn_rv)\n",
    "    for i in range(len(gn_rv)):\n",
    "        for node in gn_rv[i]:\n",
    "            colors[node] = i\n",
    "            \n",
    "    color_list = []\n",
    "    for x in g.nodes():\n",
    "        y = colors[x]\n",
    "        color_list.append(y)\n",
    "    return color_list"
   ]
  },
  {
   "cell_type": "code",
   "execution_count": 102,
   "metadata": {
    "collapsed": true
   },
   "outputs": [],
   "source": [
    "def read(n):\n",
    "    filename = str(n)+'.edges'\n",
    "    #g = nx.Graph()\n",
    "    g = nx.read_edgelist(filename)\n",
    "    return g"
   ]
  },
  {
   "cell_type": "code",
   "execution_count": 40,
   "metadata": {
    "collapsed": true
   },
   "outputs": [],
   "source": [
    "def run(n, k=10):\n",
    "    g = read(n)\n",
    "    gn = girvan_newman(g, 10)\n",
    "    draw_pdf(g, gn, n)"
   ]
  },
  {
   "cell_type": "code",
   "execution_count": 120,
   "metadata": {
    "collapsed": true
   },
   "outputs": [],
   "source": [
    "def draw_pdf(g, gn, n):\n",
    "    #TODO Size and viz\n",
    "    plt.clf()\n",
    "    arguments1 = {'node_size':100, 'font_size':8, 'alpha':0.3}\n",
    "    nx.draw_networkx(g, labels=create_labels(g), node_color=color_node(g, gn), **arguments1)\n",
    "    plt.savefig('ego'+str(n)+'.pdf')"
   ]
  },
  {
   "cell_type": "code",
   "execution_count": 42,
   "metadata": {
    "collapsed": true
   },
   "outputs": [],
   "source": [
    "def run_all():\n",
    "    for x in [3980, 348, 3437]:\n",
    "        run(x, 10)"
   ]
  },
  {
   "cell_type": "markdown",
   "metadata": {},
   "source": [
    "This creates the graphs"
   ]
  },
  {
   "cell_type": "code",
   "execution_count": 43,
   "metadata": {
    "collapsed": true
   },
   "outputs": [],
   "source": [
    "run_all()"
   ]
  },
  {
   "cell_type": "markdown",
   "metadata": {},
   "source": [
    "**Question 4"
   ]
  },
  {
   "cell_type": "code",
   "execution_count": 95,
   "metadata": {
    "collapsed": false
   },
   "outputs": [],
   "source": [
    "def run_all_q4():\n",
    "    q4 = [0,414,686,698]\n",
    "    for x in q4:\n",
    "        run(x, 10)\n",
    "    "
   ]
  },
  {
   "cell_type": "markdown",
   "metadata": {},
   "source": [
    "Graphs of 4 other datasets are on the 'q4' folder. We applied the same Girvan Newman algorithm"
   ]
  },
  {
   "cell_type": "code",
   "execution_count": 121,
   "metadata": {
    "collapsed": false
   },
   "outputs": [
    {
     "data": {
      "image/png": "[encoded data removed]",
      "text/plain": [
       "<matplotlib.figure.Figure at 0x7f660ae5f4a8>"
      ]
     },
     "metadata": {},
     "output_type": "display_data"
    }
   ],
   "source": [
    "run_all_q4()"
   ]
  },
  {
   "cell_type": "code",
   "execution_count": 107,
   "metadata": {
    "collapsed": false
   },
   "outputs": [],
   "source": [
    "def read_all():\n",
    "    rv = {}\n",
    "    for x in [3980, 348, 3437]:\n",
    "        rv[x] = read(x)\n",
    "    return rv"
   ]
  },
  {
   "cell_type": "code",
   "execution_count": 115,
   "metadata": {
    "collapsed": true
   },
   "outputs": [],
   "source": [
    "def all_gn(no_gn):\n",
    "    si_gn = {}\n",
    "    for node in no_gn:\n",
    "        si_gn[node] = girvan_newman(no_gn[node], 10)\n",
    "    return si_gn"
   ]
  },
  {
   "cell_type": "code",
   "execution_count": 108,
   "metadata": {
    "collapsed": true
   },
   "outputs": [],
   "source": [
    "no_gn = read_all()"
   ]
  },
  {
   "cell_type": "code",
   "execution_count": 116,
   "metadata": {
    "collapsed": true
   },
   "outputs": [],
   "source": [
    "si_gn = all_gn(no_gn)"
   ]
  },
  {
   "cell_type": "markdown",
   "metadata": {},
   "source": [
    "Test clustering"
   ]
  },
  {
   "cell_type": "code",
   "execution_count": 113,
   "metadata": {
    "collapsed": true
   },
   "outputs": [],
   "source": [
    "def con_clus(no_gn):\n",
    "    for g in no_gn:\n",
    "        c = nx.average_clustering(no_gn[g])\n",
    "        #w = nx.number_weakly_connected_components(no_gn[g])\n",
    "        #s = nx.number_strongly_connected_components(no_gn[g])\n",
    "        print (\"Clustering of \", no_gn[g], \"is: \", c)\n",
    "        #print (\"Number of strongly connected components of \", no_gn[g], \"is: \", s)\n",
    "        #print (\"number of weakly connected components of \", no_gn[g], \"is: \", w)"
   ]
  },
  {
   "cell_type": "markdown",
   "metadata": {},
   "source": [
    "For the Graphs without the girvan_newman:"
   ]
  },
  {
   "cell_type": "code",
   "execution_count": 114,
   "metadata": {
    "collapsed": false,
    "scrolled": true
   },
   "outputs": [
    {
     "name": "stdout",
     "output_type": "stream",
     "text": [
      "Clustering of   is:  0.5442814709697876\n",
      "Clustering of   is:  0.46172685095196403\n",
      "Clustering of   is:  0.5437245400643067\n"
     ]
    }
   ],
   "source": [
    "con_clus(no_gn)"
   ]
  },
  {
   "cell_type": "markdown",
   "metadata": {},
   "source": [
    "For the Graphs with the girvan_newman (it changes very little but it does seem to increase it):"
   ]
  },
  {
   "cell_type": "code",
   "execution_count": 118,
   "metadata": {
    "collapsed": false
   },
   "outputs": [
    {
     "name": "stdout",
     "output_type": "stream",
     "text": [
      "Clustering of   is:  0.559346264320544\n",
      "Clustering of   is:  0.5273340975264053\n",
      "Clustering of   is:  0.5721122645957929\n"
     ]
    }
   ],
   "source": [
    "con_clus(no_gn)"
   ]
  },
  {
   "cell_type": "code",
   "execution_count": 129,
   "metadata": {
    "collapsed": true
   },
   "outputs": [],
   "source": [
    "def mean_median(g_list):\n",
    "    for g in g_list:\n",
    "        lens = []\n",
    "        for nodes in g_list[g]:\n",
    "            lens.append(len(nodes))\n",
    "        print (\"Mean length of componenets of Graph \", g, \"is: \", statistics.mean(lens))\n",
    "        print (\"Median length of componenets of Graph \", g, \"is: \", statistics.median(lens))"
   ]
  },
  {
   "cell_type": "markdown",
   "metadata": {},
   "source": [
    "We will compare the Mean and the Median of the lengths of the componenets of each of the 3 analyzed graphs.\n",
    "We see that in 348 the Mean is 10x its Median, wereas in the other 2, is more like 2x."
   ]
  },
  {
   "cell_type": "code",
   "execution_count": 131,
   "metadata": {
    "collapsed": false
   },
   "outputs": [
    {
     "name": "stdout",
     "output_type": "stream",
     "text": [
      "Mean of Graph  3980 is:  5.2\n",
      "Median of Graph  3980 is:  2.5\n",
      "Mean of Graph  348 is:  22.4\n",
      "Median of Graph  348 is:  2.5\n",
      "Mean of Graph  3437 is:  53.4\n",
      "Median of Graph  3437 is:  24.0\n"
     ]
    }
   ],
   "source": [
    "mean_median(si_gn)"
   ]
  }
 ],
 "metadata": {
  "kernelspec": {
   "display_name": "Python 3",
   "language": "python",
   "name": "python3"
  },
  "language_info": {
   "codemirror_mode": {
    "name": "ipython",
    "version": 3
   },
   "file_extension": ".py",
   "mimetype": "text/x-python",
   "name": "python",
   "nbconvert_exporter": "python",
   "pygments_lexer": "ipython3",
   "version": "3.4.3+"
  }
 },
 "nbformat": 4,
 "nbformat_minor": 0
}
