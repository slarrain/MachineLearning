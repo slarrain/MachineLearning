{
 "cells": [
  {
   "cell_type": "code",
   "execution_count": 12,
   "metadata": {
    "collapsed": false
   },
   "outputs": [],
   "source": [
    "import urllib.request, time, re, random, hashlib, requests"
   ]
  },
  {
   "cell_type": "code",
   "execution_count": 43,
   "metadata": {
    "collapsed": true
   },
   "outputs": [],
   "source": [
    "# IMPORTANT:  PLEASE USE THE FOLLOWING fetch(url) TO LOAD ALL YOUR \n",
    "# WEBPAGES. PLEASE DO NOT DIRECTLY LOAD PAGES. THIS WILL ENSURE THAT\n",
    "# PAGES ARE CACHED AS FILES IN YOUR DIRECTORY, AND AVOID UNNECESSARY\n",
    "# LOAD ON WEBSITES.  ALSO WHEN PAGES ARE ACTUALLY LOADED, THE REQUESTS\n",
    "# ARE STAGGERED AS EXPECTED OF HUMAN BROWSING.\n",
    "\n",
    "# Compassionate Caching inspired by \n",
    "# http://lethain.com/an-introduction-to-compassionate-screenscraping/\n",
    "\n",
    "last_fetched_at = None\n",
    "\n",
    "def fetch(url):\n",
    "    \"\"\"Load the url compassionately.\"\"\"\n",
    "    \n",
    "    global last_fetched_at\n",
    "    \n",
    "    url_hash = hashlib.sha1(url.encode()).hexdigest()\n",
    "    filename = 'cache/cache-file-{}'.format(url_hash)\n",
    "    try:\n",
    "        with open(filename, 'r') as f:\n",
    "            result = f.read()\n",
    "            if len(result) > 0:\n",
    "                print(\"Retrieving from cache:\", url)\n",
    "                return result\n",
    "    except:\n",
    "        pass\n",
    "    \n",
    "    print(\"Loading:\", url)\n",
    "    wait_interval = random.randint(3000,10000)\n",
    "    if last_fetched_at is not None:\n",
    "        now = time.time()\n",
    "        elapsed = now - last_fetched_at\n",
    "        if elapsed < wait_interval:\n",
    "            time.sleep((wait_interval - elapsed)/1000)\n",
    "        \n",
    "    user_agent = 'Mozilla/5.0 (Macintosh; Intel Mac OS X 10_10_1) AppleWebKit/537.36 (KHTML, like Gecko) Chrome/39.0.2171.95 Safari/537.36'\n",
    "    headers = { 'User-Agent' : user_agent }\n",
    "    req = urllib.request.Request(url, headers = headers)\n",
    "    last_fetched_at = time.time()\n",
    "    with urllib.request.urlopen(req) as response:\n",
    "        result = str(response.read())\n",
    "        with open(filename, 'w') as f:\n",
    "            f.write(result)\n",
    "        return result"
   ]
  },
  {
   "cell_type": "code",
   "execution_count": 4,
   "metadata": {
    "collapsed": true
   },
   "outputs": [],
   "source": [
    "def get_search_results(url):\n",
    "    \"\"\"Return an html with search results for given entity.\"\"\"\n",
    "    #url = 'http://www.usatoday.com/search/'+entity.name.replace(' ', '+')+'/'\n",
    "    result = fetch(url)\n",
    "    \n",
    "    return result"
   ]
  },
  {
   "cell_type": "code",
   "execution_count": 47,
   "metadata": {
    "collapsed": true
   },
   "outputs": [],
   "source": [
    "import json"
   ]
  },
  {
   "cell_type": "code",
   "execution_count": 48,
   "metadata": {
    "collapsed": false
   },
   "outputs": [
    {
     "name": "stdout",
     "output_type": "stream",
     "text": [
      "Retrieving from cache: https://api.oyez.org/cases?filter=term%3A2006&labels=true&page=0&per_page=0\n"
     ]
    }
   ],
   "source": [
    "res2006 = get_search_results('https://api.oyez.org/cases?filter=term%3A2006&labels=true&page=0&per_page=0')"
   ]
  },
  {
   "cell_type": "code",
   "execution_count": 51,
   "metadata": {
    "collapsed": false
   },
   "outputs": [
    {
     "ename": "ValueError",
     "evalue": "Expecting value: line 1 column 1 (char 0)",
     "output_type": "error",
     "traceback": [
      "\u001b[1;31m---------------------------------------------------------------------------\u001b[0m",
      "\u001b[1;31mValueError\u001b[0m                                Traceback (most recent call last)",
      "\u001b[1;32m<ipython-input-51-39948f226bc8>\u001b[0m in \u001b[0;36m<module>\u001b[1;34m()\u001b[0m\n\u001b[1;32m----> 1\u001b[1;33m \u001b[0mres06\u001b[0m \u001b[1;33m=\u001b[0m \u001b[0mjson\u001b[0m\u001b[1;33m.\u001b[0m\u001b[0mloads\u001b[0m\u001b[1;33m(\u001b[0m\u001b[0mres2006\u001b[0m\u001b[1;33m)\u001b[0m\u001b[1;33m\u001b[0m\u001b[0m\n\u001b[0m",
      "\u001b[1;32m/usr/lib/python3.4/json/__init__.py\u001b[0m in \u001b[0;36mloads\u001b[1;34m(s, encoding, cls, object_hook, parse_float, parse_int, parse_constant, object_pairs_hook, **kw)\u001b[0m\n\u001b[0;32m    316\u001b[0m             \u001b[0mparse_int\u001b[0m \u001b[1;32mis\u001b[0m \u001b[1;32mNone\u001b[0m \u001b[1;32mand\u001b[0m \u001b[0mparse_float\u001b[0m \u001b[1;32mis\u001b[0m \u001b[1;32mNone\u001b[0m \u001b[1;32mand\u001b[0m\u001b[1;33m\u001b[0m\u001b[0m\n\u001b[0;32m    317\u001b[0m             parse_constant is None and object_pairs_hook is None and not kw):\n\u001b[1;32m--> 318\u001b[1;33m         \u001b[1;32mreturn\u001b[0m \u001b[0m_default_decoder\u001b[0m\u001b[1;33m.\u001b[0m\u001b[0mdecode\u001b[0m\u001b[1;33m(\u001b[0m\u001b[0ms\u001b[0m\u001b[1;33m)\u001b[0m\u001b[1;33m\u001b[0m\u001b[0m\n\u001b[0m\u001b[0;32m    319\u001b[0m     \u001b[1;32mif\u001b[0m \u001b[0mcls\u001b[0m \u001b[1;32mis\u001b[0m \u001b[1;32mNone\u001b[0m\u001b[1;33m:\u001b[0m\u001b[1;33m\u001b[0m\u001b[0m\n\u001b[0;32m    320\u001b[0m         \u001b[0mcls\u001b[0m \u001b[1;33m=\u001b[0m \u001b[0mJSONDecoder\u001b[0m\u001b[1;33m\u001b[0m\u001b[0m\n",
      "\u001b[1;32m/usr/lib/python3.4/json/decoder.py\u001b[0m in \u001b[0;36mdecode\u001b[1;34m(self, s, _w)\u001b[0m\n\u001b[0;32m    341\u001b[0m \u001b[1;33m\u001b[0m\u001b[0m\n\u001b[0;32m    342\u001b[0m         \"\"\"\n\u001b[1;32m--> 343\u001b[1;33m         \u001b[0mobj\u001b[0m\u001b[1;33m,\u001b[0m \u001b[0mend\u001b[0m \u001b[1;33m=\u001b[0m \u001b[0mself\u001b[0m\u001b[1;33m.\u001b[0m\u001b[0mraw_decode\u001b[0m\u001b[1;33m(\u001b[0m\u001b[0ms\u001b[0m\u001b[1;33m,\u001b[0m \u001b[0midx\u001b[0m\u001b[1;33m=\u001b[0m\u001b[0m_w\u001b[0m\u001b[1;33m(\u001b[0m\u001b[0ms\u001b[0m\u001b[1;33m,\u001b[0m \u001b[1;36m0\u001b[0m\u001b[1;33m)\u001b[0m\u001b[1;33m.\u001b[0m\u001b[0mend\u001b[0m\u001b[1;33m(\u001b[0m\u001b[1;33m)\u001b[0m\u001b[1;33m)\u001b[0m\u001b[1;33m\u001b[0m\u001b[0m\n\u001b[0m\u001b[0;32m    344\u001b[0m         \u001b[0mend\u001b[0m \u001b[1;33m=\u001b[0m \u001b[0m_w\u001b[0m\u001b[1;33m(\u001b[0m\u001b[0ms\u001b[0m\u001b[1;33m,\u001b[0m \u001b[0mend\u001b[0m\u001b[1;33m)\u001b[0m\u001b[1;33m.\u001b[0m\u001b[0mend\u001b[0m\u001b[1;33m(\u001b[0m\u001b[1;33m)\u001b[0m\u001b[1;33m\u001b[0m\u001b[0m\n\u001b[0;32m    345\u001b[0m         \u001b[1;32mif\u001b[0m \u001b[0mend\u001b[0m \u001b[1;33m!=\u001b[0m \u001b[0mlen\u001b[0m\u001b[1;33m(\u001b[0m\u001b[0ms\u001b[0m\u001b[1;33m)\u001b[0m\u001b[1;33m:\u001b[0m\u001b[1;33m\u001b[0m\u001b[0m\n",
      "\u001b[1;32m/usr/lib/python3.4/json/decoder.py\u001b[0m in \u001b[0;36mraw_decode\u001b[1;34m(self, s, idx)\u001b[0m\n\u001b[0;32m    359\u001b[0m             \u001b[0mobj\u001b[0m\u001b[1;33m,\u001b[0m \u001b[0mend\u001b[0m \u001b[1;33m=\u001b[0m \u001b[0mself\u001b[0m\u001b[1;33m.\u001b[0m\u001b[0mscan_once\u001b[0m\u001b[1;33m(\u001b[0m\u001b[0ms\u001b[0m\u001b[1;33m,\u001b[0m \u001b[0midx\u001b[0m\u001b[1;33m)\u001b[0m\u001b[1;33m\u001b[0m\u001b[0m\n\u001b[0;32m    360\u001b[0m         \u001b[1;32mexcept\u001b[0m \u001b[0mStopIteration\u001b[0m \u001b[1;32mas\u001b[0m \u001b[0merr\u001b[0m\u001b[1;33m:\u001b[0m\u001b[1;33m\u001b[0m\u001b[0m\n\u001b[1;32m--> 361\u001b[1;33m             \u001b[1;32mraise\u001b[0m \u001b[0mValueError\u001b[0m\u001b[1;33m(\u001b[0m\u001b[0merrmsg\u001b[0m\u001b[1;33m(\u001b[0m\u001b[1;34m\"Expecting value\"\u001b[0m\u001b[1;33m,\u001b[0m \u001b[0ms\u001b[0m\u001b[1;33m,\u001b[0m \u001b[0merr\u001b[0m\u001b[1;33m.\u001b[0m\u001b[0mvalue\u001b[0m\u001b[1;33m)\u001b[0m\u001b[1;33m)\u001b[0m \u001b[1;32mfrom\u001b[0m \u001b[1;32mNone\u001b[0m\u001b[1;33m\u001b[0m\u001b[0m\n\u001b[0m\u001b[0;32m    362\u001b[0m         \u001b[1;32mreturn\u001b[0m \u001b[0mobj\u001b[0m\u001b[1;33m,\u001b[0m \u001b[0mend\u001b[0m\u001b[1;33m\u001b[0m\u001b[0m\n",
      "\u001b[1;31mValueError\u001b[0m: Expecting value: line 1 column 1 (char 0)"
     ]
    }
   ],
   "source": [
    "res06 = json.loads(res2006)"
   ]
  },
  {
   "cell_type": "code",
   "execution_count": 14,
   "metadata": {
    "collapsed": false
   },
   "outputs": [],
   "source": [
    "######### Code Taken from PA1 in CS122 - UNIVERSITY OF CHICAGO #########\n",
    "\n",
    "def get_request(url):\n",
    "    '''\n",
    "    Open a connection to the specified URL and if successful\n",
    "    read the data.\n",
    "    Inputs:\n",
    "        url: must be an absolute URL\n",
    "    Outputs:\n",
    "        request object or None\n",
    "    Examples:\n",
    "        get_request(\"http://www.cs.uchicago.edu\")\n",
    "    '''\n",
    "    try:\n",
    "        html = requests.get(url)\n",
    "        return html\n",
    "    except:\n",
    "        # fail on any kind of error\n",
    "        return None\n",
    "\n",
    "def read_request(request):\n",
    "    '''\n",
    "    Return data from request object.  Returns result or \"\" if the read\n",
    "    fails.\n",
    "    '''\n",
    "\n",
    "    try:\n",
    "        return request.text.encode('utf-8') # We change the encoding\n",
    "    except:\n",
    "        print (\"read failed: \" + request.url)\n",
    "        return \"\"\n",
    "\n",
    "####### END OF COPIED CODE  ########"
   ]
  },
  {
   "cell_type": "code",
   "execution_count": 52,
   "metadata": {
    "collapsed": true
   },
   "outputs": [],
   "source": [
    "req = get_request('https://api.oyez.org/cases?filter=term%3A2006&labels=true&page=0&per_page=0')"
   ]
  },
  {
   "cell_type": "code",
   "execution_count": 53,
   "metadata": {
    "collapsed": false
   },
   "outputs": [],
   "source": [
    "reques = read_request(req)"
   ]
  },
  {
   "cell_type": "code",
   "execution_count": 71,
   "metadata": {
    "collapsed": false
   },
   "outputs": [],
   "source": [
    "cases2006 = req.json()"
   ]
  },
  {
   "cell_type": "code",
   "execution_count": 72,
   "metadata": {
    "collapsed": false
   },
   "outputs": [],
   "source": [
    "with open ('case2006', 'w') as f:\n",
    "    json.dump(cases2006, f)"
   ]
  },
  {
   "cell_type": "code",
   "execution_count": 73,
   "metadata": {
    "collapsed": true
   },
   "outputs": [],
   "source": [
    "with open ('case2006', 'r') as f:\n",
    "    c06 = json.load(f)"
   ]
  },
  {
   "cell_type": "code",
   "execution_count": 85,
   "metadata": {
    "collapsed": false
   },
   "outputs": [
    {
     "data": {
      "text/plain": [
       "'06-7317'"
      ]
     },
     "execution_count": 85,
     "metadata": {},
     "output_type": "execute_result"
    }
   ],
   "source": [
    "c06[0]['docket_number']"
   ]
  },
  {
   "cell_type": "code",
   "execution_count": 89,
   "metadata": {
    "collapsed": false
   },
   "outputs": [
    {
     "data": {
      "text/plain": [
       "10"
      ]
     },
     "execution_count": 89,
     "metadata": {},
     "output_type": "execute_result"
    }
   ],
   "source": [
    "len(c06[0])"
   ]
  },
  {
   "cell_type": "code",
   "execution_count": 81,
   "metadata": {
    "collapsed": false
   },
   "outputs": [],
   "source": [
    "case00 = get_request(c06[0]['href']).json()"
   ]
  },
  {
   "cell_type": "code",
   "execution_count": 82,
   "metadata": {
    "collapsed": false
   },
   "outputs": [
    {
     "data": {
      "text/plain": [
       "{'ID': 55377,\n",
       " 'additional_docket_numbers': None,\n",
       " 'advocates': None,\n",
       " 'citation': {'href': 'https://api.oyez.org/case_citation/case_citation/19302',\n",
       "  'page': '89',\n",
       "  'volume': '551',\n",
       "  'year': '2007'},\n",
       " 'conclusion': '<p>In a per curiam opinion, the Court held that a plaintiff can demonstrate that he has suffered harm as a result of being denied medical treatment. The plaintiff must be able to allege that harm was caused sufficient enough to meet the pleading standard by ending his medical treatment. In this case, Erickson was able to make specific claims, that were more than conclusory statements, that supported his claim that refusing his medical treatment had caused him substantial harm that was independent from the harm the disease itself caused. The Court remanded the decision for further review.</p>\\n<p>Justice Clarence Thomas wrote a dissenting opinion in which he argued that a plaintiff cannot claim that exposure to the risk of harm violates the Eighth Amendment. Rather, Thomas suggests that the plaintiff would have to actually experience harm before he can allege a violation of his Eighth Amendment rights.</p>\\n<p>Justice Antonin Scalia would have denied the petition for the writ of certiorari.</p>\\n',\n",
       " 'decided_by': {'ID': 15149,\n",
       "  'court_start': 1138687200,\n",
       "  'href': 'https://api.oyez.org/courts/roberts2',\n",
       "  'identifier': 'roberts2',\n",
       "  'images': [{'href': 'https://api.oyez.org/sites/default/files/images/courts/large/roberts_court_2006-2009.jpg',\n",
       "    'id': 12234,\n",
       "    'mime': 'image/jpeg',\n",
       "    'size': 70439}],\n",
       "  'members': [{'ID': 15086,\n",
       "    'href': 'https://api.oyez.org/people/john_g_roberts_jr',\n",
       "    'identifier': 'john_g_roberts_jr',\n",
       "    'last_name': 'Roberts',\n",
       "    'length_of_service': 3702,\n",
       "    'name': 'John G. Roberts, Jr.',\n",
       "    'roles': [{'appointing_president': 'George W. Bush',\n",
       "      'date_end': 0,\n",
       "      'date_start': 1127970000,\n",
       "      'href': 'https://api.oyez.org/preson_role/scotus_justice/2730',\n",
       "      'id': 2730,\n",
       "      'institution_name': 'Supreme Court of the United States',\n",
       "      'role_title': 'Chief Justice of the United States',\n",
       "      'type': 'scotus_justice'}],\n",
       "    'thumbnail': {'href': 'https://api.oyez.org/sites/default/files/john_g_roberts_jr_0.png',\n",
       "     'id': 32683,\n",
       "     'mime': 'image/png',\n",
       "     'size': 52305},\n",
       "    'view_count': 80},\n",
       "   {'ID': 15060,\n",
       "    'href': 'https://api.oyez.org/people/john_paul_stevens',\n",
       "    'identifier': 'john_paul_stevens',\n",
       "    'last_name': 'Stevens',\n",
       "    'length_of_service': 12611,\n",
       "    'name': 'John Paul Stevens',\n",
       "    'roles': [{'appointing_president': 'Gerald Ford',\n",
       "      'date_end': 1277787600,\n",
       "      'date_start': 188200800,\n",
       "      'href': 'https://api.oyez.org/preson_role/scotus_justice/2704',\n",
       "      'id': 2704,\n",
       "      'institution_name': 'Supreme Court of the United States',\n",
       "      'role_title': 'Associate Justice of the Supreme Court of the United States',\n",
       "      'type': 'scotus_justice'}],\n",
       "    'thumbnail': {'href': 'https://api.oyez.org/sites/default/files/john_paul_stevens.png',\n",
       "     'id': 32732,\n",
       "     'mime': 'image/png',\n",
       "     'size': 62101},\n",
       "    'view_count': 0},\n",
       "   {'ID': 15049,\n",
       "    'href': 'https://api.oyez.org/people/antonin_scalia',\n",
       "    'identifier': 'antonin_scalia',\n",
       "    'last_name': 'Scalia',\n",
       "    'length_of_service': 10732,\n",
       "    'name': 'Antonin Scalia',\n",
       "    'roles': [{'appointing_president': 'Ronald Reagan',\n",
       "      'date_end': 1455343200,\n",
       "      'date_start': 528094800,\n",
       "      'href': 'https://api.oyez.org/preson_role/scotus_justice/2693',\n",
       "      'id': 2693,\n",
       "      'institution_name': 'Supreme Court of the United States',\n",
       "      'role_title': 'Associate Justice of the Supreme Court of the United States',\n",
       "      'type': 'scotus_justice'}],\n",
       "    'thumbnail': {'href': 'https://api.oyez.org/sites/default/files/antonin_scalia_0.png',\n",
       "     'id': 32678,\n",
       "     'mime': 'image/png',\n",
       "     'size': 58944},\n",
       "    'view_count': 77},\n",
       "   {'ID': 15113,\n",
       "    'href': 'https://api.oyez.org/people/anthony_m_kennedy',\n",
       "    'identifier': 'anthony_m_kennedy',\n",
       "    'last_name': 'Kennedy',\n",
       "    'length_of_service': 10147,\n",
       "    'name': 'Anthony M. Kennedy',\n",
       "    'roles': [{'appointing_president': 'Ronald Reagan',\n",
       "      'date_end': 0,\n",
       "      'date_start': 572162400,\n",
       "      'href': 'https://api.oyez.org/preson_role/scotus_justice/2757',\n",
       "      'id': 2757,\n",
       "      'institution_name': 'Supreme Court of the United States',\n",
       "      'role_title': 'Associate Justice of the Supreme Court of the United States',\n",
       "      'type': 'scotus_justice'}],\n",
       "    'thumbnail': {'href': 'https://api.oyez.org/sites/default/files/anthony_kennedy_1_3.png',\n",
       "     'id': 32679,\n",
       "     'mime': 'image/png',\n",
       "     'size': 47100},\n",
       "    'view_count': 65},\n",
       "   {'ID': 15042,\n",
       "    'href': 'https://api.oyez.org/people/david_h_souter',\n",
       "    'identifier': 'david_h_souter',\n",
       "    'last_name': 'Souter',\n",
       "    'length_of_service': 6839,\n",
       "    'name': 'David H. Souter',\n",
       "    'roles': [{'appointing_president': 'George H. W. Bush',\n",
       "      'date_end': 1246251600,\n",
       "      'date_start': 655362000,\n",
       "      'href': 'https://api.oyez.org/preson_role/scotus_justice/2686',\n",
       "      'id': 2686,\n",
       "      'institution_name': 'Supreme Court of the United States',\n",
       "      'role_title': 'Associate Justice of the Supreme Court of the United States',\n",
       "      'type': 'scotus_justice'}],\n",
       "    'thumbnail': {'href': 'https://api.oyez.org/sites/default/files/david_souter.png',\n",
       "     'id': 32703,\n",
       "     'mime': 'image/png',\n",
       "     'size': 42141},\n",
       "    'view_count': 0},\n",
       "   {'ID': 15100,\n",
       "    'href': 'https://api.oyez.org/people/clarence_thomas',\n",
       "    'identifier': 'clarence_thomas',\n",
       "    'last_name': 'Thomas',\n",
       "    'length_of_service': 8870,\n",
       "    'name': 'Clarence Thomas',\n",
       "    'roles': [{'appointing_president': 'George H. W. Bush',\n",
       "      'date_end': 0,\n",
       "      'date_start': 688194000,\n",
       "      'href': 'https://api.oyez.org/preson_role/scotus_justice/2744',\n",
       "      'id': 2744,\n",
       "      'institution_name': 'Supreme Court of the United States',\n",
       "      'role_title': 'Associate Justice of the Supreme Court of the United States',\n",
       "      'type': 'scotus_justice'}],\n",
       "    'thumbnail': {'href': 'https://api.oyez.org/sites/default/files/clarence_thomas.png',\n",
       "     'id': 32680,\n",
       "     'mime': 'image/png',\n",
       "     'size': 49064},\n",
       "    'view_count': 71},\n",
       "   {'ID': 15084,\n",
       "    'href': 'https://api.oyez.org/people/ruth_bader_ginsburg',\n",
       "    'identifier': 'ruth_bader_ginsburg',\n",
       "    'last_name': 'Ginsburg',\n",
       "    'length_of_service': 8135,\n",
       "    'name': 'Ruth Bader Ginsburg',\n",
       "    'roles': [{'appointing_president': 'Bill Clinton',\n",
       "      'date_end': 0,\n",
       "      'date_start': 744958800,\n",
       "      'href': 'https://api.oyez.org/preson_role/scotus_justice/2728',\n",
       "      'id': 2728,\n",
       "      'institution_name': 'Supreme Court of the United States',\n",
       "      'role_title': 'Associate Justice of the Supreme Court of the United States',\n",
       "      'type': 'scotus_justice'}],\n",
       "    'thumbnail': {'href': 'https://api.oyez.org/sites/default/files/ruth_bader_ginsburg_1_0.png',\n",
       "     'id': 32681,\n",
       "     'mime': 'image/png',\n",
       "     'size': 45030},\n",
       "    'view_count': 58},\n",
       "   {'ID': 15139,\n",
       "    'href': 'https://api.oyez.org/people/stephen_g_breyer',\n",
       "    'identifier': 'stephen_g_breyer',\n",
       "    'last_name': 'Breyer',\n",
       "    'length_of_service': 7777,\n",
       "    'name': 'Stephen G. Breyer',\n",
       "    'roles': [{'appointing_president': 'Bill Clinton',\n",
       "      'date_end': 0,\n",
       "      'date_start': 775890000,\n",
       "      'href': 'https://api.oyez.org/preson_role/scotus_justice/2785',\n",
       "      'id': 2785,\n",
       "      'institution_name': 'Supreme Court of the United States',\n",
       "      'role_title': 'Associate Justice of the Supreme Court of the United States',\n",
       "      'type': 'scotus_justice'}],\n",
       "    'thumbnail': {'href': 'https://api.oyez.org/sites/default/files/stephen_g_breyer_0.png',\n",
       "     'id': 32682,\n",
       "     'mime': 'image/png',\n",
       "     'size': 49908},\n",
       "    'view_count': 0},\n",
       "   {'ID': 15068,\n",
       "    'href': 'https://api.oyez.org/people/samuel_alito_jr',\n",
       "    'identifier': 'samuel_alito_jr',\n",
       "    'last_name': 'Alito',\n",
       "    'length_of_service': 3531,\n",
       "    'name': 'Samuel A. Alito, Jr.',\n",
       "    'roles': [{'appointing_president': 'George W. Bush',\n",
       "      'date_end': 0,\n",
       "      'date_start': 1138687200,\n",
       "      'href': 'https://api.oyez.org/preson_role/scotus_justice/2712',\n",
       "      'id': 2712,\n",
       "      'institution_name': 'Supreme Court of the United States',\n",
       "      'role_title': 'Associate Justice of the Supreme Court of the United States',\n",
       "      'type': 'scotus_justice'}],\n",
       "    'thumbnail': {'href': 'https://api.oyez.org/sites/default/files/samuel_a_alito_jr_1.png',\n",
       "     'id': 32684,\n",
       "     'mime': 'image/png',\n",
       "     'size': 44799},\n",
       "    'view_count': 0}],\n",
       "  'name': 'Roberts Court (2006-2009)',\n",
       "  'view_count': 0},\n",
       " 'decisions': [{'decision_type': 'per curiam',\n",
       "   'description': 'A plaintiff can sufficiently allege suffering substantial harm by being denied medical treatment while incarcerated for a claim under 42 U.S.C 1983.',\n",
       "   'href': 'https://api.oyez.org/case_decision/case_decision/13398',\n",
       "   'majority_vote': 0,\n",
       "   'minority_vote': 2,\n",
       "   'votes': [{'href': 'https://api.oyez.org/decision_vote/decision_vote/178851',\n",
       "     'ideology': -2.491,\n",
       "     'joining': None,\n",
       "     'member': {'ID': 15060,\n",
       "      'href': 'https://api.oyez.org/people/john_paul_stevens',\n",
       "      'identifier': 'john_paul_stevens',\n",
       "      'last_name': 'Stevens',\n",
       "      'length_of_service': 12611,\n",
       "      'name': 'John Paul Stevens',\n",
       "      'roles': [{'appointing_president': 'Gerald Ford',\n",
       "        'date_end': 1277787600,\n",
       "        'date_start': 188200800,\n",
       "        'href': 'https://api.oyez.org/preson_role/scotus_justice/2704',\n",
       "        'id': 2704,\n",
       "        'institution_name': 'Supreme Court of the United States',\n",
       "        'role_title': 'Associate Justice of the Supreme Court of the United States',\n",
       "        'type': 'scotus_justice'}],\n",
       "      'thumbnail': {'href': 'https://api.oyez.org/sites/default/files/john_paul_stevens.png',\n",
       "       'id': 32732,\n",
       "       'mime': 'image/png',\n",
       "       'size': 62101},\n",
       "      'view_count': 0},\n",
       "     'opinion_type': 'none',\n",
       "     'seniority': 2,\n",
       "     'vote': 'none'},\n",
       "    {'href': 'https://api.oyez.org/decision_vote/decision_vote/178852',\n",
       "     'ideology': 0.413,\n",
       "     'joining': None,\n",
       "     'member': {'ID': 15113,\n",
       "      'href': 'https://api.oyez.org/people/anthony_m_kennedy',\n",
       "      'identifier': 'anthony_m_kennedy',\n",
       "      'last_name': 'Kennedy',\n",
       "      'length_of_service': 10147,\n",
       "      'name': 'Anthony M. Kennedy',\n",
       "      'roles': [{'appointing_president': 'Ronald Reagan',\n",
       "        'date_end': 0,\n",
       "        'date_start': 572162400,\n",
       "        'href': 'https://api.oyez.org/preson_role/scotus_justice/2757',\n",
       "        'id': 2757,\n",
       "        'institution_name': 'Supreme Court of the United States',\n",
       "        'role_title': 'Associate Justice of the Supreme Court of the United States',\n",
       "        'type': 'scotus_justice'}],\n",
       "      'thumbnail': {'href': 'https://api.oyez.org/sites/default/files/anthony_kennedy_1_3.png',\n",
       "       'id': 32679,\n",
       "       'mime': 'image/png',\n",
       "       'size': 47100},\n",
       "      'view_count': 65},\n",
       "     'opinion_type': 'none',\n",
       "     'seniority': 4,\n",
       "     'vote': 'none'},\n",
       "    {'href': 'https://api.oyez.org/decision_vote/decision_vote/178853',\n",
       "     'ideology': -1.482,\n",
       "     'joining': None,\n",
       "     'member': {'ID': 15042,\n",
       "      'href': 'https://api.oyez.org/people/david_h_souter',\n",
       "      'identifier': 'david_h_souter',\n",
       "      'last_name': 'Souter',\n",
       "      'length_of_service': 6839,\n",
       "      'name': 'David H. Souter',\n",
       "      'roles': [{'appointing_president': 'George H. W. Bush',\n",
       "        'date_end': 1246251600,\n",
       "        'date_start': 655362000,\n",
       "        'href': 'https://api.oyez.org/preson_role/scotus_justice/2686',\n",
       "        'id': 2686,\n",
       "        'institution_name': 'Supreme Court of the United States',\n",
       "        'role_title': 'Associate Justice of the Supreme Court of the United States',\n",
       "        'type': 'scotus_justice'}],\n",
       "      'thumbnail': {'href': 'https://api.oyez.org/sites/default/files/david_souter.png',\n",
       "       'id': 32703,\n",
       "       'mime': 'image/png',\n",
       "       'size': 42141},\n",
       "      'view_count': 0},\n",
       "     'opinion_type': 'none',\n",
       "     'seniority': 5,\n",
       "     'vote': 'none'},\n",
       "    {'href': 'https://api.oyez.org/decision_vote/decision_vote/178854',\n",
       "     'ideology': 3.979,\n",
       "     'joining': None,\n",
       "     'member': {'ID': 15100,\n",
       "      'href': 'https://api.oyez.org/people/clarence_thomas',\n",
       "      'identifier': 'clarence_thomas',\n",
       "      'last_name': 'Thomas',\n",
       "      'length_of_service': 8870,\n",
       "      'name': 'Clarence Thomas',\n",
       "      'roles': [{'appointing_president': 'George H. W. Bush',\n",
       "        'date_end': 0,\n",
       "        'date_start': 688194000,\n",
       "        'href': 'https://api.oyez.org/preson_role/scotus_justice/2744',\n",
       "        'id': 2744,\n",
       "        'institution_name': 'Supreme Court of the United States',\n",
       "        'role_title': 'Associate Justice of the Supreme Court of the United States',\n",
       "        'type': 'scotus_justice'}],\n",
       "      'thumbnail': {'href': 'https://api.oyez.org/sites/default/files/clarence_thomas.png',\n",
       "       'id': 32680,\n",
       "       'mime': 'image/png',\n",
       "       'size': 49064},\n",
       "      'view_count': 71},\n",
       "     'opinion_type': 'dissent',\n",
       "     'seniority': 6,\n",
       "     'vote': 'minority'},\n",
       "    {'href': 'https://api.oyez.org/decision_vote/decision_vote/178855',\n",
       "     'ideology': -1.579,\n",
       "     'joining': None,\n",
       "     'member': {'ID': 15084,\n",
       "      'href': 'https://api.oyez.org/people/ruth_bader_ginsburg',\n",
       "      'identifier': 'ruth_bader_ginsburg',\n",
       "      'last_name': 'Ginsburg',\n",
       "      'length_of_service': 8135,\n",
       "      'name': 'Ruth Bader Ginsburg',\n",
       "      'roles': [{'appointing_president': 'Bill Clinton',\n",
       "        'date_end': 0,\n",
       "        'date_start': 744958800,\n",
       "        'href': 'https://api.oyez.org/preson_role/scotus_justice/2728',\n",
       "        'id': 2728,\n",
       "        'institution_name': 'Supreme Court of the United States',\n",
       "        'role_title': 'Associate Justice of the Supreme Court of the United States',\n",
       "        'type': 'scotus_justice'}],\n",
       "      'thumbnail': {'href': 'https://api.oyez.org/sites/default/files/ruth_bader_ginsburg_1_0.png',\n",
       "       'id': 32681,\n",
       "       'mime': 'image/png',\n",
       "       'size': 45030},\n",
       "      'view_count': 58},\n",
       "     'opinion_type': 'none',\n",
       "     'seniority': 7,\n",
       "     'vote': 'none'},\n",
       "    {'href': 'https://api.oyez.org/decision_vote/decision_vote/178856',\n",
       "     'ideology': -1.509,\n",
       "     'joining': None,\n",
       "     'member': {'ID': 15139,\n",
       "      'href': 'https://api.oyez.org/people/stephen_g_breyer',\n",
       "      'identifier': 'stephen_g_breyer',\n",
       "      'last_name': 'Breyer',\n",
       "      'length_of_service': 7777,\n",
       "      'name': 'Stephen G. Breyer',\n",
       "      'roles': [{'appointing_president': 'Bill Clinton',\n",
       "        'date_end': 0,\n",
       "        'date_start': 775890000,\n",
       "        'href': 'https://api.oyez.org/preson_role/scotus_justice/2785',\n",
       "        'id': 2785,\n",
       "        'institution_name': 'Supreme Court of the United States',\n",
       "        'role_title': 'Associate Justice of the Supreme Court of the United States',\n",
       "        'type': 'scotus_justice'}],\n",
       "      'thumbnail': {'href': 'https://api.oyez.org/sites/default/files/stephen_g_breyer_0.png',\n",
       "       'id': 32682,\n",
       "       'mime': 'image/png',\n",
       "       'size': 49908},\n",
       "      'view_count': 0},\n",
       "     'opinion_type': 'none',\n",
       "     'seniority': 8,\n",
       "     'vote': 'none'},\n",
       "    {'href': 'https://api.oyez.org/decision_vote/decision_vote/178857',\n",
       "     'ideology': 1.528,\n",
       "     'joining': None,\n",
       "     'member': {'ID': 15086,\n",
       "      'href': 'https://api.oyez.org/people/john_g_roberts_jr',\n",
       "      'identifier': 'john_g_roberts_jr',\n",
       "      'last_name': 'Roberts',\n",
       "      'length_of_service': 3702,\n",
       "      'name': 'John G. Roberts, Jr.',\n",
       "      'roles': [{'appointing_president': 'George W. Bush',\n",
       "        'date_end': 0,\n",
       "        'date_start': 1127970000,\n",
       "        'href': 'https://api.oyez.org/preson_role/scotus_justice/2730',\n",
       "        'id': 2730,\n",
       "        'institution_name': 'Supreme Court of the United States',\n",
       "        'role_title': 'Chief Justice of the United States',\n",
       "        'type': 'scotus_justice'}],\n",
       "      'thumbnail': {'href': 'https://api.oyez.org/sites/default/files/john_g_roberts_jr_0.png',\n",
       "       'id': 32683,\n",
       "       'mime': 'image/png',\n",
       "       'size': 52305},\n",
       "      'view_count': 80},\n",
       "     'opinion_type': 'none',\n",
       "     'seniority': 1,\n",
       "     'vote': 'none'},\n",
       "    {'href': 'https://api.oyez.org/decision_vote/decision_vote/178858',\n",
       "     'ideology': 1.575,\n",
       "     'joining': None,\n",
       "     'member': {'ID': 15068,\n",
       "      'href': 'https://api.oyez.org/people/samuel_alito_jr',\n",
       "      'identifier': 'samuel_alito_jr',\n",
       "      'last_name': 'Alito',\n",
       "      'length_of_service': 3531,\n",
       "      'name': 'Samuel A. Alito, Jr.',\n",
       "      'roles': [{'appointing_president': 'George W. Bush',\n",
       "        'date_end': 0,\n",
       "        'date_start': 1138687200,\n",
       "        'href': 'https://api.oyez.org/preson_role/scotus_justice/2712',\n",
       "        'id': 2712,\n",
       "        'institution_name': 'Supreme Court of the United States',\n",
       "        'role_title': 'Associate Justice of the Supreme Court of the United States',\n",
       "        'type': 'scotus_justice'}],\n",
       "      'thumbnail': {'href': 'https://api.oyez.org/sites/default/files/samuel_a_alito_jr_1.png',\n",
       "       'id': 32684,\n",
       "       'mime': 'image/png',\n",
       "       'size': 44799},\n",
       "      'view_count': 0},\n",
       "     'opinion_type': 'none',\n",
       "     'seniority': 9,\n",
       "     'vote': 'none'},\n",
       "    {'href': 'https://api.oyez.org/decision_vote/decision_vote/206643',\n",
       "     'ideology': 2.631,\n",
       "     'joining': None,\n",
       "     'member': {'ID': 15049,\n",
       "      'href': 'https://api.oyez.org/people/antonin_scalia',\n",
       "      'identifier': 'antonin_scalia',\n",
       "      'last_name': 'Scalia',\n",
       "      'length_of_service': 10732,\n",
       "      'name': 'Antonin Scalia',\n",
       "      'roles': [{'appointing_president': 'Ronald Reagan',\n",
       "        'date_end': 1455343200,\n",
       "        'date_start': 528094800,\n",
       "        'href': 'https://api.oyez.org/preson_role/scotus_justice/2693',\n",
       "        'id': 2693,\n",
       "        'institution_name': 'Supreme Court of the United States',\n",
       "        'role_title': 'Associate Justice of the Supreme Court of the United States',\n",
       "        'type': 'scotus_justice'}],\n",
       "      'thumbnail': {'href': 'https://api.oyez.org/sites/default/files/antonin_scalia_0.png',\n",
       "       'id': 32678,\n",
       "       'mime': 'image/png',\n",
       "       'size': 58944},\n",
       "      'view_count': 77},\n",
       "     'opinion_type': 'none',\n",
       "     'seniority': 3,\n",
       "     'vote': 'minority'}],\n",
       "   'winning_party': 'Erickson'}],\n",
       " 'description': 'A case in which the Court decided that a plaintiff can sufficiently allege that he suffered substantial harm by being denied medical treatment while incarcerated for the purpose of a claim under 42 U.S.C 1983.',\n",
       " 'docket_number': '06-7317',\n",
       " 'facts_of_the_case': '<p>William Erickson was diagnosed with Hepatitis C while imprisoned at Limon Correctional Facility in Limon, Colorado. He was prescribed medication to be administered via injection. One of the syringes he used for injection went missing from the medical center of the correctional facility and was later found in a communal trash can. Erickson was accused of stealing the syringe and utilizing it for illegal drug use, after which he was denied further treatment. Erickson sued prison medical officials under 42 U.S.C. 1983 and argued that the refusal of medical treatment violated his Eighth Amendment rights because he was suffering liver damage and threat of death by not being treated for Hepatitis C. The trial court dismissed Erickson’s suit on the grounds that he could not prove he was suffering substantial harm because he was being denied medical treatment. The U.S. Court of Appeals for the Tenth Circuit affirmed.</p>\\n',\n",
       " 'first_party': 'William Erickson',\n",
       " 'first_party_label': 'Petitioner',\n",
       " 'heard_by': [None],\n",
       " 'href': 'https://api.oyez.org/cases/2006/06-7317',\n",
       " 'location': {'city': 'Limon',\n",
       "  'latitude': 39.216639,\n",
       "  'longitude': -103.695728,\n",
       "  'name': 'Limon Correctional Facility',\n",
       "  'postal_code': None,\n",
       "  'province': 'CO',\n",
       "  'province_name': 'Colorado',\n",
       "  'street': '49030 CO-71'},\n",
       " 'lower_court': {'ID': 14,\n",
       "  'href': 'https://api.oyez.org/taxonomy/term/14',\n",
       "  'name': 'United States Court of Appeals for the Tenth Circuit'},\n",
       " 'manner_of_jurisdiction': 'Writ of <i>certiorari</i>',\n",
       " 'name': 'Erickson v. Pardus',\n",
       " 'opinion_announcement': None,\n",
       " 'oral_argument_audio': None,\n",
       " 'question': '<p>Can a plaintiff properly allege he suffered substantial harm as a result of being denied medical treatment while incarcerated for the purposes of a claim under 42 U.S.C. 1983?</p>\\n',\n",
       " 'related_cases': None,\n",
       " 'second_party': 'Barry J. Pardus, et al.',\n",
       " 'second_party_label': 'Respondent',\n",
       " 'term': '2006',\n",
       " 'timeline': [{'dates': [1180933200],\n",
       "   'event': 'Decided',\n",
       "   'href': 'https://api.oyez.org/case_timeline/case_timeline/39656'},\n",
       "  {'dates': [1180933200],\n",
       "   'event': 'Granted',\n",
       "   'href': 'https://api.oyez.org/case_timeline/case_timeline/53425'}],\n",
       " 'view_count': 0,\n",
       " 'written_opinion': None}"
      ]
     },
     "execution_count": 82,
     "metadata": {},
     "output_type": "execute_result"
    }
   ],
   "source": [
    "case00"
   ]
  },
  {
   "cell_type": "code",
   "execution_count": 33,
   "metadata": {
    "collapsed": true
   },
   "outputs": [],
   "source": [
    "url = 'http://www.oyez.org/cases/2014/13-352'"
   ]
  },
  {
   "cell_type": "code",
   "execution_count": 20,
   "metadata": {
    "collapsed": true
   },
   "outputs": [],
   "source": [
    "from lxml import html\n",
    "import requests\n",
    "page = requests.get(url)\n",
    "tree = html.fromstring(page.content)"
   ]
  },
  {
   "cell_type": "code",
   "execution_count": 34,
   "metadata": {
    "collapsed": false
   },
   "outputs": [
    {
     "data": {
      "text/plain": [
       "<a href=\"https://www.facebook.com/OyezProject\" target=\"_blank\"> <figure> <img src=\"images/social/facebook.9113026b.svg\"/> <figcaption>Facebook</figcaption> </figure> </a>"
      ]
     },
     "execution_count": 34,
     "metadata": {},
     "output_type": "execute_result"
    }
   ],
   "source": [
    "import dryscrape\n",
    "from bs4 import BeautifulSoup\n",
    "sess = dryscrape.Session()\n",
    "sess.visit(url)\n",
    "response = sess.body()\n",
    "soup = BeautifulSoup(response)\n",
    "soup.find('a')"
   ]
  },
  {
   "cell_type": "code",
   "execution_count": 42,
   "metadata": {
    "collapsed": false
   },
   "outputs": [
    {
     "data": {
      "text/plain": [
       "'<!DOCTYPE html><html class=\"js flexbox flexboxlegacy canvas canvastext webgl touch no-geolocation postmessage websqldatabase no-indexeddb hashchange history draganddrop websockets rgba hsla multiplebgs backgroundsize borderimage borderradius boxshadow textshadow opacity cssanimations csscolumns cssgradients cssreflections csstransforms no-csstransforms3d csstransitions fontface generatedcontent video audio localstorage sessionstorage webworkers applicationcache svg inlinesvg smil svgclippaths ng-scope\" data-ng-app=\"oyezorgApp\"><head ng-controller=\"OyHeadCtrl\" class=\"ng-scope\"><style type=\"text/css\">@charset \"UTF-8\";[ng\\\\:cloak],[ng-cloak],[data-ng-cloak],[x-ng-cloak],.ng-cloak,.x-ng-cloak,.ng-hide:not(.ng-hide-animate){display:none !important;}ng\\\\:form{display:block;}</style> <meta charset=\"utf-8\"> <title class=\"ng-binding\">Oyez</title> <base href=\"/index.html\"> <meta name=\"description\" content=\"A multimedia judicial archive of the Supreme Court of the United States.\"> <meta name=\"viewport\" content=\"width=device-width,user-scalable=0\"> <meta name=\"fragment\" content=\"!\"> <meta property=\"og:title\" content=\"\"> <meta property=\"og:site_name\" content=\"Oyez\"> <meta property=\"og:description\" contet=\"A multimedia judicial archive of the Supreme Court of the United States.\"> <meta property=\"og:locale\" content=\"en_US\"> <meta property=\"fb:app_id\" content=\"131510300343784\"> <!-- Place favicon.ico and apple-touch-icon.png in the root directory --> <link rel=\"stylesheet\" href=\"styles/vendor.724e8f17.css\"> <link rel=\"stylesheet\" href=\"styles/main.b51b95e6.css\">  </head><body eui-index=\"node\" ng-controller=\"OyPageCtrl\" ng-class=\"{home: isHome(), \\'not-home\\': (! isHome())}\" class=\"ng-scope not-home\"> <!--[if lte IE 9]>\\n      <p class=\"browsehappy\">You are using an <strong>outdated</strong> browser no longer supported by Oyez. Please <a href=\"http://browsehappy.com/\">upgrade your browser</a> to improve your experience.</p>\\n    <![endif]--> <!-- Add your site or application content here --> <div class=\"container off-canvas-wrap ng-isolate-scope\"> <div class=\"inner-wrap\"> <div class=\"oy-overhead\"> <div class=\"social-wrapper\"> <ul class=\"inline\"> <li> <a href=\"https://www.facebook.com/OyezProject\" target=\"_blank\"> <figure> <img src=\"images/social/facebook.9113026b.svg\"> <figcaption>Facebook</figcaption> </figure> </a> </li> <li> <a href=\"https://www.twitter.com/oyez\" target=\"_blank\"> <figure> <img src=\"images/social/twitter.b33470d3.svg\"> <figcaption>Twitter</figcaption> </figure> </a> </li> <li> <a href=\"https://itunes.apple.com/us/artist/oyez/id1035429757\" target=\"_blank\"> <figure> <img src=\"images/social/podcast.a9cac090.svg\"> <figcaption>Podcasts</figcaption> </figure> </a> </li> <li> <a href=\"http://eepurl.com/bxj3gv\" target=\"_blank\"> <figure> <img src=\"images/social/subscribe.f83564f5.svg\"> <figcaption>Subscribe</figcaption> </figure> </a> </li> <li> <a href=\"https://alumni.kentlaw.iit.edu/donate/oyez-project\" target=\"_blank\"> <figure> <img src=\"images/social/support_alt.5f177279.svg\"> <figcaption>Support&nbsp;Oyez</figcaption> </figure> </a> </li> </ul> </div> <div class=\"search-wrapper\"> <div class=\"oy-search-bar ng-isolate-scope\"> <input type=\"search\" ng-model=\"query\" ng-keypress=\"onKeypress($event)\" placeholder=\"Search\" class=\"ng-pristine ng-untouched ng-valid\"> </div> </div> </div> <div class=\"oy-navigation\"> <!-- Overhead navigation bar, for large screens --> <div class=\"nav-bar\"> <div class=\"inner\"> <h1 class=\"logo\"><a ng-href=\"/\" href=\"/\"> <img ng-src=\"images/nav/logo_black.9bdd2910.png\" alt=\"Oyez\" src=\"images/nav/logo_black.9bdd2910.png\"> </a></h1> <nav><ul> <!-- ngRepeat: link in navLinks --><li ng-repeat=\"link in navLinks\" class=\"cases\"> <a ng-href=\"cases\" href=\"cases\"> <span class=\"icon\"></span> <span class=\"caption ng-binding\" ng-bind-html=\"link.caption\">Cases</span> </a> </li><!-- end ngRepeat: link in navLinks --><li ng-repeat=\"link in navLinks\" class=\"justices\"> <a ng-href=\"justices\" href=\"justices\"> <span class=\"icon\"></span> <span class=\"caption ng-binding\" ng-bind-html=\"link.caption\">Justices</span> </a> </li><!-- end ngRepeat: link in navLinks --><li ng-repeat=\"link in navLinks\" class=\"tour\"> <a ng-href=\"tour\" href=\"tour\"> <span class=\"icon\"></span> <span class=\"caption ng-binding\" ng-bind-html=\"link.caption\">Tour</span> </a> </li><!-- end ngRepeat: link in navLinks --><li ng-repeat=\"link in navLinks\" class=\"iscotus\"> <a ng-href=\"http://now.iscotus.org/\" href=\"http://now.iscotus.org/\"> <span class=\"icon\"></span> <span class=\"caption ng-binding\" ng-bind-html=\"link.caption\">News</span> </a> </li><!-- end ngRepeat: link in navLinks --> </ul></nav> </div> </div> <!-- Off-canvas navigation, for small screens --> <div class=\"off-canvas-nav\"> <div class=\"tab-bar\"> <section class=\"left-small\"> <a class=\"left-off-canvas-toggle\"><span class=\"left-menu\">&nbsp;</span></a> </section> <section class=\"middle tab-bar-section\"> <h1 class=\"logo\"><a ng-href=\"/\" href=\"/\"> <img ng-src=\"images/nav/logo_white.2226135f.png\" alt=\"Oyez\" src=\"images/nav/logo_white.2226135f.png\"> </a></h1> </section> </div> <nav class=\"left-off-canvas-menu\"> <ul class=\"off-canvas-list\"> <!-- ngRepeat: link in navLinks --><li ng-repeat=\"link in navLinks\" class=\"cases\"> <a ng-href=\"cases\" href=\"cases\"> <span class=\"icon\"></span> <span class=\"caption ng-binding\" ng-bind-html=\"link.caption\">Cases</span> </a> </li><!-- end ngRepeat: link in navLinks --><li ng-repeat=\"link in navLinks\" class=\"justices\"> <a ng-href=\"justices\" href=\"justices\"> <span class=\"icon\"></span> <span class=\"caption ng-binding\" ng-bind-html=\"link.caption\">Justices</span> </a> </li><!-- end ngRepeat: link in navLinks --><li ng-repeat=\"link in navLinks\" class=\"tour\"> <a ng-href=\"tour\" href=\"tour\"> <span class=\"icon\"></span> <span class=\"caption ng-binding\" ng-bind-html=\"link.caption\">Tour</span> </a> </li><!-- end ngRepeat: link in navLinks --><li ng-repeat=\"link in navLinks\" class=\"iscotus\"> <a ng-href=\"http://now.iscotus.org/\" href=\"http://now.iscotus.org/\"> <span class=\"icon\"></span> <span class=\"caption ng-binding\" ng-bind-html=\"link.caption\">News</span> </a> </li><!-- end ngRepeat: link in navLinks --> </ul> <div class=\"search-wrapper\"> <div class=\"oy-search-bar ng-isolate-scope\"> <input type=\"search\" ng-model=\"query\" ng-keypress=\"onKeypress($event)\" placeholder=\"Search\" class=\"ng-pristine ng-untouched ng-valid\"> </div> </div> </nav> </div> </div> <!-- ngView:  --><div class=\"page ng-scope\" data-ng-view=\"\" autoscroll=\"true\"><div class=\"donate oy-banner ng-isolate-scope\" ng-class=\"class\" ng-href=\"https://alumni.kentlaw.iit.edu/donate/oyez-project\" href=\"https://alumni.kentlaw.iit.edu/donate/oyez-project\"><div class=\"banner-inner\" ng-transclude=\"\"> <img src=\"images/support_banner.99aca51e.png\" alt=\"Support Oyez Today\" class=\"ng-scope\"> </div></div> <div> <script type=\"text/ng-template\" id=\"template/modal/backdrop.html\"><div class=\"reveal-modal-bg fade\" ng-class=\"{in: animate}\" ng-click=\"close($event)\" style=\"display: block\"></div></script> <script type=\"text/ng-template\" id=\"template/modal/window.html\"><div tabindex=\"-1\" class=\"oy-modal fade {{ windowClass }}\"\\n             ng-class=\"{in: animate}\" style=\"display: block; visibility: visible\">\\n            <div class=\"oy-modal-wrapper\" ng-transclude></div>\\n        </div></script> <script type=\"text/ng-template\" id=\"modal.html\"><a class=\"close\" ng-click=\"close()\"></a>\\n        <iframe class=\"oy-modal-iframe\" src=\"{{modalUrl}}\"></iframe></script> </div> <main class=\"case ng-scope\"> <div class=\"blue oy-sidebar ng-isolate-scope\" ng-class=\"class\" title=\"\"> <div class=\"full-sidebar\" oy-height-set=\"screen and (min-width: 64.063em)\" style=\"min-height: 970px;\"> <div class=\"inner\"> <!-- ngIf: title --> <div ng-transclude=\"\"> <div class=\"ng-scope\"> <div class=\"media\"> <!-- ngIf: case.oral_argument_audio[0] || case.opinion_announcement[0] --> <ul> <!-- ngRepeat: audio in case.oral_argument_audio --> <!-- ngRepeat: audio in case.opinion_announcement --> </ul> </div> <div class=\"documents\"> <!-- ngIf: case.written_opinion[0] --> <ul> <!-- ngRepeat: document in case.written_opinion | orderBy:sortOpinions --> </ul> </div> </div> </div> </div> </div> </div> <article class=\"content ng-isolate-scope\" oy-height-report=\"scrollHeight\"> <div class=\"content-inner\"> <aside> <div class=\"row\"> <div class=\"cell ng-binding\"> <h3 class=\"ng-binding\"></h3>  </div> <div class=\"cell ng-binding\"> <h3 class=\"ng-binding\"></h3>  </div> <!-- ngIf: case.location --> </div> <div class=\"row\"> <div class=\"cell ng-binding\"> <h3>Docket no.</h3>  </div> <div class=\"cell\"> <h3>Decided by</h3> <!-- ngIf: case.decided_by --> <!-- ngIf: (! case.decided_by) --><span ng-if=\"(! case.decided_by)\" class=\"pending ng-scope\">Case pending</span><!-- end ngIf: (! case.decided_by) --> </div> <!-- ngIf: case.lower_court --> </div> <div class=\"row\"> <div class=\"cell\"> <!-- ngIf: case.citation --> <!-- ngRepeat: chron in case.timeline --> </div> <div class=\"cell\"> <!-- ngIf: case.advocates --> </div> </div> </aside> <!-- ngIf: case.facts_of_the_case --> <!-- ngIf: case.question --> <section class=\"abstract\"> <!-- ngIf: case.conclusion --> <div class=\"decisions ng-hide\" ng-show=\"case.decisions\"> <div ng-show=\"case.decisions\" class=\"sort-links ng-hide\"> <span class=\"label\">Sort:&nbsp;</span> <ul> <!-- ngRepeat: link in decisionSortLinks --><li ng-repeat=\"link in decisionSortLinks\" class=\"ng-scope\"> <a ng-class=\"{active: link.isActive()}\" ng-click=\"link.callback()\" class=\"ng-binding active\">by seniority</a> </li><!-- end ngRepeat: link in decisionSortLinks --><li ng-repeat=\"link in decisionSortLinks\" class=\"ng-scope\"> <a ng-class=\"{active: link.isActive()}\" ng-click=\"link.callback()\" class=\"ng-binding\">by ideology</a> </li><!-- end ngRepeat: link in decisionSortLinks --> </ul> </div> <div ng-show=\"case.decisions.length &gt; 1\" class=\"decision-cycle ng-binding ng-hide\"> <a class=\"prev\" ng-click=\"previousDecision()\">&lt;&lt;</a> decision 1 of  <a class=\"next\" ng-click=\"nextDecision()\">&gt;&gt;</a> </div> <div class=\"oy-carousel ng-isolate-scope\" current-seat=\"currentDecision\"> <ul ng-transclude=\"\" ng-class=\"{set: isSet, reversing: isReversing, \\'single-seat\\': (typeof(seats) != \\'undefined\\') &amp;&amp; (seats.length == 1)}\" class=\"set\"> <!-- ngRepeat: (index, decision) in case.decisions --> </ul> </div> </div> <!-- ngIf: case.conclusion --> </section> <div class=\"oy-cite ng-isolate-scope\" title=\"\"> <h2>Cite this page</h2> <ul> <li><a ng-class=\"{active: currentFormat == \\'APA\\'}\" ng-click=\"currentFormat = \\'APA\\'\">APA</a></li> <li><a ng-class=\"{active: currentFormat == \\'Bluebook\\'}\" ng-click=\"currentFormat = \\'Bluebook\\'\">Bluebook</a></li> <li><a ng-class=\"{active: currentFormat == \\'Chicago\\'}\" ng-click=\"currentFormat = \\'Chicago\\'\">Chicago</a></li> <li><a ng-class=\"{active: currentFormat == \\'MLA\\'}\" ng-click=\"currentFormat = \\'MLA\\'\" class=\"active\">MLA</a></li> </ul> <div class=\"citations\" ng-switch=\"currentFormat\"> <!-- ngSwitchWhen: APA --> <!-- ngSwitchWhen: Bluebook --> <!-- ngSwitchWhen: Chicago --> <!-- ngSwitchWhen: MLA --><div ng-switch-when=\"MLA\" class=\"ng-binding ng-scope\"> \".\" <i class=\"ng-binding\">Oyez.</i> Chicago-Kent College of Law at Illinois Tech, n.d. Feb 14, 2016. &lt;https://www.oyez.org/cases/2014/13-352&gt; </div><!-- end ngSwitchWhen: --> </div> </div> </div> </article> </main></div> <footer oy-height-report=\"offsetTop\" class=\"ng-isolate-scope\"> <div class=\"left\"> <a href=\"http://www.kentlaw.iit.edu/\" target=\"_blank\"> <picture class=\"sponsor-logo\"> <!-- ngRepeat: logo in sponsorLogos --><!-- ngIf: (! logo.fallback) && logo.media --><source ng-repeat-start=\"logo in sponsorLogos\" ng-if=\"(! logo.fallback) &amp;&amp; logo.media\" media=\"(min-width: 64em)\" ng-srcset=\"images/iit_ck__horizontal.a49954cf.svg\" class=\"ng-scope\" srcset=\"images/iit_ck__horizontal.a49954cf.svg\"><!-- end ngIf: (! logo.fallback) && logo.media --> <!-- ngIf: (! logo.fallback) && (! logo.media) --> <!-- ngIf: logo.fallback --><!-- end ngRepeat: logo in sponsorLogos --><!-- ngIf: (! logo.fallback) && logo.media --> <!-- ngIf: (! logo.fallback) && (! logo.media) --><source ng-if=\"(! logo.fallback) &amp;&amp; (! logo.media)\" srcset=\"images/iit_ck__stacked.5fb1ca7a.svg\" class=\"ng-scope\"><!-- end ngIf: (! logo.fallback) && (! logo.media) --> <!-- ngIf: logo.fallback --><!-- end ngRepeat: logo in sponsorLogos --><!-- ngIf: (! logo.fallback) && logo.media --> <!-- ngIf: (! logo.fallback) && (! logo.media) --> <!-- ngIf: logo.fallback --><img ng-repeat-end=\"\" ng-if=\"logo.fallback\" ng-src=\"images/iit_ck__stacked.5fb1ca7a.svg\" alt=\"Chicago-Kent College of Law at Illinois Tech\" class=\"ng-scope\" src=\"images/iit_ck__stacked.5fb1ca7a.svg\"><!-- end ngIf: logo.fallback --><!-- end ngRepeat: logo in sponsorLogos --> </picture> </a> </div> <div class=\"right\"> <ul class=\"footer-links\"> <!-- ngRepeat: link in footerLinks --><li ng-repeat=\"link in footerLinks\" class=\"ng-scope\"> <a ng-href=\"about\" class=\"ng-binding\" href=\"about\">About</a> </li><!-- end ngRepeat: link in footerLinks --><li ng-repeat=\"link in footerLinks\" class=\"ng-scope\"> <a ng-href=\"license\" class=\"ng-binding\" href=\"license\">License</a> </li><!-- end ngRepeat: link in footerLinks --><li ng-repeat=\"link in footerLinks\" class=\"ng-scope\"> <a ng-href=\"feedback\" class=\"ng-binding\" href=\"feedback\">Site feedback</a> </li><!-- end ngRepeat: link in footerLinks --><li ng-repeat=\"link in footerLinks\" class=\"ng-scope\"> <a ng-href=\"http://lawyers.oyez.org/\" class=\"ng-binding\" href=\"http://lawyers.oyez.org/\">Need a lawyer?</a> </li><!-- end ngRepeat: link in footerLinks --> </ul> </div> </footer> </div> </div> <!-- Google Analytics: change UA-XXXXX-X to be your site\\'s ID --> <script src=\"//www.google-analytics.com/analytics.js\"></script><script>!function(A,n,g,u,l,a,r){A.GoogleAnalyticsObject=l,A[l]=A[l]||function(){\\n       (A[l].q=A[l].q||[]).push(arguments)},A[l].l=+new Date,a=n.createElement(g),\\n       r=n.getElementsByTagName(g)[0],a.src=u,r.parentNode.insertBefore(a,r)\\n       }(window,document,\\'script\\',\\'//www.google-analytics.com/analytics.js\\',\\'ga\\');\\n\\n       ga(\\'create\\', \\'UA-1508262-2\\');</script> <script src=\"https://cdnjs.cloudflare.com/ajax/libs/modernizr/2.8.3/modernizr.min.js\"></script> <script src=\"scripts/vendor.f8e22464.js\"></script> <script src=\"scripts/scripts.56e67be5.js\"></script>  </body></html>'"
      ]
     },
     "execution_count": 42,
     "metadata": {},
     "output_type": "execute_result"
    }
   ],
   "source": [
    "response"
   ]
  }
 ],
 "metadata": {
  "kernelspec": {
   "display_name": "Python 3",
   "language": "python",
   "name": "python3"
  },
  "language_info": {
   "codemirror_mode": {
    "name": "ipython",
    "version": 3
   },
   "file_extension": ".py",
   "mimetype": "text/x-python",
   "name": "python",
   "nbconvert_exporter": "python",
   "pygments_lexer": "ipython3",
   "version": "3.4.3+"
  }
 },
 "nbformat": 4,
 "nbformat_minor": 0
}
