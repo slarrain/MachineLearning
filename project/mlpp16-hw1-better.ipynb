{
 "cells": [
  {
   "cell_type": "code",
   "execution_count": 30,
   "metadata": {
    "collapsed": false
   },
   "outputs": [],
   "source": [
    "# -*- coding: utf-8 -*-\n",
    "import urllib.request, time, re, random, hashlib\n",
    "from sklearn.feature_extraction.text import CountVectorizer\n",
    "from scipy.spatial.distance import cosine, euclidean\n",
    "from itertools import combinations\n",
    "from scipy.cluster import hierarchy\n",
    "%matplotlib inline"
   ]
  },
  {
   "cell_type": "code",
   "execution_count": 31,
   "metadata": {
    "collapsed": true
   },
   "outputs": [],
   "source": [
    "# IMPORTANT:  PLEASE USE THE FOLLOWING fetch(url) TO LOAD ALL YOUR \n",
    "# WEBPAGES. PLEASE DO NOT DIRECTLY LOAD PAGES. THIS WILL ENSURE THAT\n",
    "# PAGES ARE CACHED AS FILES IN YOUR DIRECTORY, AND AVOID UNNECESSARY\n",
    "# LOAD ON WEBSITES.  ALSO WHEN PAGES ARE ACTUALLY LOADED, THE REQUESTS\n",
    "# ARE STAGGERED AS EXPECTED OF HUMAN BROWSING.\n",
    "\n",
    "# Compassionate Caching inspired by \n",
    "# http://lethain.com/an-introduction-to-compassionate-screenscraping/\n",
    "\n",
    "last_fetched_at = None\n",
    "\n",
    "def fetch(url):\n",
    "    \"\"\"Load the url compassionately.\"\"\"\n",
    "    \n",
    "    global last_fetched_at\n",
    "    \n",
    "    url_hash = hashlib.sha1(url.encode()).hexdigest()\n",
    "    filename = 'cache-file-{}'.format(url_hash)\n",
    "    try:\n",
    "        with open(filename, 'r') as f:\n",
    "            result = f.read()\n",
    "            if len(result) > 0:\n",
    "                print(\"Retrieving from cache:\", url)\n",
    "                return result\n",
    "    except:\n",
    "        pass\n",
    "    \n",
    "    print(\"Loading:\", url)\n",
    "    wait_interval = random.randint(3000,10000)\n",
    "    if last_fetched_at is not None:\n",
    "        now = time.time()\n",
    "        elapsed = now - last_fetched_at\n",
    "        if elapsed < wait_interval:\n",
    "            time.sleep((wait_interval - elapsed)/1000)\n",
    "        \n",
    "    user_agent = 'Mozilla/5.0 (Windows NT 6.1; Win64; x64)'\n",
    "    headers = { 'User-Agent' : user_agent }\n",
    "    req = urllib.request.Request(url, headers = headers)\n",
    "    last_fetched_at = time.time()\n",
    "    with urllib.request.urlopen(req) as response:\n",
    "        result = str(response.read())\n",
    "        with open(filename, 'w') as f:\n",
    "            f.write(result)\n",
    "        return result"
   ]
  },
  {
   "cell_type": "code",
   "execution_count": 32,
   "metadata": {
    "collapsed": true
   },
   "outputs": [],
   "source": [
    "class Entity(object):\n",
    "    def __init__(self, name):\n",
    "        self.name = name\n",
    "        self.words = None\n",
    "        self.vector = None"
   ]
  },
  {
   "cell_type": "code",
   "execution_count": 33,
   "metadata": {
    "collapsed": true
   },
   "outputs": [],
   "source": [
    "def get_search_results(entity):\n",
    "    \"\"\"Return an html with search results for given entity.\"\"\"\n",
    "    url = 'http://www.usatoday.com/search/'+entity.name.replace(' ', '+')+'/1/'\n",
    "    result = fetch(url)\n",
    "    \n",
    "    return result"
   ]
  },
  {
   "cell_type": "code",
   "execution_count": 34,
   "metadata": {
    "collapsed": false
   },
   "outputs": [],
   "source": [
    "from bs4 import BeautifulSoup as bs\n",
    "def get_articles(results_html, n=3):\n",
    "    \"\"\"Return a list of article htmls for given search results html.\"\"\"\n",
    "    soup = bs(results_html, 'lxml', from_encoding='utf-8')\n",
    "    url_list =[]\n",
    "    res = soup.find_all('li', class_=\"text search-result-item\")\n",
    "    for news in res:\n",
    "        link = news.find('a').get('href')\n",
    "\n",
    "        #Resutls sometimes have relative paths and sometimes don't\n",
    "        if link[0]=='/':\n",
    "            url = 'http://www.usatoday.com'+link\n",
    "        else:\n",
    "            url = link\n",
    "        url_list.append(url)\n",
    "   \n",
    "    articles_html = []\n",
    "    for url in url_list[:n]:\n",
    "        result = fetch(url)\n",
    "        articles_soup = bs(result, 'lxml', from_encoding='utf-8')\n",
    "        articles_html.append(articles_soup)\n",
    "    return articles_html"
   ]
  },
  {
   "cell_type": "code",
   "execution_count": 35,
   "metadata": {
    "collapsed": false
   },
   "outputs": [],
   "source": [
    "from nltk.corpus import stopwords\n",
    "from nltk import word_tokenize, wordpunct_tokenize, FreqDist\n",
    "from nltk.tokenize import RegexpTokenizer\n",
    "\n",
    "\n",
    "def get_words(articles):\n",
    "    \"\"\"Return list of representative words from a list of article \n",
    "    htmls.\"\"\"\n",
    "    \n",
    "    words = []\n",
    "    tokenizer = RegexpTokenizer(r'\\w+')  # Removes punctuation\n",
    "    \n",
    "    for a in articles:\n",
    "        pre_text = a.find_all('p', attrs={'class':None})\n",
    "        for p in pre_text[1:-1]: #The last one is the twitter one. The first one is garbage\n",
    "            #Ugly looking hack\n",
    "            word_list = tokenizer.tokenize(p.get_text().replace(\"\\xc2\\xa0\", \" \").replace(\"xc2\", \"\").replace(\"xa0\", \"\"))\n",
    "            for w in word_list:\n",
    "                if w not in stopwords.words('english') and w.isalpha():\n",
    "                    words.append(w.lower())\n",
    "    fdist = FreqDist(words)\n",
    "    mc = [w for (w, n) in fdist.most_common(50)] #The 50 most common words\n",
    "    return mc"
   ]
  },
  {
   "cell_type": "code",
   "execution_count": 36,
   "metadata": {
    "collapsed": true
   },
   "outputs": [],
   "source": [
    "def get_bag_of_words(entity):\n",
    "    results = get_search_results(entity)\n",
    "    articles = get_articles(results,3)\n",
    "    return get_words(articles)"
   ]
  },
  {
   "cell_type": "code",
   "execution_count": 37,
   "metadata": {
    "collapsed": true
   },
   "outputs": [],
   "source": [
    "def get_bow_vectors(list_of_texts):\n",
    "    \"\"\"Return feature vectors for each entity given list of texts.\"\"\"\n",
    "    vectorizer = CountVectorizer(analyzer = \"word\",\n",
    "                                 tokenizer = None,\n",
    "                                 preprocessor = None,\n",
    "                                 stop_words = None,\n",
    "                                 max_features = 500)\n",
    "    compressed_vectors = vectorizer.fit_transform(list_of_texts)\n",
    "    return compressed_vectors.toarray()"
   ]
  },
  {
   "cell_type": "code",
   "execution_count": 38,
   "metadata": {
    "collapsed": false
   },
   "outputs": [],
   "source": [
    "def cluster_candidates(politicians):\n",
    "\n",
    "    entities = [Entity(p) for p in politicians]\n",
    "\n",
    "    texts = []\n",
    "    for e in entities:\n",
    "        e.words = get_bag_of_words(e)\n",
    "        texts.append(\" \".join(e.words))\n",
    "\n",
    "    vectors = get_bow_vectors(texts)\n",
    "\n",
    "    for i, e in enumerate(entities):\n",
    "        e.vector = vectors[i]\n",
    "\n",
    "    distances = []\n",
    "    for e, f in combinations(entities, 2):\n",
    "        distance = euclidean(e.vector, f.vector)\n",
    "\n",
    "        print(e.name, f.name, distance)\n",
    "        distances.append(distance)\n",
    "\n",
    "    _ = hierarchy.dendrogram(hierarchy.linkage(distances), \n",
    "                         labels = [e.name for e in entities])"
   ]
  },
  {
   "cell_type": "code",
   "execution_count": 39,
   "metadata": {
    "collapsed": true
   },
   "outputs": [
    {
     "name": "stdout",
     "output_type": "stream",
     "text": [
      "Retrieving from cache: http://www.usatoday.com/search/hillary+clinton/1/\n",
      "Retrieving from cache: http://www.usatoday.com/story/news/politics/2013/11/26/hillary-clinton-2016-president-democratic-nomination/2063287/\n",
      "Retrieving from cache: http://www.usatoday.com/story/news/politics/onpolitics/2016/01/15/hillary-clinton-defends-donald-trump/78848730/\n",
      "Retrieving from cache: http://www.usatoday.com/story/news/politics/onpolitics/2016/01/15/hillary-clinton-dismisses-joe-biden-remarks/78846684/\n",
      "Retrieving from cache: http://www.usatoday.com/search/donald+trump/1/\n",
      "Retrieving from cache: http://www.usatoday.com/story/news/politics/onpolitics/2016/01/15/hillary-clinton-defends-donald-trump/78848730/\n",
      "Retrieving from cache: http://www.usatoday.com/story/news/politics/onpolitics/2016/01/15/republican-debate-donald-trump-ted-cruz-fox-business-network/78837200/\n",
      "Retrieving from cache: http://www.usatoday.com/story/news/politics/onpolitics/2016/01/15/presidential-debates-ranked-viewership/78867956/\n",
      "Retrieving from cache: http://www.usatoday.com/search/ted+cruz/1/\n",
      "Retrieving from cache: http://www.usatoday.com/story/news/politics/onpolitics/2016/01/15/republican-debate-donald-trump-ted-cruz-fox-business-network/78837200/\n",
      "Retrieving from cache: http://www.usatoday.com/story/news/politics/onpolitics/2016/01/15/new-york-governor-ted-cruz-apologize/78844538/\n",
      "Retrieving from cache: http://www.usatoday.com/story/news/politics/onpolitics/2016/01/14/ted-cruz-new-york-times-debate-loan/78824084/\n",
      "Retrieving from cache: http://www.usatoday.com/search/bernie+sanders/1/\n",
      "Retrieving from cache: http://www.usatoday.com/story/news/politics/onpolitics/2016/01/15/sanders-supporters-aglow-light-brigade/78859094/\n",
      "Retrieving from cache: http://college.usatoday.com/2016/01/14/feel-the-bern-college-tour/\n",
      "Retrieving from cache: http://www.usatoday.com/story/news/politics/onpolitics/2016/01/15/11-million-watched-republican-debate/78854482/\n",
      "Retrieving from cache: http://www.usatoday.com/search/chris+christie/1/\n",
      "Retrieving from cache: http://www.usatoday.com/story/news/politics/elections/2016/01/15/christie-aims-beat-expectations-iowa-caucus/78882738/\n",
      "Retrieving from cache: http://www.usatoday.com/story/news/2016/01/13/jeb-bush-super-pac-lobs-last-minute-attacks-marco-rubio/78750792/\n",
      "Retrieving from cache: http://www.usatoday.com/story/news/politics/onpolitics/2016/01/14/christie-vs-rubio-heats-up-gop-debate/78825692/\n",
      "hillary clinton donald trump 8.71779788708\n",
      "hillary clinton ted cruz 8.54400374532\n",
      "hillary clinton bernie sanders 8.30662386292\n",
      "hillary clinton chris christie 8.66025403784\n",
      "donald trump ted cruz 5.9160797831\n",
      "donald trump bernie sanders 8.18535277187\n",
      "donald trump chris christie 8.30662386292\n",
      "ted cruz bernie sanders 7.87400787401\n",
      "ted cruz chris christie 8.48528137424\n",
      "bernie sanders chris christie 8.36660026534\n"
     ]
    },
    {
     "data": {
      "image/png": "[encoded data removed]",
      "text/plain": [
       "<matplotlib.figure.Figure at 0x7fd58f7423c8>"
      ]
     },
     "metadata": {},
     "output_type": "display_data"
    }
   ],
   "source": [
    "cluster_candidates(['hillary clinton', 'donald trump',\n",
    "                    'ted cruz', 'bernie sanders', 'chris christie'])"
   ]
  },
  {
   "cell_type": "code",
   "execution_count": null,
   "metadata": {
    "collapsed": true
   },
   "outputs": [],
   "source": []
  }
 ],
 "metadata": {
  "kernelspec": {
   "display_name": "Python 3",
   "language": "python",
   "name": "python3"
  },
  "language_info": {
   "codemirror_mode": {
    "name": "ipython",
    "version": 3
   },
   "file_extension": ".py",
   "mimetype": "text/x-python",
   "name": "python",
   "nbconvert_exporter": "python",
   "pygments_lexer": "ipython3",
   "version": "3.4.3+"
  }
 },
 "nbformat": 4,
 "nbformat_minor": 0
}
