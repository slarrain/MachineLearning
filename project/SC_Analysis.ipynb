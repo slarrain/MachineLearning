{
 "cells": [
  {
   "cell_type": "code",
   "execution_count": 240,
   "metadata": {
    "collapsed": false
   },
   "outputs": [],
   "source": [
    "import urllib\n",
    "import pandas as pd\n",
    "import collections\n",
    "from sklearn.feature_extraction.text import CountVectorizer\n",
    "import nltk\n",
    "from nltk.corpus import stopwords\n",
    "import seaborn as sns\n",
    "%matplotlib inline"
   ]
  },
  {
   "cell_type": "code",
   "execution_count": 5,
   "metadata": {
    "collapsed": false
   },
   "outputs": [
    {
     "data": {
      "text/plain": [
       "('cases_55-15.csv', <httplib.HTTPMessage instance at 0x033EC850>)"
      ]
     },
     "execution_count": 5,
     "metadata": {},
     "output_type": "execute_result"
    }
   ],
   "source": [
    "testfile = urllib.URLopener()\n",
    "testfile.retrieve(\"https://raw.githubusercontent.com/slarrain/MachineLearning/master/project/cases_55-15.csv\", \"cases_55-15.csv\")"
   ]
  },
  {
   "cell_type": "code",
   "execution_count": 11,
   "metadata": {
    "collapsed": true
   },
   "outputs": [],
   "source": [
    "df_facts = pd.read_table('cases_55-15.csv',sep='|')"
   ]
  },
  {
   "cell_type": "code",
   "execution_count": 259,
   "metadata": {
    "collapsed": false
   },
   "outputs": [
    {
     "data": {
      "text/plain": [
       "array([ 1956.,  1957.,  1958.,  1959.,  1960.,  1961.,  1962.,  1963.,\n",
       "        1964.,  1965.,  1966.,  1967.,  1968.,  1969.,  1971.,  1970.,\n",
       "        1972.,  1973.,  1974.,  1975.,  1976.,  1977.,  1978.,  1979.,\n",
       "        1980.,  1981.,  1982.,  1983.,  1984.,  1985.,  1986.,  1987.,\n",
       "        1988.,  1989.,  1990.,  1991.,  1992.,  1993.,  1994.,  1995.,\n",
       "        1996.,  1997.,  1998.,  1999.,  2000.,  2001.,  2002.,  2003.,\n",
       "        2004.,  2005.,  2006.,  2007.,  2008.,  2009.,  2010.,  2011.,\n",
       "        2012.,  2013.,    nan,  2014.,  2015.,  2016.])"
      ]
     },
     "execution_count": 259,
     "metadata": {},
     "output_type": "execute_result"
    }
   ],
   "source": [
    "df_facts['year'].unique()"
   ]
  },
  {
   "cell_type": "code",
   "execution_count": 151,
   "metadata": {
    "collapsed": false
   },
   "outputs": [],
   "source": [
    "df_issues = {'issueArea':[1,2,3,4,5,6,7,8,9,10,11,12,13,14],\n",
    "             'issueAreaText':['criminal procedure','civil rights','First Ammendment','due process',\n",
    "                             'privacy','attorney or gov officials compensation','unions','economic activity',\n",
    "                              'judicial power','federalism','interstate relation','federal taxation',\n",
    "                              'misc','private law']}\n",
    "df1 = pd.merge(pd.DataFrame.from_dict(df_issues),df,left_on='issueArea',right_on='issueArea')"
   ]
  },
  {
   "cell_type": "code",
   "execution_count": 119,
   "metadata": {
    "collapsed": false
   },
   "outputs": [
    {
     "data": {
      "text/plain": [
       "array(['HHBurton', 'RHJackson', 'WODouglas', 'FFrankfurter', 'SFReed',\n",
       "       'HLBlack', 'WBRutledge', 'FMurphy', 'FMVinson', 'TCClark',\n",
       "       'SMinton', 'EWarren', 'JHarlan2', 'WJBrennan', 'CEWhittaker',\n",
       "       'PStewart', 'BRWhite', 'AJGoldberg', 'AFortas', 'TMarshall',\n",
       "       'WEBurger', 'HABlackmun', 'LFPowell', 'WHRehnquist', 'JPStevens',\n",
       "       'SDOConnor', 'AScalia', 'AMKennedy', 'DHSouter', 'CThomas',\n",
       "       'RBGinsburg', 'SGBreyer', 'JGRoberts', 'SAAlito', 'SSotomayor',\n",
       "       'EKagan'], dtype=object)"
      ]
     },
     "execution_count": 119,
     "metadata": {},
     "output_type": "execute_result"
    }
   ],
   "source": [
    "df['justiceName'].unique()"
   ]
  },
  {
   "cell_type": "code",
   "execution_count": 261,
   "metadata": {
    "collapsed": false
   },
   "outputs": [
    {
     "data": {
      "text/plain": [
       "<matplotlib.axes._subplots.AxesSubplot at 0x35d48e50>"
      ]
     },
     "execution_count": 261,
     "metadata": {},
     "output_type": "execute_result"
    },
    {
     "data": {
      "image/png": "[encoded data removed]",
      "text/plain": [
       "<matplotlib.figure.Figure at 0x35d52750>"
      ]
     },
     "metadata": {},
     "output_type": "display_data"
    }
   ],
   "source": [
    "df[ df['direction'].isin([1,2]) ].groupby('justiceName')['direction'].mean().sort(inplace=False).plot(kind='bar',color='mediumseagreen')"
   ]
  },
  {
   "cell_type": "code",
   "execution_count": 202,
   "metadata": {
    "collapsed": false
   },
   "outputs": [
    {
     "data": {
      "text/plain": [
       "justiceName  issueArea\n",
       "AMKennedy    1            1.329502\n",
       "             2            1.354098\n",
       "             3            1.367601\n",
       "             4            1.462185\n",
       "             5            1.222222\n",
       "             6            1.450980\n",
       "             7            1.357143\n",
       "             8            1.482143\n",
       "             9            1.411765\n",
       "             10           1.472574\n",
       "             11           1.000000\n",
       "             12           1.819444\n",
       "             13           1.833333\n",
       "AScalia      1            1.277136\n",
       "             2            1.242199\n",
       "...\n",
       "SGBreyer     11           1.000000\n",
       "             12           1.772727\n",
       "             13           1.333333\n",
       "SSotomayor   1            1.641379\n",
       "             2            1.655172\n",
       "             3            1.700000\n",
       "             4            1.722222\n",
       "             5            1.230769\n",
       "             6            1.692308\n",
       "             7            1.642857\n",
       "             8            1.558333\n",
       "             9            1.647059\n",
       "             10           1.666667\n",
       "             12           1.875000\n",
       "             13           1.500000\n",
       "Name: direction, Length: 113, dtype: float64"
      ]
     },
     "execution_count": 202,
     "metadata": {},
     "output_type": "execute_result"
    }
   ],
   "source": [
    "recent_judges = ['JPStevens','SDOConnor', 'AScalia', 'AMKennedy', 'EKagan', 'CThomas','RBGinsburg', 'SGBreyer', 'JGRoberts', 'SAAlito', 'SSotomayor']\n",
    "recent_judges = ['AScalia', 'AMKennedy', 'EKagan', 'CThomas','RBGinsburg', 'SGBreyer', 'JGRoberts', 'SAAlito', 'SSotomayor']\n",
    "df[ ( df['justiceName'].isin(recent_judges) )& (df['direction'].isin([1,2]))  ].groupby(['justiceName','issueArea'])['direction'].mean()"
   ]
  },
  {
   "cell_type": "code",
   "execution_count": 258,
   "metadata": {
    "collapsed": false
   },
   "outputs": [
    {
     "data": {
      "text/plain": [
       "<matplotlib.axes._subplots.AxesSubplot at 0x35a26150>"
      ]
     },
     "execution_count": 258,
     "metadata": {},
     "output_type": "execute_result"
    },
    {
     "data": {
      "image/png": "[encoded data removed]",
      "text/plain": [
       "<matplotlib.figure.Figure at 0x35682930>"
      ]
     },
     "metadata": {},
     "output_type": "display_data"
    }
   ],
   "source": [
    "#df[ ( df['justiceName']=='EKagan' )& (df['decisionDirection'].isin([1,2]))  ].groupby('issueArea')['decisionDirection'].mean().plot(kind='bar')\n",
    "person = df1[ ( df1['justiceName']=='CThomas' )& (df1['direction'].isin([1,2]))  ].groupby('issueAreaText')['direction'].mean()\n",
    "colors=[]\n",
    "for val in person.values.tolist():\n",
    "    if val>1.6:\n",
    "        colors.append('skyblue')\n",
    "    elif val<1.4:\n",
    "        colors.append('pink')\n",
    "    else:\n",
    "        colors.append('palegreen')\n",
    "person.plot(kind='bar',color=colors )"
   ]
  },
  {
   "cell_type": "code",
   "execution_count": 217,
   "metadata": {
    "collapsed": false
   },
   "outputs": [
    {
     "data": {
      "text/plain": [
       "issueAreaText\n",
       "First Ammendment                          1.232955\n",
       "attorney or gov officials compensation    1.350877\n",
       "civil rights                              1.242199\n",
       "criminal procedure                        1.277136\n",
       "due process                               1.313333\n",
       "economic activity                         1.488235\n",
       "federal taxation                          1.640449\n",
       "federalism                                1.420074\n",
       "interstate relation                       2.000000\n",
       "judicial power                            1.322344\n",
       "misc                                      1.500000\n",
       "privacy                                   1.208333\n",
       "unions                                    1.303797\n",
       "Name: direction, dtype: float64"
      ]
     },
     "execution_count": 217,
     "metadata": {},
     "output_type": "execute_result"
    }
   ],
   "source": [
    "df1[ ( df1['justiceName']=='AScalia' )& (df1['direction'].isin([1,2]))  ].groupby('issueAreaText')['direction'].mean()"
   ]
  },
  {
   "cell_type": "code",
   "execution_count": 237,
   "metadata": {
    "collapsed": false
   },
   "outputs": [
    {
     "data": {
      "text/plain": [
       "111132     1\n",
       "111141     1\n",
       "111150     2\n",
       "111159     1\n",
       "111168     2\n",
       "111177     2\n",
       "111186     1\n",
       "111195     1\n",
       "111204     2\n",
       "111213     2\n",
       "111222   NaN\n",
       "111231     2\n",
       "111240     2\n",
       "111249     1\n",
       "111258   NaN\n",
       "...\n",
       "116351    2\n",
       "116360    2\n",
       "116369    1\n",
       "116378    2\n",
       "116387    2\n",
       "116396    2\n",
       "116405    2\n",
       "116414    2\n",
       "116423    2\n",
       "116432    2\n",
       "116441    2\n",
       "116450    2\n",
       "116459    1\n",
       "116468    2\n",
       "116477    1\n",
       "Name: direction, Length: 595, dtype: float64"
      ]
     },
     "execution_count": 237,
     "metadata": {},
     "output_type": "execute_result"
    }
   ],
   "source": [
    "df[ df['justiceName']=='SSotomayor' ]['direction']"
   ]
  },
  {
   "cell_type": "code",
   "execution_count": 242,
   "metadata": {
    "collapsed": false
   },
   "outputs": [
    {
     "data": {
      "text/html": [
       "<div style=\"max-height:1000px;max-width:1500px;overflow:auto;\">\n",
       "<table border=\"1\" class=\"dataframe\">\n",
       "  <thead>\n",
       "    <tr style=\"text-align: right;\">\n",
       "      <th>justiceName</th>\n",
       "      <th>AMKennedy</th>\n",
       "      <th>AScalia</th>\n",
       "      <th>CThomas</th>\n",
       "      <th>EKagan</th>\n",
       "      <th>JGRoberts</th>\n",
       "      <th>RBGinsburg</th>\n",
       "      <th>SAAlito</th>\n",
       "      <th>SGBreyer</th>\n",
       "      <th>SSotomayor</th>\n",
       "    </tr>\n",
       "    <tr>\n",
       "      <th>justiceName</th>\n",
       "      <th></th>\n",
       "      <th></th>\n",
       "      <th></th>\n",
       "      <th></th>\n",
       "      <th></th>\n",
       "      <th></th>\n",
       "      <th></th>\n",
       "      <th></th>\n",
       "      <th></th>\n",
       "    </tr>\n",
       "  </thead>\n",
       "  <tbody>\n",
       "    <tr>\n",
       "      <th>AMKennedy</th>\n",
       "      <td> 1.000000</td>\n",
       "      <td> 0.654281</td>\n",
       "      <td> 0.584671</td>\n",
       "      <td> 0.542353</td>\n",
       "      <td> 0.691095</td>\n",
       "      <td> 0.514097</td>\n",
       "      <td> 0.654954</td>\n",
       "      <td> 0.511647</td>\n",
       "      <td> 0.549968</td>\n",
       "    </tr>\n",
       "    <tr>\n",
       "      <th>AScalia</th>\n",
       "      <td> 0.654281</td>\n",
       "      <td> 1.000000</td>\n",
       "      <td> 0.793745</td>\n",
       "      <td> 0.410021</td>\n",
       "      <td> 0.769038</td>\n",
       "      <td> 0.379525</td>\n",
       "      <td> 0.657727</td>\n",
       "      <td> 0.311701</td>\n",
       "      <td> 0.367536</td>\n",
       "    </tr>\n",
       "    <tr>\n",
       "      <th>CThomas</th>\n",
       "      <td> 0.584671</td>\n",
       "      <td> 0.793745</td>\n",
       "      <td> 1.000000</td>\n",
       "      <td> 0.324544</td>\n",
       "      <td> 0.678583</td>\n",
       "      <td> 0.335116</td>\n",
       "      <td> 0.705017</td>\n",
       "      <td> 0.300501</td>\n",
       "      <td> 0.316785</td>\n",
       "    </tr>\n",
       "    <tr>\n",
       "      <th>EKagan</th>\n",
       "      <td> 0.542353</td>\n",
       "      <td> 0.410021</td>\n",
       "      <td> 0.324544</td>\n",
       "      <td> 1.000000</td>\n",
       "      <td> 0.415570</td>\n",
       "      <td> 0.834611</td>\n",
       "      <td> 0.306481</td>\n",
       "      <td> 0.788691</td>\n",
       "      <td> 0.842929</td>\n",
       "    </tr>\n",
       "    <tr>\n",
       "      <th>JGRoberts</th>\n",
       "      <td> 0.691095</td>\n",
       "      <td> 0.769038</td>\n",
       "      <td> 0.678583</td>\n",
       "      <td> 0.415570</td>\n",
       "      <td> 1.000000</td>\n",
       "      <td> 0.381577</td>\n",
       "      <td> 0.774492</td>\n",
       "      <td> 0.454671</td>\n",
       "      <td> 0.446280</td>\n",
       "    </tr>\n",
       "    <tr>\n",
       "      <th>RBGinsburg</th>\n",
       "      <td> 0.514097</td>\n",
       "      <td> 0.379525</td>\n",
       "      <td> 0.335116</td>\n",
       "      <td> 0.834611</td>\n",
       "      <td> 0.381577</td>\n",
       "      <td> 1.000000</td>\n",
       "      <td> 0.312251</td>\n",
       "      <td> 0.728031</td>\n",
       "      <td> 0.779550</td>\n",
       "    </tr>\n",
       "    <tr>\n",
       "      <th>SAAlito</th>\n",
       "      <td> 0.654954</td>\n",
       "      <td> 0.657727</td>\n",
       "      <td> 0.705017</td>\n",
       "      <td> 0.306481</td>\n",
       "      <td> 0.774492</td>\n",
       "      <td> 0.312251</td>\n",
       "      <td> 1.000000</td>\n",
       "      <td> 0.371924</td>\n",
       "      <td> 0.340696</td>\n",
       "    </tr>\n",
       "    <tr>\n",
       "      <th>SGBreyer</th>\n",
       "      <td> 0.511647</td>\n",
       "      <td> 0.311701</td>\n",
       "      <td> 0.300501</td>\n",
       "      <td> 0.788691</td>\n",
       "      <td> 0.454671</td>\n",
       "      <td> 0.728031</td>\n",
       "      <td> 0.371924</td>\n",
       "      <td> 1.000000</td>\n",
       "      <td> 0.773160</td>\n",
       "    </tr>\n",
       "    <tr>\n",
       "      <th>SSotomayor</th>\n",
       "      <td> 0.549968</td>\n",
       "      <td> 0.367536</td>\n",
       "      <td> 0.316785</td>\n",
       "      <td> 0.842929</td>\n",
       "      <td> 0.446280</td>\n",
       "      <td> 0.779550</td>\n",
       "      <td> 0.340696</td>\n",
       "      <td> 0.773160</td>\n",
       "      <td> 1.000000</td>\n",
       "    </tr>\n",
       "  </tbody>\n",
       "</table>\n",
       "</div>"
      ],
      "text/plain": [
       "justiceName  AMKennedy   AScalia   CThomas    EKagan  JGRoberts  RBGinsburg  \\\n",
       "justiceName                                                                   \n",
       "AMKennedy     1.000000  0.654281  0.584671  0.542353   0.691095    0.514097   \n",
       "AScalia       0.654281  1.000000  0.793745  0.410021   0.769038    0.379525   \n",
       "CThomas       0.584671  0.793745  1.000000  0.324544   0.678583    0.335116   \n",
       "EKagan        0.542353  0.410021  0.324544  1.000000   0.415570    0.834611   \n",
       "JGRoberts     0.691095  0.769038  0.678583  0.415570   1.000000    0.381577   \n",
       "RBGinsburg    0.514097  0.379525  0.335116  0.834611   0.381577    1.000000   \n",
       "SAAlito       0.654954  0.657727  0.705017  0.306481   0.774492    0.312251   \n",
       "SGBreyer      0.511647  0.311701  0.300501  0.788691   0.454671    0.728031   \n",
       "SSotomayor    0.549968  0.367536  0.316785  0.842929   0.446280    0.779550   \n",
       "\n",
       "justiceName   SAAlito  SGBreyer  SSotomayor  \n",
       "justiceName                                  \n",
       "AMKennedy    0.654954  0.511647    0.549968  \n",
       "AScalia      0.657727  0.311701    0.367536  \n",
       "CThomas      0.705017  0.300501    0.316785  \n",
       "EKagan       0.306481  0.788691    0.842929  \n",
       "JGRoberts    0.774492  0.454671    0.446280  \n",
       "RBGinsburg   0.312251  0.728031    0.779550  \n",
       "SAAlito      1.000000  0.371924    0.340696  \n",
       "SGBreyer     0.371924  1.000000    0.773160  \n",
       "SSotomayor   0.340696  0.773160    1.000000  "
      ]
     },
     "execution_count": 242,
     "metadata": {},
     "output_type": "execute_result"
    }
   ],
   "source": [
    "#df[ df['justiceName'].isin(recent_judges) & (df['decisionDirection'].isin([1,2])) ]\n",
    "dfp = df[ df['justiceName'].isin(recent_judges) & (df['decisionDirection'].isin([1,2])) ].pivot_table('direction','docket','justiceName')\n",
    "\n",
    "df[ df['justiceName'].isin(recent_judges) & (df['decisionDirection'].isin([1,2])) ].pivot_table('direction','docket','justiceName').corr()\n",
    "#df[ df['justiceName'].isin(recent_judges) & (df['decisionDirection'].isin([1,2])) ].pivot(index='voteId',columns='justiceName',values='direction')\n"
   ]
  },
  {
   "cell_type": "code",
   "execution_count": 244,
   "metadata": {
    "collapsed": false
   },
   "outputs": [
    {
     "data": {
      "text/plain": [
       "<matplotlib.axes._subplots.AxesSubplot at 0x346af790>"
      ]
     },
     "execution_count": 244,
     "metadata": {},
     "output_type": "execute_result"
    },
    {
     "data": {
      "image/png": "[encoded data removed]",
      "text/plain": [
       "<matplotlib.figure.Figure at 0x347d1370>"
      ]
     },
     "metadata": {},
     "output_type": "display_data"
    }
   ],
   "source": [
    "sns.heatmap(df[ df['justiceName'].isin(recent_judges) & (df['decisionDirection'].isin([1,2])) ].pivot_table('direction','docket','justiceName').corr())"
   ]
  },
  {
   "cell_type": "code",
   "execution_count": 243,
   "metadata": {
    "collapsed": false
   },
   "outputs": [
    {
     "data": {
      "text/plain": [
       "<matplotlib.axes._subplots.AxesSubplot at 0x341f53d0>"
      ]
     },
     "execution_count": 243,
     "metadata": {},
     "output_type": "execute_result"
    },
    {
     "data": {
      "image/png": "[encoded data removed]",
      "text/plain": [
       "<matplotlib.figure.Figure at 0x3368f830>"
      ]
     },
     "metadata": {},
     "output_type": "display_data"
    }
   ],
   "source": [
    "sns.corrplot(dfp, annot=True)"
   ]
  },
  {
   "cell_type": "code",
   "execution_count": 13,
   "metadata": {
    "collapsed": false
   },
   "outputs": [
    {
     "name": "stderr",
     "output_type": "stream",
     "text": [
      "C:\\Anaconda\\lib\\site-packages\\pandas\\io\\parsers.py:1159: DtypeWarning: Columns (6) have mixed types. Specify dtype option on import or set low_memory=False.\n",
      "  data = self._reader.read(nrows)\n"
     ]
    }
   ],
   "source": [
    "df = pd.read_csv('SCDB_2015_01_justiceCentered_LegalProvision.csv')"
   ]
  },
  {
   "cell_type": "code",
   "execution_count": 31,
   "metadata": {
    "collapsed": false
   },
   "outputs": [],
   "source": [
    "#df_facts['docket_number']"
   ]
  },
  {
   "cell_type": "code",
   "execution_count": 37,
   "metadata": {
    "collapsed": false
   },
   "outputs": [],
   "source": [
    "#df['docketId1']=df['docketId'].str.slice(start=5)"
   ]
  },
  {
   "cell_type": "code",
   "execution_count": 44,
   "metadata": {
    "collapsed": false
   },
   "outputs": [
    {
     "data": {
      "text/plain": [
       "49548"
      ]
     },
     "execution_count": 44,
     "metadata": {},
     "output_type": "execute_result"
    }
   ],
   "source": [
    "len( pd.merge(df,df_facts,left_on='docket',right_on='docket_number') )"
   ]
  },
  {
   "cell_type": "code",
   "execution_count": 49,
   "metadata": {
    "collapsed": false
   },
   "outputs": [
    {
     "name": "stdout",
     "output_type": "stream",
     "text": [
      "20244\n",
      "1674\n"
     ]
    }
   ],
   "source": [
    "print len(df[df['term']>1994])\n",
    "print len(df_facts[df_facts['year']>1994])"
   ]
  },
  {
   "cell_type": "code",
   "execution_count": 90,
   "metadata": {
    "collapsed": false
   },
   "outputs": [
    {
     "data": {
      "text/plain": [
       "[('court', 6764),\n",
       " ('district', 2782),\n",
       " ('federal', 1937),\n",
       " ('appeals', 1865),\n",
       " ('state', 1611),\n",
       " ('circuit', 1318),\n",
       " ('u.s.', 1157),\n",
       " ('act', 1123),\n",
       " ('supreme', 1095),\n",
       " ('held', 1078),\n",
       " ('filed', 991),\n",
       " ('argued', 757),\n",
       " ('found', 734),\n",
       " ('united', 672),\n",
       " ('new', 663),\n",
       " ('states', 661),\n",
       " ('violated', 655),\n",
       " ('trial', 630),\n",
       " ('case', 623),\n",
       " ('denied', 606),\n",
       " ('law', 590),\n",
       " ('would', 580),\n",
       " ('could', 572),\n",
       " ('section', 566),\n",
       " ('jury', 564),\n",
       " ('granted', 539),\n",
       " ('suit', 533),\n",
       " ('amendment', 518),\n",
       " ('ruled', 513),\n",
       " ('two', 511),\n",
       " ('sued', 504),\n",
       " ('police', 479),\n",
       " ('government', 473),\n",
       " ('evidence', 463),\n",
       " ('affirmed', 450),\n",
       " ('convicted', 446),\n",
       " ('first', 437),\n",
       " ('v.', 427),\n",
       " ('also', 420),\n",
       " ('right', 411),\n",
       " ('claims', 405),\n",
       " ('court,', 399),\n",
       " ('decision', 395),\n",
       " ('rights', 395),\n",
       " ('appealed', 393),\n",
       " (\"court's\", 388),\n",
       " ('judge', 385),\n",
       " ('one', 381),\n",
       " ('court.', 381),\n",
       " ('tax', 377),\n",
       " ('claim', 375),\n",
       " ('statute', 363),\n",
       " ('motion', 357),\n",
       " ('reversed', 354),\n",
       " ('dismissed', 352),\n",
       " ('appeal,', 343),\n",
       " ('holding', 341),\n",
       " ('required', 338),\n",
       " ('action', 334),\n",
       " ('ninth', 330),\n",
       " ('petition', 325),\n",
       " ('claimed', 320),\n",
       " ('without', 317),\n",
       " ('habeas', 315),\n",
       " ('california', 315),\n",
       " ('appeal', 311),\n",
       " ('public', 310),\n",
       " ('alleging', 304),\n",
       " ('based', 303),\n",
       " ('affirmed.', 300),\n",
       " ('use', 299),\n",
       " ('death', 299),\n",
       " ('violation', 295),\n",
       " ('alleged', 291),\n",
       " ('mr.', 287),\n",
       " ('sought', 286),\n",
       " ('order', 286),\n",
       " ('judgment', 285),\n",
       " ('board', 282),\n",
       " ('however,', 281),\n",
       " ('sentenced', 276),\n",
       " ('made', 275),\n",
       " ('appellate', 275),\n",
       " ('clause', 268),\n",
       " ('due', 267),\n",
       " ('school', 261),\n",
       " ('time', 261),\n",
       " ('arguing', 255),\n",
       " ('moved', 253),\n",
       " ('several', 251),\n",
       " ('company', 250),\n",
       " ('officers', 247),\n",
       " ('civil', 246),\n",
       " ('three', 246),\n",
       " ('department', 242),\n",
       " ('brought', 242),\n",
       " ('failed', 241),\n",
       " ('therefore', 240),\n",
       " ('second', 237),\n",
       " ('rejected', 237),\n",
       " ('plan', 236),\n",
       " ('drug', 236),\n",
       " ('guilty', 236),\n",
       " ('charged', 236),\n",
       " ('years', 233),\n",
       " ('city', 232),\n",
       " ('must', 231),\n",
       " ('whether', 229),\n",
       " ('used', 227),\n",
       " ('fourth', 225),\n",
       " ('attorney', 223),\n",
       " ('process', 223),\n",
       " ('challenged', 223),\n",
       " ('fifth', 223),\n",
       " ('search', 222),\n",
       " ('jurisdiction', 220),\n",
       " ('criminal', 219),\n",
       " ('sixth', 218),\n",
       " ('sentence', 218),\n",
       " ('courts', 216),\n",
       " ('ruling', 215),\n",
       " ('rule', 215),\n",
       " ('murder', 214),\n",
       " ('within', 212),\n",
       " ('conviction', 209),\n",
       " ('applied', 209),\n",
       " ('may', 209),\n",
       " ('summary', 206),\n",
       " ('agreed', 204),\n",
       " ('congress', 203),\n",
       " ('claiming', 203),\n",
       " ('employees', 202),\n",
       " ('service', 201),\n",
       " ('national', 199),\n",
       " ('protection', 198),\n",
       " ('trial,', 196),\n",
       " ('property', 196),\n",
       " ('finding', 195),\n",
       " ('inc.', 195),\n",
       " ('general', 194),\n",
       " ('officer', 194),\n",
       " ('york', 192),\n",
       " ('concluded', 190),\n",
       " ('county', 188),\n",
       " ('pay', 187),\n",
       " ('bankruptcy', 185),\n",
       " ('class', 176),\n",
       " ('florida', 176),\n",
       " ('counsel', 175),\n",
       " ('refused', 174),\n",
       " ('issued', 170),\n",
       " ('damages', 170),\n",
       " ('equal', 169),\n",
       " ('favor', 169),\n",
       " ('amendment.', 169),\n",
       " ('arrested', 167),\n",
       " ('lower', 167),\n",
       " ('act.', 166),\n",
       " ('later', 166),\n",
       " ('patent', 166),\n",
       " ('corpus', 164),\n",
       " ('plaintiffs', 163),\n",
       " ('review', 163),\n",
       " ('relief', 161),\n",
       " ('part', 161),\n",
       " ('officials', 160),\n",
       " ('group', 158),\n",
       " ('title', 158),\n",
       " ('subject', 157),\n",
       " ('certain', 157),\n",
       " ('bank', 156),\n",
       " ('prison', 156),\n",
       " ('ordered', 155),\n",
       " ('commission', 155),\n",
       " ('since', 154),\n",
       " ('security', 154),\n",
       " ('texas', 153),\n",
       " ('entered', 152),\n",
       " ('fourteenth', 152),\n",
       " ('eighth', 151),\n",
       " ('seeking', 151),\n",
       " ('received', 151),\n",
       " ('another', 150),\n",
       " ('third', 150),\n",
       " ('agreement', 150),\n",
       " ('medical', 149),\n",
       " ('allowed', 149),\n",
       " ('sentencing', 147),\n",
       " ('private', 147),\n",
       " ('requires', 146),\n",
       " ('u.s.c.', 146),\n",
       " ('prior', 145),\n",
       " ('set', 145),\n",
       " ('including', 144),\n",
       " ('that,', 143),\n",
       " ('law.', 143),\n",
       " ('provided', 143),\n",
       " ('authority', 142),\n",
       " ('asked', 142),\n",
       " ('home', 141)]"
      ]
     },
     "execution_count": 90,
     "metadata": {},
     "output_type": "execute_result"
    }
   ],
   "source": [
    "collections.Counter(\" \".join(df_facts[\"facts2\"]).split()).most_common(200)"
   ]
  },
  {
   "cell_type": "code",
   "execution_count": 79,
   "metadata": {
    "collapsed": false
   },
   "outputs": [
    {
     "name": "stderr",
     "output_type": "stream",
     "text": [
      "C:\\Anaconda\\lib\\site-packages\\IPython\\kernel\\__main__.py:2: UnicodeWarning: Unicode equal comparison failed to convert both arguments to Unicode - interpreting them as being unequal\n",
      "  from IPython.kernel.zmq import kernelapp as app\n"
     ]
    }
   ],
   "source": [
    "stop = stopwords.words('english')\n",
    "df_facts['facts1']=df_facts['facts_of_the_case'].apply(lambda x: [item.lower() for item in x.split() if item.lower() not in stop])"
   ]
  },
  {
   "cell_type": "code",
   "execution_count": 88,
   "metadata": {
    "collapsed": false
   },
   "outputs": [],
   "source": [
    "df_facts['facts2']=df_facts['facts1'].apply(lambda x: ' '.join(x))"
   ]
  },
  {
   "cell_type": "code",
   "execution_count": 82,
   "metadata": {
    "collapsed": false
   },
   "outputs": [
    {
     "data": {
      "text/plain": [
       "0     [food, drug, administration, (\"fda\"), fired, k...\n",
       "1     [nelson,, member, communist, party,, convicted...\n",
       "2     [judson, griffin, james, crenshaw, indicted, a...\n",
       "3     [residing, airbase, england, military, depende...\n",
       "4     [1944,, united, states, army, private, albert,...\n",
       "5     [clinton, jencks,, union, leader,, charged, fa...\n",
       "6     [august, 12,, 1954,, agents, federal, bureau, ...\n",
       "7                                          [available.]\n",
       "8     [andrew, mallory, arrested, federal, officers,...\n",
       "9     [roth, operated, book-selling, business, new, ...\n",
       "10    [new, york, state, law, authorized, legal, cou...\n",
       "11    [rev., martin, luther, king,, jr., led, boycot...\n",
       "12    [1954,, john, watkins,, labor, organizer,, cal...\n",
       "13    [alberts, conducted, mail-order, business, sol...\n",
       "14    [fourteen, leaders, communist, party, state, c...\n",
       "...\n",
       "2471    [police, entered, gregory, welch’s, apartment,...\n",
       "2472    [several, prisoners, housed, special, manageme...\n",
       "2473    [mhn, government, services, (mhn), hired, plai...\n",
       "2474    [2008,, luis, m., sanchez, valle, charged, fed...\n",
       "2475    [parents, joseph, p., murr, siblings, (the, mu...\n",
       "2476    [academic, textbook, publisher, john, wiley, &...\n",
       "2477    [2012,, arizona, independent, redistricting, c...\n",
       "2478    [police, called, south, st., paul, boat, launc...\n",
       "2479    [plaintiffs, brought, class, action, suit, mic...\n",
       "2480    [trinity, lutheran, church, columbia,, inc., (...\n",
       "2481    [stryker, corporation, (stryker), sued, zimmer...\n",
       "2482    [september, 7,, 2008,, amy, imburgia, filed, c...\n",
       "2483    [equal, employment, opportunity, commission, (...\n",
       "2484    [2003,, lester, nichols, charged, intent, enga...\n",
       "2485    [1999,, jorge, luna, torres,, citizen, dominic...\n",
       "Name: facts1, Length: 2486, dtype: object"
      ]
     },
     "execution_count": 82,
     "metadata": {},
     "output_type": "execute_result"
    }
   ],
   "source": [
    "df_facts['facts1']"
   ]
  },
  {
   "cell_type": "code",
   "execution_count": 73,
   "metadata": {
    "collapsed": false
   },
   "outputs": [
    {
     "data": {
      "text/plain": [
       "array([ 'The Food and Drug Administration (\"FDA\") fired Kendrick Cole when it determined that his employment was not \"clearly consistent with the interests of national security.\" Mr. Cole was a food and drug inspector and a \"preference-eligible veteran,\" but was charged with having \"a close association with individuals reliably reported to be Communists.\" Mr. Cole appealed his discharge to the Civil Service Commission, which denied his appeal, finding that the Veterans\\' Preference Act did not afford Mr. Cole a right of appeal under the circumstances. Mr. Cole brought an action seeking declaratory judgment in the District of Columbia federal district court alleging that his discharge was invalid and that the Civil Service Commission improperly denied his appeal. The district court dismissed the case and the U.S. Court of Appeals for the District of Columbia affirmed.',\n",
       "       \"Nelson, a member of the Communist Party, was convicted of violating the Pennsylvania Sedition Act. This Act was implemented prior to Congress's adoption of the Smith Act of 1940 (amended in 1948) which prohibited the same conduct as Pennsylvania's law.\",\n",
       "       'Judson Griffin and James Crenshaw were indicted for armed robbery in Cook County, Illinois. Following their conviction, in preparation for filling for an appeal, Griffin and Crenshaw requested a transcript of their trial proceedings without cost, on the basis that they could not afford the standard fee for the transcript. The lower court dismissed the petition without hearing evidence.',\n",
       "       ...,\n",
       "       'The Equal Employment Opportunity Commission (EEOC) filed a sexual harassment suit on behalf of approximately 270 female employees against CRST Van Expedited (CRST). Two years after filing the suit, the EEOC failed to identify the 270 women, and the district court ordered the EEOC to amend its list of 270 women to include only the women who wished to continue with the suit and to ensure that those women be available for deposition. The EEOC complied with the first court order and failed to fulfill the second before the deadline. CRST had filed seven motions to dismiss, and the district granted (or granted in part) six of the motions. CRST subsequently filed a bill of costs against the EEOC for $4,560,285.11, and the district court granted the fee award.The EEOC appealed, and the U.S. Court of Appeals for the Eighth Circuit reversed the fee award. The appellate court held that the EEOC\\xe2\\x80\\x99s pre-suit obligations were not elements of the claim and did not constitute a ruling on the merits that was eligible for fees.',\n",
       "       'In 2003, Lester Nichols was charged with intent to engage in sex with a minor. In 2006, the Sexual Offender Registration and Notification Act (SORNA) was passed, and the Attorney General issued a rule in 2007 that SORNA applied retroactively to convicted sex offenders. Under this rule, Nichols was required to register with SORNA and update his residency. In 2012, Nichols flew from Kansas to the Philippines without updating his location pursuant to SORNA. Authorities in the Philippines took Nichols into custody and returned him to the United States where he was charged with noncompliance with SORNA regulations regarding updating his residency. Nichols filed a motion to dismiss and argued that the Philippines are outside U.S. jurisdiction, so he was not required to update his location. The trial court dismissed his motion, and Nichols plead guilty. He then appealed to the U.S. Court of Appeals for the Tenth Circuit, which affirmed his conviction.',\n",
       "       'In 1999, Jorge Luna Torres, a citizen of the Dominican Republic and a lawful permanent resident of the United States, was convicted of violating a New York state arson statute. In 2007, the Immigration and Naturalization Service (INS) issued a notice charging Torres with inadmissibility because he was an \\xe2\\x80\\x9calien convicted of a crime involving moral turpitude.\\xe2\\x80\\x9d Torres applied for a cancellation of the removal order and the immigration judge held that Torres was both removable as charged and ineligible for a cancellation of the removal order because he was a permanent resident convicted of an aggravated felony; the Board of Immigration Appeals (BIA) had previously held that a conviction under the New York state arson statute constituted an aggravated felony. Torres appealed to the BIA and argued that the previous ruling should be reexamined. The BIA dismissed Torres\\xe2\\x80\\x99 appeal, and Torres petitioned for review by the U.S. Court of Appeals for the Second Circuit. Prior to the oral argument before the appellate court, the U.S. Court of Appeals for the Third Circuit vacated the BIA\\xe2\\x80\\x99s ruling and concluded that violation of the New York state arson statute did not constitute an aggravated felony because the state statute lacked the federal statute\\xe2\\x80\\x99s interstate commerce element. That decision conflicted with the interpretations of other circuit courts of appeals, and the appellate court in this case upheld the denial of Torres\\xe2\\x80\\x99 petition for cancellation of the removal order.'], dtype=object)"
      ]
     },
     "execution_count": 73,
     "metadata": {},
     "output_type": "execute_result"
    }
   ],
   "source": [
    "df_facts['facts_of_the_case'].values"
   ]
  },
  {
   "cell_type": "code",
   "execution_count": 59,
   "metadata": {
    "collapsed": false
   },
   "outputs": [
    {
     "data": {
      "text/plain": [
       "the    35182\n",
       "of     14069\n",
       "to     11011\n",
       "dtype: int64"
      ]
     },
     "execution_count": 59,
     "metadata": {},
     "output_type": "execute_result"
    }
   ],
   "source": [
    "vect= CountVectorizer()\n",
    "X = vect.fit_transform(df_facts['facts_of_the_case'].values)\n",
    "word_counts =pd.DataFrame(X.todense(),columns = vect.get_feature_names()).T.sum(axis=1)\n",
    "word_counts.sort(ascending=False)\n",
    "word_counts[:3]"
   ]
  }
 ],
 "metadata": {
  "kernelspec": {
   "display_name": "Python 3",
   "language": "python",
   "name": "python3"
  },
  "language_info": {
   "codemirror_mode": {
    "name": "ipython",
    "version": 3
   },
   "file_extension": ".py",
   "mimetype": "text/x-python",
   "name": "python",
   "nbconvert_exporter": "python",
   "pygments_lexer": "ipython3",
   "version": "3.4.3+"
  }
 },
 "nbformat": 4,
 "nbformat_minor": 0
}
