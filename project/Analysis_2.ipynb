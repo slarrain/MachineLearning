{
 "cells": [
  {
   "cell_type": "code",
   "execution_count": 1,
   "metadata": {
    "collapsed": false
   },
   "outputs": [
    {
     "name": "stderr",
     "output_type": "stream",
     "text": [
      "/usr/local/lib/python3.4/dist-packages/matplotlib/backends/backend_gtk3agg.py:18: UserWarning: The Gtk3Agg backend is known to not work on Python 3.x with pycairo. Try installing cairocffi.\n",
      "  \"The Gtk3Agg backend is known to not work on Python 3.x with pycairo. \"\n"
     ]
    }
   ],
   "source": [
    "import urllib\n",
    "import pandas as pd\n",
    "import sys\n",
    "import collections\n",
    "from sklearn.feature_extraction.text import CountVectorizer, TfidfVectorizer\n",
    "import nltk\n",
    "from nltk.corpus import stopwords\n",
    "import seaborn as sns\n",
    "from sklearn.ensemble import RandomForestClassifier\n",
    "from sklearn.linear_model import LogisticRegression\n",
    "from sklearn.neighbors import KNeighborsClassifier\n",
    "from sklearn.svm import LinearSVC\n",
    "from sklearn import cross_validation\n",
    "from time import time\n",
    "from sklearn.metrics import recall_score,precision_score,accuracy_score\n",
    "\n",
    "judges = ['AScalia', 'AMKennedy', 'CThomas','RBGinsburg', 'SGBreyer', 'JGRoberts', 'SAAlito', 'SSotomayor','EKagan']\n",
    "train_cols = ['issue','issueArea','lcDispositionDirection','petitioner','respondent']\n",
    "\n"
   ]
  },
  {
   "cell_type": "code",
   "execution_count": 2,
   "metadata": {
    "collapsed": true
   },
   "outputs": [],
   "source": [
    "def read():\n",
    "    facts = pd.read_table('cases_55-15.csv',sep='|')\n",
    "    df_justice_all = pd.read_csv('SCDB_2015_02_justiceCentered_LegalProvision.csv', encoding=\"ISO-8859-1\")\n",
    "    return df_justice_all, facts"
   ]
  },
  {
   "cell_type": "code",
   "execution_count": 3,
   "metadata": {
    "collapsed": true
   },
   "outputs": [],
   "source": [
    "def tfvecto(list_of_facts, x=1):\n",
    "    tfvec = TfidfVectorizer(analyzer='word', stop_words=stopwords.words('english'), ngram_range=(1, x))\n",
    "    X = tfvec.fit_transform(list_of_facts)\n",
    "    return X"
   ]
  },
  {
   "cell_type": "code",
   "execution_count": 7,
   "metadata": {
    "collapsed": true
   },
   "outputs": [],
   "source": [
    "    df_justice_all, facts = read()\n",
    "    df = pd.merge(df_justice_all,facts,left_on='docket',right_on='docket_number')\n",
    "    cur_df = df[df['justiceName'].isin(judges)] #DF with only the current judges + Scalia\n",
    "    cur_df = cur_df[cur_df.direction.notnull()] #DF where each Judge has a direction.\n",
    "                                                # Can't train otherwise\n",
    "    cur_df.reset_index(inplace=True)"
   ]
  },
  {
   "cell_type": "code",
   "execution_count": 8,
   "metadata": {
    "collapsed": true
   },
   "outputs": [],
   "source": [
    "X = tfvecto(cur_df.facts_of_the_case, 2)"
   ]
  },
  {
   "cell_type": "code",
   "execution_count": 18,
   "metadata": {
    "collapsed": false
   },
   "outputs": [
    {
     "data": {
      "text/plain": [
       "<11951x14658 sparse matrix of type '<class 'numpy.float64'>'\n",
       "\twith 892082 stored elements in Compressed Sparse Row format>"
      ]
     },
     "execution_count": 18,
     "metadata": {},
     "output_type": "execute_result"
    }
   ],
   "source": [
    "X"
   ]
  },
  {
   "cell_type": "code",
   "execution_count": 10,
   "metadata": {
    "collapsed": true
   },
   "outputs": [],
   "source": [
    "jn = pd.get_dummies(cur_df.justiceName, sparse=True)"
   ]
  },
  {
   "cell_type": "code",
   "execution_count": 15,
   "metadata": {
    "collapsed": true
   },
   "outputs": [],
   "source": [
    "from scipy import sparse"
   ]
  },
  {
   "cell_type": "code",
   "execution_count": 16,
   "metadata": {
    "collapsed": false
   },
   "outputs": [],
   "source": [
    "A = sparse.coo_matrix(jn)"
   ]
  },
  {
   "cell_type": "code",
   "execution_count": 19,
   "metadata": {
    "collapsed": false
   },
   "outputs": [],
   "source": [
    "Q = sparse.hstack([X, A])"
   ]
  },
  {
   "cell_type": "code",
   "execution_count": 29,
   "metadata": {
    "collapsed": false
   },
   "outputs": [],
   "source": [
    "W = Q.tocsr()"
   ]
  },
  {
   "cell_type": "code",
   "execution_count": 32,
   "metadata": {
    "collapsed": false
   },
   "outputs": [
    {
     "name": "stdout",
     "output_type": "stream",
     "text": [
      "Fitting model...\n",
      "Score:  0.762442492681\n",
      "Baseline:  0.548724383103\n",
      "Time: 471.291s\n",
      "---------------\n",
      "Fitting model...\n",
      "Score:  0.782845188285\n",
      "Baseline:  0.554811715481\n",
      "Time: 418.623s\n",
      "---------------\n",
      "Fitting model...\n",
      "Score:  0.792887029289\n",
      "Baseline:  0.538912133891\n",
      "Time: 450.694s\n",
      "---------------\n",
      "Fitting model...\n",
      "Score:  0.784518828452\n",
      "Baseline:  0.540167364017\n",
      "Time: 411.346s\n",
      "---------------\n",
      "Fitting model...\n",
      "Score:  0.783682008368\n",
      "Baseline:  0.538075313808\n",
      "Time: 191.447s\n",
      "---------------\n",
      "Score of CLF =  0.781275109415\n",
      "Baseline of =  0.54413818206\n"
     ]
    },
    {
     "data": {
      "text/html": [
       "<div>\n",
       "<table border=\"1\" class=\"dataframe\">\n",
       "  <thead>\n",
       "    <tr style=\"text-align: right;\">\n",
       "      <th></th>\n",
       "      <th>predicted</th>\n",
       "      <th>direction</th>\n",
       "      <th>justiceName</th>\n",
       "      <th>issueArea</th>\n",
       "    </tr>\n",
       "  </thead>\n",
       "  <tbody>\n",
       "    <tr>\n",
       "      <th>0</th>\n",
       "      <td>2</td>\n",
       "      <td>2.0</td>\n",
       "      <td>AScalia</td>\n",
       "      <td>2.0</td>\n",
       "    </tr>\n",
       "    <tr>\n",
       "      <th>1</th>\n",
       "      <td>2</td>\n",
       "      <td>2.0</td>\n",
       "      <td>AScalia</td>\n",
       "      <td>2.0</td>\n",
       "    </tr>\n",
       "    <tr>\n",
       "      <th>2</th>\n",
       "      <td>2</td>\n",
       "      <td>2.0</td>\n",
       "      <td>AMKennedy</td>\n",
       "      <td>2.0</td>\n",
       "    </tr>\n",
       "    <tr>\n",
       "      <th>3</th>\n",
       "      <td>2</td>\n",
       "      <td>2.0</td>\n",
       "      <td>AMKennedy</td>\n",
       "      <td>2.0</td>\n",
       "    </tr>\n",
       "    <tr>\n",
       "      <th>4</th>\n",
       "      <td>2</td>\n",
       "      <td>1.0</td>\n",
       "      <td>CThomas</td>\n",
       "      <td>2.0</td>\n",
       "    </tr>\n",
       "    <tr>\n",
       "      <th>5</th>\n",
       "      <td>2</td>\n",
       "      <td>1.0</td>\n",
       "      <td>CThomas</td>\n",
       "      <td>2.0</td>\n",
       "    </tr>\n",
       "    <tr>\n",
       "      <th>6</th>\n",
       "      <td>2</td>\n",
       "      <td>2.0</td>\n",
       "      <td>RBGinsburg</td>\n",
       "      <td>2.0</td>\n",
       "    </tr>\n",
       "    <tr>\n",
       "      <th>7</th>\n",
       "      <td>2</td>\n",
       "      <td>2.0</td>\n",
       "      <td>RBGinsburg</td>\n",
       "      <td>2.0</td>\n",
       "    </tr>\n",
       "    <tr>\n",
       "      <th>8</th>\n",
       "      <td>2</td>\n",
       "      <td>2.0</td>\n",
       "      <td>SGBreyer</td>\n",
       "      <td>2.0</td>\n",
       "    </tr>\n",
       "    <tr>\n",
       "      <th>9</th>\n",
       "      <td>2</td>\n",
       "      <td>2.0</td>\n",
       "      <td>SGBreyer</td>\n",
       "      <td>2.0</td>\n",
       "    </tr>\n",
       "    <tr>\n",
       "      <th>10</th>\n",
       "      <td>2</td>\n",
       "      <td>2.0</td>\n",
       "      <td>AScalia</td>\n",
       "      <td>2.0</td>\n",
       "    </tr>\n",
       "    <tr>\n",
       "      <th>11</th>\n",
       "      <td>2</td>\n",
       "      <td>2.0</td>\n",
       "      <td>AScalia</td>\n",
       "      <td>2.0</td>\n",
       "    </tr>\n",
       "    <tr>\n",
       "      <th>12</th>\n",
       "      <td>2</td>\n",
       "      <td>2.0</td>\n",
       "      <td>AMKennedy</td>\n",
       "      <td>2.0</td>\n",
       "    </tr>\n",
       "    <tr>\n",
       "      <th>13</th>\n",
       "      <td>2</td>\n",
       "      <td>2.0</td>\n",
       "      <td>AMKennedy</td>\n",
       "      <td>2.0</td>\n",
       "    </tr>\n",
       "    <tr>\n",
       "      <th>14</th>\n",
       "      <td>1</td>\n",
       "      <td>2.0</td>\n",
       "      <td>CThomas</td>\n",
       "      <td>2.0</td>\n",
       "    </tr>\n",
       "    <tr>\n",
       "      <th>15</th>\n",
       "      <td>1</td>\n",
       "      <td>2.0</td>\n",
       "      <td>CThomas</td>\n",
       "      <td>2.0</td>\n",
       "    </tr>\n",
       "    <tr>\n",
       "      <th>16</th>\n",
       "      <td>2</td>\n",
       "      <td>2.0</td>\n",
       "      <td>RBGinsburg</td>\n",
       "      <td>2.0</td>\n",
       "    </tr>\n",
       "    <tr>\n",
       "      <th>17</th>\n",
       "      <td>2</td>\n",
       "      <td>2.0</td>\n",
       "      <td>RBGinsburg</td>\n",
       "      <td>2.0</td>\n",
       "    </tr>\n",
       "    <tr>\n",
       "      <th>18</th>\n",
       "      <td>2</td>\n",
       "      <td>2.0</td>\n",
       "      <td>SGBreyer</td>\n",
       "      <td>2.0</td>\n",
       "    </tr>\n",
       "    <tr>\n",
       "      <th>19</th>\n",
       "      <td>2</td>\n",
       "      <td>2.0</td>\n",
       "      <td>SGBreyer</td>\n",
       "      <td>2.0</td>\n",
       "    </tr>\n",
       "    <tr>\n",
       "      <th>20</th>\n",
       "      <td>2</td>\n",
       "      <td>2.0</td>\n",
       "      <td>AScalia</td>\n",
       "      <td>10.0</td>\n",
       "    </tr>\n",
       "    <tr>\n",
       "      <th>21</th>\n",
       "      <td>2</td>\n",
       "      <td>2.0</td>\n",
       "      <td>AScalia</td>\n",
       "      <td>10.0</td>\n",
       "    </tr>\n",
       "    <tr>\n",
       "      <th>22</th>\n",
       "      <td>1</td>\n",
       "      <td>1.0</td>\n",
       "      <td>AScalia</td>\n",
       "      <td>1.0</td>\n",
       "    </tr>\n",
       "    <tr>\n",
       "      <th>23</th>\n",
       "      <td>1</td>\n",
       "      <td>2.0</td>\n",
       "      <td>AScalia</td>\n",
       "      <td>1.0</td>\n",
       "    </tr>\n",
       "    <tr>\n",
       "      <th>24</th>\n",
       "      <td>1</td>\n",
       "      <td>2.0</td>\n",
       "      <td>AScalia</td>\n",
       "      <td>12.0</td>\n",
       "    </tr>\n",
       "    <tr>\n",
       "      <th>25</th>\n",
       "      <td>2</td>\n",
       "      <td>2.0</td>\n",
       "      <td>AScalia</td>\n",
       "      <td>3.0</td>\n",
       "    </tr>\n",
       "    <tr>\n",
       "      <th>26</th>\n",
       "      <td>2</td>\n",
       "      <td>2.0</td>\n",
       "      <td>AScalia</td>\n",
       "      <td>3.0</td>\n",
       "    </tr>\n",
       "    <tr>\n",
       "      <th>27</th>\n",
       "      <td>1</td>\n",
       "      <td>1.0</td>\n",
       "      <td>AScalia</td>\n",
       "      <td>2.0</td>\n",
       "    </tr>\n",
       "    <tr>\n",
       "      <th>28</th>\n",
       "      <td>1</td>\n",
       "      <td>1.0</td>\n",
       "      <td>AScalia</td>\n",
       "      <td>2.0</td>\n",
       "    </tr>\n",
       "    <tr>\n",
       "      <th>29</th>\n",
       "      <td>1</td>\n",
       "      <td>1.0</td>\n",
       "      <td>AScalia</td>\n",
       "      <td>10.0</td>\n",
       "    </tr>\n",
       "    <tr>\n",
       "      <th>...</th>\n",
       "      <td>...</td>\n",
       "      <td>...</td>\n",
       "      <td>...</td>\n",
       "      <td>...</td>\n",
       "    </tr>\n",
       "    <tr>\n",
       "      <th>11921</th>\n",
       "      <td>2</td>\n",
       "      <td>2.0</td>\n",
       "      <td>RBGinsburg</td>\n",
       "      <td>9.0</td>\n",
       "    </tr>\n",
       "    <tr>\n",
       "      <th>11922</th>\n",
       "      <td>2</td>\n",
       "      <td>2.0</td>\n",
       "      <td>SGBreyer</td>\n",
       "      <td>9.0</td>\n",
       "    </tr>\n",
       "    <tr>\n",
       "      <th>11923</th>\n",
       "      <td>2</td>\n",
       "      <td>2.0</td>\n",
       "      <td>SAAlito</td>\n",
       "      <td>9.0</td>\n",
       "    </tr>\n",
       "    <tr>\n",
       "      <th>11924</th>\n",
       "      <td>2</td>\n",
       "      <td>2.0</td>\n",
       "      <td>SSotomayor</td>\n",
       "      <td>9.0</td>\n",
       "    </tr>\n",
       "    <tr>\n",
       "      <th>11925</th>\n",
       "      <td>2</td>\n",
       "      <td>2.0</td>\n",
       "      <td>EKagan</td>\n",
       "      <td>9.0</td>\n",
       "    </tr>\n",
       "    <tr>\n",
       "      <th>11926</th>\n",
       "      <td>1</td>\n",
       "      <td>1.0</td>\n",
       "      <td>JGRoberts</td>\n",
       "      <td>2.0</td>\n",
       "    </tr>\n",
       "    <tr>\n",
       "      <th>11927</th>\n",
       "      <td>1</td>\n",
       "      <td>1.0</td>\n",
       "      <td>AScalia</td>\n",
       "      <td>2.0</td>\n",
       "    </tr>\n",
       "    <tr>\n",
       "      <th>11928</th>\n",
       "      <td>1</td>\n",
       "      <td>1.0</td>\n",
       "      <td>AMKennedy</td>\n",
       "      <td>2.0</td>\n",
       "    </tr>\n",
       "    <tr>\n",
       "      <th>11929</th>\n",
       "      <td>1</td>\n",
       "      <td>1.0</td>\n",
       "      <td>CThomas</td>\n",
       "      <td>2.0</td>\n",
       "    </tr>\n",
       "    <tr>\n",
       "      <th>11930</th>\n",
       "      <td>2</td>\n",
       "      <td>1.0</td>\n",
       "      <td>RBGinsburg</td>\n",
       "      <td>2.0</td>\n",
       "    </tr>\n",
       "    <tr>\n",
       "      <th>11931</th>\n",
       "      <td>2</td>\n",
       "      <td>1.0</td>\n",
       "      <td>SGBreyer</td>\n",
       "      <td>2.0</td>\n",
       "    </tr>\n",
       "    <tr>\n",
       "      <th>11932</th>\n",
       "      <td>2</td>\n",
       "      <td>1.0</td>\n",
       "      <td>SSotomayor</td>\n",
       "      <td>2.0</td>\n",
       "    </tr>\n",
       "    <tr>\n",
       "      <th>11933</th>\n",
       "      <td>1</td>\n",
       "      <td>1.0</td>\n",
       "      <td>EKagan</td>\n",
       "      <td>2.0</td>\n",
       "    </tr>\n",
       "    <tr>\n",
       "      <th>11934</th>\n",
       "      <td>2</td>\n",
       "      <td>2.0</td>\n",
       "      <td>JGRoberts</td>\n",
       "      <td>1.0</td>\n",
       "    </tr>\n",
       "    <tr>\n",
       "      <th>11935</th>\n",
       "      <td>2</td>\n",
       "      <td>2.0</td>\n",
       "      <td>AScalia</td>\n",
       "      <td>1.0</td>\n",
       "    </tr>\n",
       "    <tr>\n",
       "      <th>11936</th>\n",
       "      <td>1</td>\n",
       "      <td>2.0</td>\n",
       "      <td>AMKennedy</td>\n",
       "      <td>1.0</td>\n",
       "    </tr>\n",
       "    <tr>\n",
       "      <th>11937</th>\n",
       "      <td>2</td>\n",
       "      <td>2.0</td>\n",
       "      <td>CThomas</td>\n",
       "      <td>1.0</td>\n",
       "    </tr>\n",
       "    <tr>\n",
       "      <th>11938</th>\n",
       "      <td>2</td>\n",
       "      <td>2.0</td>\n",
       "      <td>RBGinsburg</td>\n",
       "      <td>1.0</td>\n",
       "    </tr>\n",
       "    <tr>\n",
       "      <th>11939</th>\n",
       "      <td>2</td>\n",
       "      <td>2.0</td>\n",
       "      <td>SGBreyer</td>\n",
       "      <td>1.0</td>\n",
       "    </tr>\n",
       "    <tr>\n",
       "      <th>11940</th>\n",
       "      <td>2</td>\n",
       "      <td>2.0</td>\n",
       "      <td>SAAlito</td>\n",
       "      <td>1.0</td>\n",
       "    </tr>\n",
       "    <tr>\n",
       "      <th>11941</th>\n",
       "      <td>2</td>\n",
       "      <td>2.0</td>\n",
       "      <td>SSotomayor</td>\n",
       "      <td>1.0</td>\n",
       "    </tr>\n",
       "    <tr>\n",
       "      <th>11942</th>\n",
       "      <td>2</td>\n",
       "      <td>2.0</td>\n",
       "      <td>EKagan</td>\n",
       "      <td>1.0</td>\n",
       "    </tr>\n",
       "    <tr>\n",
       "      <th>11943</th>\n",
       "      <td>1</td>\n",
       "      <td>1.0</td>\n",
       "      <td>JGRoberts</td>\n",
       "      <td>2.0</td>\n",
       "    </tr>\n",
       "    <tr>\n",
       "      <th>11944</th>\n",
       "      <td>1</td>\n",
       "      <td>1.0</td>\n",
       "      <td>AScalia</td>\n",
       "      <td>2.0</td>\n",
       "    </tr>\n",
       "    <tr>\n",
       "      <th>11945</th>\n",
       "      <td>1</td>\n",
       "      <td>1.0</td>\n",
       "      <td>AMKennedy</td>\n",
       "      <td>2.0</td>\n",
       "    </tr>\n",
       "    <tr>\n",
       "      <th>11946</th>\n",
       "      <td>1</td>\n",
       "      <td>1.0</td>\n",
       "      <td>CThomas</td>\n",
       "      <td>2.0</td>\n",
       "    </tr>\n",
       "    <tr>\n",
       "      <th>11947</th>\n",
       "      <td>2</td>\n",
       "      <td>1.0</td>\n",
       "      <td>SGBreyer</td>\n",
       "      <td>2.0</td>\n",
       "    </tr>\n",
       "    <tr>\n",
       "      <th>11948</th>\n",
       "      <td>1</td>\n",
       "      <td>1.0</td>\n",
       "      <td>SAAlito</td>\n",
       "      <td>2.0</td>\n",
       "    </tr>\n",
       "    <tr>\n",
       "      <th>11949</th>\n",
       "      <td>2</td>\n",
       "      <td>1.0</td>\n",
       "      <td>SSotomayor</td>\n",
       "      <td>2.0</td>\n",
       "    </tr>\n",
       "    <tr>\n",
       "      <th>11950</th>\n",
       "      <td>2</td>\n",
       "      <td>1.0</td>\n",
       "      <td>EKagan</td>\n",
       "      <td>2.0</td>\n",
       "    </tr>\n",
       "  </tbody>\n",
       "</table>\n",
       "<p>11951 rows × 4 columns</p>\n",
       "</div>"
      ],
      "text/plain": [
       "       predicted  direction justiceName  issueArea\n",
       "0              2        2.0     AScalia        2.0\n",
       "1              2        2.0     AScalia        2.0\n",
       "2              2        2.0   AMKennedy        2.0\n",
       "3              2        2.0   AMKennedy        2.0\n",
       "4              2        1.0     CThomas        2.0\n",
       "5              2        1.0     CThomas        2.0\n",
       "6              2        2.0  RBGinsburg        2.0\n",
       "7              2        2.0  RBGinsburg        2.0\n",
       "8              2        2.0    SGBreyer        2.0\n",
       "9              2        2.0    SGBreyer        2.0\n",
       "10             2        2.0     AScalia        2.0\n",
       "11             2        2.0     AScalia        2.0\n",
       "12             2        2.0   AMKennedy        2.0\n",
       "13             2        2.0   AMKennedy        2.0\n",
       "14             1        2.0     CThomas        2.0\n",
       "15             1        2.0     CThomas        2.0\n",
       "16             2        2.0  RBGinsburg        2.0\n",
       "17             2        2.0  RBGinsburg        2.0\n",
       "18             2        2.0    SGBreyer        2.0\n",
       "19             2        2.0    SGBreyer        2.0\n",
       "20             2        2.0     AScalia       10.0\n",
       "21             2        2.0     AScalia       10.0\n",
       "22             1        1.0     AScalia        1.0\n",
       "23             1        2.0     AScalia        1.0\n",
       "24             1        2.0     AScalia       12.0\n",
       "25             2        2.0     AScalia        3.0\n",
       "26             2        2.0     AScalia        3.0\n",
       "27             1        1.0     AScalia        2.0\n",
       "28             1        1.0     AScalia        2.0\n",
       "29             1        1.0     AScalia       10.0\n",
       "...          ...        ...         ...        ...\n",
       "11921          2        2.0  RBGinsburg        9.0\n",
       "11922          2        2.0    SGBreyer        9.0\n",
       "11923          2        2.0     SAAlito        9.0\n",
       "11924          2        2.0  SSotomayor        9.0\n",
       "11925          2        2.0      EKagan        9.0\n",
       "11926          1        1.0   JGRoberts        2.0\n",
       "11927          1        1.0     AScalia        2.0\n",
       "11928          1        1.0   AMKennedy        2.0\n",
       "11929          1        1.0     CThomas        2.0\n",
       "11930          2        1.0  RBGinsburg        2.0\n",
       "11931          2        1.0    SGBreyer        2.0\n",
       "11932          2        1.0  SSotomayor        2.0\n",
       "11933          1        1.0      EKagan        2.0\n",
       "11934          2        2.0   JGRoberts        1.0\n",
       "11935          2        2.0     AScalia        1.0\n",
       "11936          1        2.0   AMKennedy        1.0\n",
       "11937          2        2.0     CThomas        1.0\n",
       "11938          2        2.0  RBGinsburg        1.0\n",
       "11939          2        2.0    SGBreyer        1.0\n",
       "11940          2        2.0     SAAlito        1.0\n",
       "11941          2        2.0  SSotomayor        1.0\n",
       "11942          2        2.0      EKagan        1.0\n",
       "11943          1        1.0   JGRoberts        2.0\n",
       "11944          1        1.0     AScalia        2.0\n",
       "11945          1        1.0   AMKennedy        2.0\n",
       "11946          1        1.0     CThomas        2.0\n",
       "11947          2        1.0    SGBreyer        2.0\n",
       "11948          1        1.0     SAAlito        2.0\n",
       "11949          2        1.0  SSotomayor        2.0\n",
       "11950          2        1.0      EKagan        2.0\n",
       "\n",
       "[11951 rows x 4 columns]"
      ]
     },
     "execution_count": 32,
     "metadata": {},
     "output_type": "execute_result"
    }
   ],
   "source": [
    "cross_v(W, cur_df)"
   ]
  },
  {
   "cell_type": "code",
   "execution_count": 33,
   "metadata": {
    "collapsed": false
   },
   "outputs": [
    {
     "name": "stdout",
     "output_type": "stream",
     "text": [
      "Fitting model...\n",
      "Score:  0.771643663739\n",
      "Baseline:  0.544123797574\n",
      "Time: 204.097s\n",
      "---------------\n",
      "Fitting model...\n",
      "Score:  0.771129707113\n",
      "Baseline:  0.54769874477\n",
      "Time: 197.915s\n",
      "---------------\n",
      "Fitting model...\n",
      "Score:  0.767782426778\n",
      "Baseline:  0.548953974895\n",
      "Time: 228.456s\n",
      "---------------\n",
      "Fitting model...\n",
      "Score:  0.775732217573\n",
      "Baseline:  0.542677824268\n",
      "Time: 226.543s\n",
      "---------------\n",
      "Fitting model...\n",
      "Score:  0.794979079498\n",
      "Baseline:  0.537238493724\n",
      "Time: 230.847s\n",
      "---------------\n",
      "Score of CLF =  0.77625341894\n",
      "Baseline of =  0.544138567046\n"
     ]
    },
    {
     "data": {
      "text/html": [
       "<div>\n",
       "<table border=\"1\" class=\"dataframe\">\n",
       "  <thead>\n",
       "    <tr style=\"text-align: right;\">\n",
       "      <th></th>\n",
       "      <th>predicted</th>\n",
       "      <th>direction</th>\n",
       "      <th>justiceName</th>\n",
       "      <th>issueArea</th>\n",
       "    </tr>\n",
       "  </thead>\n",
       "  <tbody>\n",
       "    <tr>\n",
       "      <th>0</th>\n",
       "      <td>2</td>\n",
       "      <td>2.0</td>\n",
       "      <td>AScalia</td>\n",
       "      <td>2.0</td>\n",
       "    </tr>\n",
       "    <tr>\n",
       "      <th>1</th>\n",
       "      <td>2</td>\n",
       "      <td>2.0</td>\n",
       "      <td>AScalia</td>\n",
       "      <td>2.0</td>\n",
       "    </tr>\n",
       "    <tr>\n",
       "      <th>2</th>\n",
       "      <td>2</td>\n",
       "      <td>2.0</td>\n",
       "      <td>AMKennedy</td>\n",
       "      <td>2.0</td>\n",
       "    </tr>\n",
       "    <tr>\n",
       "      <th>3</th>\n",
       "      <td>2</td>\n",
       "      <td>2.0</td>\n",
       "      <td>AMKennedy</td>\n",
       "      <td>2.0</td>\n",
       "    </tr>\n",
       "    <tr>\n",
       "      <th>4</th>\n",
       "      <td>2</td>\n",
       "      <td>1.0</td>\n",
       "      <td>CThomas</td>\n",
       "      <td>2.0</td>\n",
       "    </tr>\n",
       "    <tr>\n",
       "      <th>5</th>\n",
       "      <td>2</td>\n",
       "      <td>1.0</td>\n",
       "      <td>CThomas</td>\n",
       "      <td>2.0</td>\n",
       "    </tr>\n",
       "    <tr>\n",
       "      <th>6</th>\n",
       "      <td>2</td>\n",
       "      <td>2.0</td>\n",
       "      <td>RBGinsburg</td>\n",
       "      <td>2.0</td>\n",
       "    </tr>\n",
       "    <tr>\n",
       "      <th>7</th>\n",
       "      <td>2</td>\n",
       "      <td>2.0</td>\n",
       "      <td>RBGinsburg</td>\n",
       "      <td>2.0</td>\n",
       "    </tr>\n",
       "    <tr>\n",
       "      <th>8</th>\n",
       "      <td>2</td>\n",
       "      <td>2.0</td>\n",
       "      <td>SGBreyer</td>\n",
       "      <td>2.0</td>\n",
       "    </tr>\n",
       "    <tr>\n",
       "      <th>9</th>\n",
       "      <td>2</td>\n",
       "      <td>2.0</td>\n",
       "      <td>SGBreyer</td>\n",
       "      <td>2.0</td>\n",
       "    </tr>\n",
       "    <tr>\n",
       "      <th>10</th>\n",
       "      <td>2</td>\n",
       "      <td>2.0</td>\n",
       "      <td>AScalia</td>\n",
       "      <td>2.0</td>\n",
       "    </tr>\n",
       "    <tr>\n",
       "      <th>11</th>\n",
       "      <td>2</td>\n",
       "      <td>2.0</td>\n",
       "      <td>AScalia</td>\n",
       "      <td>2.0</td>\n",
       "    </tr>\n",
       "    <tr>\n",
       "      <th>12</th>\n",
       "      <td>2</td>\n",
       "      <td>2.0</td>\n",
       "      <td>AMKennedy</td>\n",
       "      <td>2.0</td>\n",
       "    </tr>\n",
       "    <tr>\n",
       "      <th>13</th>\n",
       "      <td>2</td>\n",
       "      <td>2.0</td>\n",
       "      <td>AMKennedy</td>\n",
       "      <td>2.0</td>\n",
       "    </tr>\n",
       "    <tr>\n",
       "      <th>14</th>\n",
       "      <td>1</td>\n",
       "      <td>2.0</td>\n",
       "      <td>CThomas</td>\n",
       "      <td>2.0</td>\n",
       "    </tr>\n",
       "    <tr>\n",
       "      <th>15</th>\n",
       "      <td>1</td>\n",
       "      <td>2.0</td>\n",
       "      <td>CThomas</td>\n",
       "      <td>2.0</td>\n",
       "    </tr>\n",
       "    <tr>\n",
       "      <th>16</th>\n",
       "      <td>2</td>\n",
       "      <td>2.0</td>\n",
       "      <td>RBGinsburg</td>\n",
       "      <td>2.0</td>\n",
       "    </tr>\n",
       "    <tr>\n",
       "      <th>17</th>\n",
       "      <td>2</td>\n",
       "      <td>2.0</td>\n",
       "      <td>RBGinsburg</td>\n",
       "      <td>2.0</td>\n",
       "    </tr>\n",
       "    <tr>\n",
       "      <th>18</th>\n",
       "      <td>2</td>\n",
       "      <td>2.0</td>\n",
       "      <td>SGBreyer</td>\n",
       "      <td>2.0</td>\n",
       "    </tr>\n",
       "    <tr>\n",
       "      <th>19</th>\n",
       "      <td>2</td>\n",
       "      <td>2.0</td>\n",
       "      <td>SGBreyer</td>\n",
       "      <td>2.0</td>\n",
       "    </tr>\n",
       "    <tr>\n",
       "      <th>20</th>\n",
       "      <td>2</td>\n",
       "      <td>2.0</td>\n",
       "      <td>AScalia</td>\n",
       "      <td>10.0</td>\n",
       "    </tr>\n",
       "    <tr>\n",
       "      <th>21</th>\n",
       "      <td>2</td>\n",
       "      <td>2.0</td>\n",
       "      <td>AScalia</td>\n",
       "      <td>10.0</td>\n",
       "    </tr>\n",
       "    <tr>\n",
       "      <th>22</th>\n",
       "      <td>1</td>\n",
       "      <td>1.0</td>\n",
       "      <td>AScalia</td>\n",
       "      <td>1.0</td>\n",
       "    </tr>\n",
       "    <tr>\n",
       "      <th>23</th>\n",
       "      <td>1</td>\n",
       "      <td>2.0</td>\n",
       "      <td>AScalia</td>\n",
       "      <td>1.0</td>\n",
       "    </tr>\n",
       "    <tr>\n",
       "      <th>24</th>\n",
       "      <td>1</td>\n",
       "      <td>2.0</td>\n",
       "      <td>AScalia</td>\n",
       "      <td>12.0</td>\n",
       "    </tr>\n",
       "    <tr>\n",
       "      <th>25</th>\n",
       "      <td>2</td>\n",
       "      <td>2.0</td>\n",
       "      <td>AScalia</td>\n",
       "      <td>3.0</td>\n",
       "    </tr>\n",
       "    <tr>\n",
       "      <th>26</th>\n",
       "      <td>2</td>\n",
       "      <td>2.0</td>\n",
       "      <td>AScalia</td>\n",
       "      <td>3.0</td>\n",
       "    </tr>\n",
       "    <tr>\n",
       "      <th>27</th>\n",
       "      <td>1</td>\n",
       "      <td>1.0</td>\n",
       "      <td>AScalia</td>\n",
       "      <td>2.0</td>\n",
       "    </tr>\n",
       "    <tr>\n",
       "      <th>28</th>\n",
       "      <td>1</td>\n",
       "      <td>1.0</td>\n",
       "      <td>AScalia</td>\n",
       "      <td>2.0</td>\n",
       "    </tr>\n",
       "    <tr>\n",
       "      <th>29</th>\n",
       "      <td>1</td>\n",
       "      <td>1.0</td>\n",
       "      <td>AScalia</td>\n",
       "      <td>10.0</td>\n",
       "    </tr>\n",
       "    <tr>\n",
       "      <th>...</th>\n",
       "      <td>...</td>\n",
       "      <td>...</td>\n",
       "      <td>...</td>\n",
       "      <td>...</td>\n",
       "    </tr>\n",
       "    <tr>\n",
       "      <th>11921</th>\n",
       "      <td>2</td>\n",
       "      <td>2.0</td>\n",
       "      <td>RBGinsburg</td>\n",
       "      <td>9.0</td>\n",
       "    </tr>\n",
       "    <tr>\n",
       "      <th>11922</th>\n",
       "      <td>2</td>\n",
       "      <td>2.0</td>\n",
       "      <td>SGBreyer</td>\n",
       "      <td>9.0</td>\n",
       "    </tr>\n",
       "    <tr>\n",
       "      <th>11923</th>\n",
       "      <td>2</td>\n",
       "      <td>2.0</td>\n",
       "      <td>SAAlito</td>\n",
       "      <td>9.0</td>\n",
       "    </tr>\n",
       "    <tr>\n",
       "      <th>11924</th>\n",
       "      <td>2</td>\n",
       "      <td>2.0</td>\n",
       "      <td>SSotomayor</td>\n",
       "      <td>9.0</td>\n",
       "    </tr>\n",
       "    <tr>\n",
       "      <th>11925</th>\n",
       "      <td>2</td>\n",
       "      <td>2.0</td>\n",
       "      <td>EKagan</td>\n",
       "      <td>9.0</td>\n",
       "    </tr>\n",
       "    <tr>\n",
       "      <th>11926</th>\n",
       "      <td>1</td>\n",
       "      <td>1.0</td>\n",
       "      <td>JGRoberts</td>\n",
       "      <td>2.0</td>\n",
       "    </tr>\n",
       "    <tr>\n",
       "      <th>11927</th>\n",
       "      <td>1</td>\n",
       "      <td>1.0</td>\n",
       "      <td>AScalia</td>\n",
       "      <td>2.0</td>\n",
       "    </tr>\n",
       "    <tr>\n",
       "      <th>11928</th>\n",
       "      <td>1</td>\n",
       "      <td>1.0</td>\n",
       "      <td>AMKennedy</td>\n",
       "      <td>2.0</td>\n",
       "    </tr>\n",
       "    <tr>\n",
       "      <th>11929</th>\n",
       "      <td>1</td>\n",
       "      <td>1.0</td>\n",
       "      <td>CThomas</td>\n",
       "      <td>2.0</td>\n",
       "    </tr>\n",
       "    <tr>\n",
       "      <th>11930</th>\n",
       "      <td>2</td>\n",
       "      <td>1.0</td>\n",
       "      <td>RBGinsburg</td>\n",
       "      <td>2.0</td>\n",
       "    </tr>\n",
       "    <tr>\n",
       "      <th>11931</th>\n",
       "      <td>2</td>\n",
       "      <td>1.0</td>\n",
       "      <td>SGBreyer</td>\n",
       "      <td>2.0</td>\n",
       "    </tr>\n",
       "    <tr>\n",
       "      <th>11932</th>\n",
       "      <td>2</td>\n",
       "      <td>1.0</td>\n",
       "      <td>SSotomayor</td>\n",
       "      <td>2.0</td>\n",
       "    </tr>\n",
       "    <tr>\n",
       "      <th>11933</th>\n",
       "      <td>2</td>\n",
       "      <td>1.0</td>\n",
       "      <td>EKagan</td>\n",
       "      <td>2.0</td>\n",
       "    </tr>\n",
       "    <tr>\n",
       "      <th>11934</th>\n",
       "      <td>2</td>\n",
       "      <td>2.0</td>\n",
       "      <td>JGRoberts</td>\n",
       "      <td>1.0</td>\n",
       "    </tr>\n",
       "    <tr>\n",
       "      <th>11935</th>\n",
       "      <td>2</td>\n",
       "      <td>2.0</td>\n",
       "      <td>AScalia</td>\n",
       "      <td>1.0</td>\n",
       "    </tr>\n",
       "    <tr>\n",
       "      <th>11936</th>\n",
       "      <td>2</td>\n",
       "      <td>2.0</td>\n",
       "      <td>AMKennedy</td>\n",
       "      <td>1.0</td>\n",
       "    </tr>\n",
       "    <tr>\n",
       "      <th>11937</th>\n",
       "      <td>2</td>\n",
       "      <td>2.0</td>\n",
       "      <td>CThomas</td>\n",
       "      <td>1.0</td>\n",
       "    </tr>\n",
       "    <tr>\n",
       "      <th>11938</th>\n",
       "      <td>2</td>\n",
       "      <td>2.0</td>\n",
       "      <td>RBGinsburg</td>\n",
       "      <td>1.0</td>\n",
       "    </tr>\n",
       "    <tr>\n",
       "      <th>11939</th>\n",
       "      <td>1</td>\n",
       "      <td>2.0</td>\n",
       "      <td>SGBreyer</td>\n",
       "      <td>1.0</td>\n",
       "    </tr>\n",
       "    <tr>\n",
       "      <th>11940</th>\n",
       "      <td>2</td>\n",
       "      <td>2.0</td>\n",
       "      <td>SAAlito</td>\n",
       "      <td>1.0</td>\n",
       "    </tr>\n",
       "    <tr>\n",
       "      <th>11941</th>\n",
       "      <td>2</td>\n",
       "      <td>2.0</td>\n",
       "      <td>SSotomayor</td>\n",
       "      <td>1.0</td>\n",
       "    </tr>\n",
       "    <tr>\n",
       "      <th>11942</th>\n",
       "      <td>2</td>\n",
       "      <td>2.0</td>\n",
       "      <td>EKagan</td>\n",
       "      <td>1.0</td>\n",
       "    </tr>\n",
       "    <tr>\n",
       "      <th>11943</th>\n",
       "      <td>1</td>\n",
       "      <td>1.0</td>\n",
       "      <td>JGRoberts</td>\n",
       "      <td>2.0</td>\n",
       "    </tr>\n",
       "    <tr>\n",
       "      <th>11944</th>\n",
       "      <td>1</td>\n",
       "      <td>1.0</td>\n",
       "      <td>AScalia</td>\n",
       "      <td>2.0</td>\n",
       "    </tr>\n",
       "    <tr>\n",
       "      <th>11945</th>\n",
       "      <td>1</td>\n",
       "      <td>1.0</td>\n",
       "      <td>AMKennedy</td>\n",
       "      <td>2.0</td>\n",
       "    </tr>\n",
       "    <tr>\n",
       "      <th>11946</th>\n",
       "      <td>1</td>\n",
       "      <td>1.0</td>\n",
       "      <td>CThomas</td>\n",
       "      <td>2.0</td>\n",
       "    </tr>\n",
       "    <tr>\n",
       "      <th>11947</th>\n",
       "      <td>2</td>\n",
       "      <td>1.0</td>\n",
       "      <td>SGBreyer</td>\n",
       "      <td>2.0</td>\n",
       "    </tr>\n",
       "    <tr>\n",
       "      <th>11948</th>\n",
       "      <td>1</td>\n",
       "      <td>1.0</td>\n",
       "      <td>SAAlito</td>\n",
       "      <td>2.0</td>\n",
       "    </tr>\n",
       "    <tr>\n",
       "      <th>11949</th>\n",
       "      <td>2</td>\n",
       "      <td>1.0</td>\n",
       "      <td>SSotomayor</td>\n",
       "      <td>2.0</td>\n",
       "    </tr>\n",
       "    <tr>\n",
       "      <th>11950</th>\n",
       "      <td>1</td>\n",
       "      <td>1.0</td>\n",
       "      <td>EKagan</td>\n",
       "      <td>2.0</td>\n",
       "    </tr>\n",
       "  </tbody>\n",
       "</table>\n",
       "<p>11951 rows × 4 columns</p>\n",
       "</div>"
      ],
      "text/plain": [
       "       predicted  direction justiceName  issueArea\n",
       "0              2        2.0     AScalia        2.0\n",
       "1              2        2.0     AScalia        2.0\n",
       "2              2        2.0   AMKennedy        2.0\n",
       "3              2        2.0   AMKennedy        2.0\n",
       "4              2        1.0     CThomas        2.0\n",
       "5              2        1.0     CThomas        2.0\n",
       "6              2        2.0  RBGinsburg        2.0\n",
       "7              2        2.0  RBGinsburg        2.0\n",
       "8              2        2.0    SGBreyer        2.0\n",
       "9              2        2.0    SGBreyer        2.0\n",
       "10             2        2.0     AScalia        2.0\n",
       "11             2        2.0     AScalia        2.0\n",
       "12             2        2.0   AMKennedy        2.0\n",
       "13             2        2.0   AMKennedy        2.0\n",
       "14             1        2.0     CThomas        2.0\n",
       "15             1        2.0     CThomas        2.0\n",
       "16             2        2.0  RBGinsburg        2.0\n",
       "17             2        2.0  RBGinsburg        2.0\n",
       "18             2        2.0    SGBreyer        2.0\n",
       "19             2        2.0    SGBreyer        2.0\n",
       "20             2        2.0     AScalia       10.0\n",
       "21             2        2.0     AScalia       10.0\n",
       "22             1        1.0     AScalia        1.0\n",
       "23             1        2.0     AScalia        1.0\n",
       "24             1        2.0     AScalia       12.0\n",
       "25             2        2.0     AScalia        3.0\n",
       "26             2        2.0     AScalia        3.0\n",
       "27             1        1.0     AScalia        2.0\n",
       "28             1        1.0     AScalia        2.0\n",
       "29             1        1.0     AScalia       10.0\n",
       "...          ...        ...         ...        ...\n",
       "11921          2        2.0  RBGinsburg        9.0\n",
       "11922          2        2.0    SGBreyer        9.0\n",
       "11923          2        2.0     SAAlito        9.0\n",
       "11924          2        2.0  SSotomayor        9.0\n",
       "11925          2        2.0      EKagan        9.0\n",
       "11926          1        1.0   JGRoberts        2.0\n",
       "11927          1        1.0     AScalia        2.0\n",
       "11928          1        1.0   AMKennedy        2.0\n",
       "11929          1        1.0     CThomas        2.0\n",
       "11930          2        1.0  RBGinsburg        2.0\n",
       "11931          2        1.0    SGBreyer        2.0\n",
       "11932          2        1.0  SSotomayor        2.0\n",
       "11933          2        1.0      EKagan        2.0\n",
       "11934          2        2.0   JGRoberts        1.0\n",
       "11935          2        2.0     AScalia        1.0\n",
       "11936          2        2.0   AMKennedy        1.0\n",
       "11937          2        2.0     CThomas        1.0\n",
       "11938          2        2.0  RBGinsburg        1.0\n",
       "11939          1        2.0    SGBreyer        1.0\n",
       "11940          2        2.0     SAAlito        1.0\n",
       "11941          2        2.0  SSotomayor        1.0\n",
       "11942          2        2.0      EKagan        1.0\n",
       "11943          1        1.0   JGRoberts        2.0\n",
       "11944          1        1.0     AScalia        2.0\n",
       "11945          1        1.0   AMKennedy        2.0\n",
       "11946          1        1.0     CThomas        2.0\n",
       "11947          2        1.0    SGBreyer        2.0\n",
       "11948          1        1.0     SAAlito        2.0\n",
       "11949          2        1.0  SSotomayor        2.0\n",
       "11950          1        1.0      EKagan        2.0\n",
       "\n",
       "[11951 rows x 4 columns]"
      ]
     },
     "execution_count": 33,
     "metadata": {},
     "output_type": "execute_result"
    }
   ],
   "source": [
    "cross_v(W, cur_df)"
   ]
  },
  {
   "cell_type": "code",
   "execution_count": null,
   "metadata": {
    "collapsed": true
   },
   "outputs": [],
   "source": [
    "    X_array = X.toarray()\n",
    "    facts_df = pd.DataFrame(X_array)\n",
    "\n",
    "    df = pd.concat([cur_df[train_cols+['direction', 'justiceName']], facts_df], axis=1)\n",
    "    # print ('Len with nulls: ',len(df))\n",
    "    df = df[df.notnull().all(axis=1)].reset_index()\n",
    "    # print ('Len with no Nulls: ', len(df))\n",
    "    # df = df[df.notnull().all(axis=1)==False].reset_index()\n",
    "    x = df.ix[:,df.columns != 'direction']\n",
    "    # x = df.ix[:, [col for col in df.columns if col not in train_cols+['direction']]]\n",
    "    # x = df.ix[:, train_cols]\n",
    "    \n",
    "    # x = x.ix[:, x.columns != 'justiceName']\n",
    "    \n",
    "    x = pd.get_dummies(x)"
   ]
  },
  {
   "cell_type": "code",
   "execution_count": null,
   "metadata": {
    "collapsed": true
   },
   "outputs": [],
   "source": []
  },
  {
   "cell_type": "code",
   "execution_count": 4,
   "metadata": {
    "collapsed": true
   },
   "outputs": [],
   "source": [
    "def run(n=0, bigram=False):\n",
    "    df_justice_all, facts = read()\n",
    "    df = pd.merge(df_justice_all,facts,left_on='docket',right_on='docket_number')\n",
    "    cur_df = df[df['justiceName'].isin(judges)] #DF with only the current judges + Scalia\n",
    "    cur_df = cur_df[cur_df.direction.notnull()] #DF where each Judge has a direction.\n",
    "                                                # Can't train otherwise\n",
    "    cur_df.reset_index(inplace=True)\n",
    "    #bigram=False\n",
    "    if n>1:\n",
    "        bigram = True\n",
    "    if bigram:\n",
    "        X = tfvecto(cur_df.facts_of_the_case, 2)\n",
    "    else:\n",
    "        X = tfvecto(cur_df.facts_of_the_case)\n",
    "\n",
    "    if (n==1 or n==2):\n",
    "        cross_v(X, cur_df)\n",
    "        return\n",
    "\n",
    "    # Facts + variables case\n",
    "\n",
    "    X_array = X.toarray()\n",
    "    facts_df = pd.DataFrame(X_array)\n",
    "\n",
    "    df = pd.concat([cur_df[train_cols+['direction', 'justiceName']], facts_df], axis=1)\n",
    "    # print ('Len with nulls: ',len(df))\n",
    "    df = df[df.notnull().all(axis=1)].reset_index()\n",
    "    # print ('Len with no Nulls: ', len(df))\n",
    "    # df = df[df.notnull().all(axis=1)==False].reset_index()\n",
    "    x = df.ix[:,df.columns != 'direction']\n",
    "    # x = df.ix[:, [col for col in df.columns if col not in train_cols+['direction']]]\n",
    "    # x = df.ix[:, train_cols]\n",
    "    \n",
    "    # x = x.ix[:, x.columns != 'justiceName']\n",
    "    \n",
    "    x = pd.get_dummies(x)\n",
    "    rv = cross_v(x, df)\n",
    "    return rv\n",
    "    # cross_v(x, df)\n"
   ]
  },
  {
   "cell_type": "code",
   "execution_count": 20,
   "metadata": {
    "collapsed": false
   },
   "outputs": [],
   "source": [
    "def cross_v(X, cur_df):\n",
    "\n",
    "    cur_df['predicted'] = 0\n",
    "    kf = cross_validation.KFold(len(cur_df), n_folds=5, shuffle = True)\n",
    "    scores = 0\n",
    "    baselines = 0\n",
    "    for train, test in kf:\n",
    "        score, base, pred = model(X, cur_df, train, test)\n",
    "        # if scores:\n",
    "        #     for i in range(len(score)):\n",
    "        #         scores[i] += score[i]\n",
    "        # else:\n",
    "        #     scores = score\n",
    "        scores += score\n",
    "        baselines += base\n",
    "        cur_df.loc[test,['predicted']] = pred        \n",
    "        #cur_df.predicted[test] = pred\n",
    "    # for score in socores:\n",
    "    #     s = score/5\n",
    "    #     print ('Score of CLF = ', s)\n",
    "    scores = scores/5\n",
    "    baselines = baselines/5\n",
    "    print ('Score of CLF = ', scores)\n",
    "    print (\"Baseline of = \", baselines)\n",
    "    rv_cols = ['predicted', 'direction', 'justiceName', 'issueArea']\n",
    "    #return cur_df\n",
    "    return cur_df.loc[:,rv_cols]\n"
   ]
  },
  {
   "cell_type": "code",
   "execution_count": 31,
   "metadata": {
    "collapsed": true
   },
   "outputs": [],
   "source": [
    "\n",
    "def model (X, cur_df, train, test):\n",
    "\n",
    "    model_RF = RandomForestClassifier(n_jobs=-2, n_estimators=80, max_features=None)\n",
    "    #model_KN = KNeighborsClassifier(n_jobs=-2, n_neighbors=10)\n",
    "    # model_SVC = LinearSVC()\n",
    "    #model_Logistic = LogisticRegression()\n",
    "    modelo = model_RF\n",
    "    t0 = time()\n",
    "    print ('Fitting model...')\n",
    "\n",
    "    '''\n",
    "    Case for DF\n",
    "    '''\n",
    "    if type(X)==pd.core.frame.DataFrame:\n",
    "        modelo.fit(X.ix[train, :], cur_df.direction[train].astype(int))\n",
    "        y = modelo.predict(X.ix[test,:])\n",
    "        score = modelo.score(X.ix[test, :], cur_df.direction[test])\n",
    "        baseline = accuracy_score(cur_df.direction[test], [cur_df.direction[test].value_counts().index[0]]*len(cur_df.direction[test]))\n",
    "\n",
    "    else:\n",
    "        '''\n",
    "        Case for sparse Matrix\n",
    "        '''\n",
    "        #train = np.array([train])\n",
    "        #test = np.array([test])\n",
    "        modelo.fit(X[train], cur_df.direction[train].astype(int))\n",
    "        y = modelo.predict(X[test])\n",
    "        score = modelo.score(X[test], cur_df.direction[test])\n",
    "        baseline = accuracy_score(cur_df.direction[test], [cur_df.direction[test].value_counts().index[0]]*len(cur_df.direction[test]))\n",
    "\n",
    "    print ('Score: ', score)\n",
    "    print ('Baseline: ', baseline)\n",
    "    print(\"Time: %0.3fs\" % (time() - t0))\n",
    "    print ('---------------')\n",
    "\n",
    "    return score, baseline, y"
   ]
  },
  {
   "cell_type": "code",
   "execution_count": 356,
   "metadata": {
    "collapsed": false
   },
   "outputs": [
    {
     "name": "stdout",
     "output_type": "stream",
     "text": [
      "Fitting model...\n",
      "Score:  0.832632464256\n",
      "Baseline:  0.551724137931\n",
      "Time: 279.794s\n",
      "---------------\n",
      "Fitting model...\n",
      "Score:  0.828847771236\n",
      "Baseline:  0.563919259882\n",
      "Time: 281.254s\n",
      "---------------\n",
      "Fitting model...\n",
      "Score:  0.823801513877\n",
      "Baseline:  0.542052144659\n",
      "Time: 266.008s\n",
      "---------------\n",
      "Fitting model...\n",
      "Score:  0.814472023559\n",
      "Baseline:  0.549432057215\n",
      "Time: 266.644s\n",
      "---------------\n",
      "Fitting model...\n",
      "Score:  0.801009676062\n",
      "Baseline:  0.522086663862\n",
      "Time: 271.914s\n",
      "---------------\n",
      "Score of CLF =  0.820152689798\n",
      "Baseline of =  0.54584285271\n"
     ]
    }
   ],
   "source": [
    "cur_df = run()"
   ]
  },
  {
   "cell_type": "code",
   "execution_count": 122,
   "metadata": {
    "collapsed": true
   },
   "outputs": [],
   "source": [
    "def acc_by_justice (df):\n",
    "    rv = pd.DataFrame(index=range(0, len(judges)), columns=['justiceName', 'Predicted', 'Baseline'])\n",
    "    i = 0\n",
    "    for j in judges:\n",
    "        #print (j)\n",
    "        l = df[df['justiceName']==j]\n",
    "        baseline = accuracy_score(l['direction'], [l.direction.value_counts().index[0]]*len(l.direction))\n",
    "        acc = accuracy_score(l['direction'], l['predicted'])\n",
    "        print (j, acc, baseline)\n",
    "        rv.loc[i] = [j, acc, baseline]\n",
    "        i+=1\n",
    "    return rv"
   ]
  },
  {
   "cell_type": "code",
   "execution_count": 271,
   "metadata": {
    "collapsed": true
   },
   "outputs": [],
   "source": [
    "def acc_by_issue (df):\n",
    "    rv = pd.DataFrame(index=range(0, len(df.issueArea.value_counts())), columns=['Issue', 'Predicted', 'Baseline'])\n",
    "    i = 0\n",
    "    for j in range(len(issueAreaText)):\n",
    "        if j==0:\n",
    "            continue\n",
    "        else:\n",
    "            print (issueAreaText[j])\n",
    "            l = df[df['issueArea']==j]\n",
    "            if len(l)!=0:\n",
    "                baseline = accuracy_score(l['direction'], [l.direction.value_counts().index[0]]*len(l.direction))\n",
    "                acc = accuracy_score(l['direction'], l['predicted'])\n",
    "                #print (j, acc, baseline)\n",
    "                rv.loc[i] = [issueAreaText[j], acc, baseline]\n",
    "                i+=1\n",
    "    return rv"
   ]
  },
  {
   "cell_type": "code",
   "execution_count": 357,
   "metadata": {
    "collapsed": false
   },
   "outputs": [
    {
     "name": "stdout",
     "output_type": "stream",
     "text": [
      "AScalia 0.869565217391 0.669760625305\n",
      "AMKennedy 0.8405 0.587\n",
      "CThomas 0.870744680851 0.689361702128\n",
      "RBGinsburg 0.739967014843 0.632215503024\n",
      "SGBreyer 0.750709823964 0.590573537763\n",
      "JGRoberts 0.867167919799 0.583959899749\n",
      "SAAlito 0.837301587302 0.637566137566\n",
      "SSotomayor 0.774736842105 0.633684210526\n",
      "EKagan 0.826704545455 0.613636363636\n"
     ]
    }
   ],
   "source": [
    "byj_df = acc_by_justice(cur_df)"
   ]
  },
  {
   "cell_type": "code",
   "execution_count": 358,
   "metadata": {
    "collapsed": false
   },
   "outputs": [
    {
     "name": "stdout",
     "output_type": "stream",
     "text": [
      "criminal procedure\n",
      "civil rights\n",
      "First Ammendment\n",
      "due process\n",
      "privacy\n",
      "attorney or gov officials compensation\n",
      "unions\n",
      "economic activity\n",
      "judicial power\n",
      "federalism\n",
      "interstate relation\n",
      "federal taxation\n",
      "misc\n",
      "private law\n"
     ]
    }
   ],
   "source": [
    "byi_df = acc_by_issue(df)"
   ]
  },
  {
   "cell_type": "code",
   "execution_count": null,
   "metadata": {
    "collapsed": true
   },
   "outputs": [],
   "source": []
  },
  {
   "cell_type": "code",
   "execution_count": null,
   "metadata": {
    "collapsed": true
   },
   "outputs": [],
   "source": []
  },
  {
   "cell_type": "code",
   "execution_count": null,
   "metadata": {
    "collapsed": true
   },
   "outputs": [],
   "source": []
  },
  {
   "cell_type": "code",
   "execution_count": null,
   "metadata": {
    "collapsed": true
   },
   "outputs": [],
   "source": []
  },
  {
   "cell_type": "code",
   "execution_count": null,
   "metadata": {
    "collapsed": true
   },
   "outputs": [],
   "source": []
  },
  {
   "cell_type": "code",
   "execution_count": null,
   "metadata": {
    "collapsed": true
   },
   "outputs": [],
   "source": []
  },
  {
   "cell_type": "code",
   "execution_count": null,
   "metadata": {
    "collapsed": true
   },
   "outputs": [],
   "source": []
  },
  {
   "cell_type": "code",
   "execution_count": null,
   "metadata": {
    "collapsed": true
   },
   "outputs": [],
   "source": []
  },
  {
   "cell_type": "code",
   "execution_count": 11,
   "metadata": {
    "collapsed": false
   },
   "outputs": [
    {
     "name": "stdout",
     "output_type": "stream",
     "text": [
      "Fitting model...\n",
      "Score:  0.773338940286\n",
      "Baseline:  0.556349873844\n",
      "Time: 204.727s\n",
      "---------------\n",
      "Fitting model...\n",
      "Score:  0.759461732548\n",
      "Baseline:  0.542052144659\n",
      "Time: 206.173s\n",
      "---------------\n",
      "Fitting model...\n",
      "Score:  0.751051303616\n",
      "Baseline:  0.554667788057\n",
      "Time: 191.055s\n",
      "---------------\n",
      "Fitting model...\n",
      "Score:  0.75557425326\n",
      "Baseline:  0.534286916281\n",
      "Time: 200.519s\n",
      "---------------\n",
      "Fitting model...\n",
      "Score:  0.777029869584\n",
      "Baseline:  0.541859486748\n",
      "Time: 192.169s\n",
      "---------------\n",
      "Score of CLF =  0.763291219859\n",
      "Baseline of =  0.545843241918\n"
     ]
    }
   ],
   "source": [
    "df = run()"
   ]
  },
  {
   "cell_type": "code",
   "execution_count": 34,
   "metadata": {
    "collapsed": true
   },
   "outputs": [],
   "source": [
    "columns = [\"caseId\",\"docketId\",\"caseIssuesId\",\"voteId\",\"dateDecision\",\"decisionType\",\"usCite\",\"sctCite\",\"ledCite\",\"lexisCite\",\"term\",\"naturalCourt\",\"chief\",\"docket\",\"caseName\",\"dateArgument\",\"dateRearg\",\"petitioner\",\"petitionerState\",\"respondent\",\"respondentState\",\"jurisdiction\",\"adminAction\",\"adminActionState\",\"threeJudgeFdc\",\"caseOrigin\",\"caseOriginState\",\"caseSource\",\"caseSourceState\",\"lcDisagreement\",\"certReason\",\"lcDisposition\",\"lcDispositionDirection\",\"declarationUncon\",\"caseDisposition\",\"caseDispositionUnusual\",\"partyWinning\",\"precedentAlteration\",\"voteUnclear\",\"issue\",\"issueArea\",\"decisionDirection\",\"decisionDirectionDissent\",\"authorityDecision1\",\"authorityDecision2\",\"lawType\",\"lawSupp\",\"lawMinor\",\"majOpinWriter\",\"majOpinAssigner\",\"splitVote\",\"majVotes\",\"minVotes\",\"justice\",\"justiceName\",\"vote\",\"opinion\",\"direction\",\"majority\",\"firstAgreement\",\"secondAgreement\"]"
   ]
  },
  {
   "cell_type": "code",
   "execution_count": 113,
   "metadata": {
    "collapsed": true
   },
   "outputs": [],
   "source": [
    "issueAreaText = [None, 'criminal procedure','civil rights','First Ammendment','due process',\n",
    "                             'privacy','attorney or gov officials compensation','unions','economic activity',\n",
    "                              'judicial power','federalism','interstate relation','federal taxation',\n",
    "                              'misc','private law']"
   ]
  },
  {
   "cell_type": "code",
   "execution_count": 26,
   "metadata": {
    "collapsed": false
   },
   "outputs": [
    {
     "data": {
      "text/plain": [
       "15"
      ]
     },
     "execution_count": 26,
     "metadata": {},
     "output_type": "execute_result"
    }
   ],
   "source": [
    "len(issueAreaText)"
   ]
  },
  {
   "cell_type": "code",
   "execution_count": null,
   "metadata": {
    "collapsed": true
   },
   "outputs": [],
   "source": []
  },
  {
   "cell_type": "code",
   "execution_count": 110,
   "metadata": {
    "collapsed": false
   },
   "outputs": [
    {
     "data": {
      "text/plain": [
       "12"
      ]
     },
     "execution_count": 110,
     "metadata": {},
     "output_type": "execute_result"
    }
   ],
   "source": [
    "len(df.issueArea.value_counts())"
   ]
  },
  {
   "cell_type": "code",
   "execution_count": null,
   "metadata": {
    "collapsed": true
   },
   "outputs": [],
   "source": []
  },
  {
   "cell_type": "code",
   "execution_count": 24,
   "metadata": {
    "collapsed": false
   },
   "outputs": [
    {
     "data": {
      "text/plain": [
       "1     2959\n",
       "8     2179\n",
       "2     2039\n",
       "9     1634\n",
       "3      937\n",
       "10     743\n",
       "4      426\n",
       "5      280\n",
       "7      252\n",
       "12     216\n",
       "6      174\n",
       "13      49\n",
       "Name: issueArea, dtype: int64"
      ]
     },
     "execution_count": 24,
     "metadata": {},
     "output_type": "execute_result"
    }
   ],
   "source": [
    "df['issueArea'].value_counts()"
   ]
  },
  {
   "cell_type": "code",
   "execution_count": 28,
   "metadata": {
    "collapsed": false
   },
   "outputs": [
    {
     "data": {
      "text/html": [
       "<div>\n",
       "<table border=\"1\" class=\"dataframe\">\n",
       "  <thead>\n",
       "    <tr style=\"text-align: right;\">\n",
       "      <th></th>\n",
       "      <th>predicted</th>\n",
       "      <th>direction</th>\n",
       "      <th>justiceName</th>\n",
       "      <th>issueArea</th>\n",
       "    </tr>\n",
       "  </thead>\n",
       "  <tbody>\n",
       "    <tr>\n",
       "      <th>0</th>\n",
       "      <td>1</td>\n",
       "      <td>1</td>\n",
       "      <td>AScalia</td>\n",
       "      <td>1</td>\n",
       "    </tr>\n",
       "    <tr>\n",
       "      <th>1</th>\n",
       "      <td>1</td>\n",
       "      <td>2</td>\n",
       "      <td>AScalia</td>\n",
       "      <td>1</td>\n",
       "    </tr>\n",
       "    <tr>\n",
       "      <th>2</th>\n",
       "      <td>1</td>\n",
       "      <td>2</td>\n",
       "      <td>AScalia</td>\n",
       "      <td>12</td>\n",
       "    </tr>\n",
       "    <tr>\n",
       "      <th>3</th>\n",
       "      <td>2</td>\n",
       "      <td>2</td>\n",
       "      <td>AScalia</td>\n",
       "      <td>3</td>\n",
       "    </tr>\n",
       "    <tr>\n",
       "      <th>4</th>\n",
       "      <td>2</td>\n",
       "      <td>2</td>\n",
       "      <td>AScalia</td>\n",
       "      <td>3</td>\n",
       "    </tr>\n",
       "  </tbody>\n",
       "</table>\n",
       "</div>"
      ],
      "text/plain": [
       "   predicted  direction justiceName  issueArea\n",
       "0          1          1     AScalia          1\n",
       "1          1          2     AScalia          1\n",
       "2          1          2     AScalia         12\n",
       "3          2          2     AScalia          3\n",
       "4          2          2     AScalia          3"
      ]
     },
     "execution_count": 28,
     "metadata": {},
     "output_type": "execute_result"
    }
   ],
   "source": [
    "df.head()"
   ]
  },
  {
   "cell_type": "code",
   "execution_count": null,
   "metadata": {
    "collapsed": true
   },
   "outputs": [],
   "source": []
  },
  {
   "cell_type": "code",
   "execution_count": 37,
   "metadata": {
    "collapsed": false
   },
   "outputs": [
    {
     "data": {
      "text/plain": [
       "Index([                 'index',                  'issue',\n",
       "                    'issueArea', 'lcDispositionDirection',\n",
       "                   'petitioner',             'respondent',\n",
       "                    'direction',                        0,\n",
       "                              1,                        2,\n",
       "                              3,                        4,\n",
       "                              5,                        6,\n",
       "                              7],\n",
       "      dtype='object')"
      ]
     },
     "execution_count": 37,
     "metadata": {},
     "output_type": "execute_result"
    }
   ],
   "source": [
    "cur_df.columns[:15]"
   ]
  },
  {
   "cell_type": "code",
   "execution_count": 35,
   "metadata": {
    "collapsed": false
   },
   "outputs": [
    {
     "name": "stdout",
     "output_type": "stream",
     "text": [
      "AScalia 0.813873961895 0.669760625305\n",
      "AMKennedy 0.8035 0.587\n",
      "CThomas 0.76170212766 0.689361702128\n",
      "RBGinsburg 0.637713029137 0.632215503024\n",
      "SGBreyer 0.804088586031 0.590573537763\n",
      "JGRoberts 0.828320802005 0.583959899749\n",
      "SAAlito 0.665343915344 0.637566137566\n",
      "SSotomayor 0.682105263158 0.633684210526\n",
      "EKagan 0.866477272727 0.613636363636\n"
     ]
    }
   ],
   "source": [
    "byj_df = acc_by_justice(df)"
   ]
  },
  {
   "cell_type": "code",
   "execution_count": 36,
   "metadata": {
    "collapsed": false
   },
   "outputs": [
    {
     "data": {
      "text/html": [
       "<div>\n",
       "<table border=\"1\" class=\"dataframe\">\n",
       "  <thead>\n",
       "    <tr style=\"text-align: right;\">\n",
       "      <th></th>\n",
       "      <th>justiceName</th>\n",
       "      <th>Predicted</th>\n",
       "      <th>Baseline</th>\n",
       "    </tr>\n",
       "  </thead>\n",
       "  <tbody>\n",
       "    <tr>\n",
       "      <th>0</th>\n",
       "      <td>AScalia</td>\n",
       "      <td>0.813874</td>\n",
       "      <td>0.669761</td>\n",
       "    </tr>\n",
       "    <tr>\n",
       "      <th>1</th>\n",
       "      <td>AMKennedy</td>\n",
       "      <td>0.8035</td>\n",
       "      <td>0.587</td>\n",
       "    </tr>\n",
       "    <tr>\n",
       "      <th>2</th>\n",
       "      <td>CThomas</td>\n",
       "      <td>0.761702</td>\n",
       "      <td>0.689362</td>\n",
       "    </tr>\n",
       "    <tr>\n",
       "      <th>3</th>\n",
       "      <td>RBGinsburg</td>\n",
       "      <td>0.637713</td>\n",
       "      <td>0.632216</td>\n",
       "    </tr>\n",
       "    <tr>\n",
       "      <th>4</th>\n",
       "      <td>SGBreyer</td>\n",
       "      <td>0.804089</td>\n",
       "      <td>0.590574</td>\n",
       "    </tr>\n",
       "    <tr>\n",
       "      <th>5</th>\n",
       "      <td>JGRoberts</td>\n",
       "      <td>0.828321</td>\n",
       "      <td>0.58396</td>\n",
       "    </tr>\n",
       "    <tr>\n",
       "      <th>6</th>\n",
       "      <td>SAAlito</td>\n",
       "      <td>0.665344</td>\n",
       "      <td>0.637566</td>\n",
       "    </tr>\n",
       "    <tr>\n",
       "      <th>7</th>\n",
       "      <td>SSotomayor</td>\n",
       "      <td>0.682105</td>\n",
       "      <td>0.633684</td>\n",
       "    </tr>\n",
       "    <tr>\n",
       "      <th>8</th>\n",
       "      <td>EKagan</td>\n",
       "      <td>0.866477</td>\n",
       "      <td>0.613636</td>\n",
       "    </tr>\n",
       "  </tbody>\n",
       "</table>\n",
       "</div>"
      ],
      "text/plain": [
       "  justiceName Predicted  Baseline\n",
       "0     AScalia  0.813874  0.669761\n",
       "1   AMKennedy    0.8035     0.587\n",
       "2     CThomas  0.761702  0.689362\n",
       "3  RBGinsburg  0.637713  0.632216\n",
       "4    SGBreyer  0.804089  0.590574\n",
       "5   JGRoberts  0.828321   0.58396\n",
       "6     SAAlito  0.665344  0.637566\n",
       "7  SSotomayor  0.682105  0.633684\n",
       "8      EKagan  0.866477  0.613636"
      ]
     },
     "execution_count": 36,
     "metadata": {},
     "output_type": "execute_result"
    }
   ],
   "source": [
    "byj_df"
   ]
  },
  {
   "cell_type": "code",
   "execution_count": 124,
   "metadata": {
    "collapsed": false
   },
   "outputs": [
    {
     "name": "stdout",
     "output_type": "stream",
     "text": [
      "criminal procedure\n",
      "1 0.716120310916 0.608989523488\n",
      "civil rights\n",
      "2 0.753310446297 0.548798430603\n",
      "First Ammendment\n",
      "3 0.681963713981 0.556029882604\n",
      "due process\n",
      "4 0.762910798122 0.514084507042\n",
      "privacy\n",
      "5 0.825 0.7\n",
      "attorney or gov officials compensation\n",
      "6 0.827586206897 0.534482758621\n",
      "unions\n",
      "7 0.793650793651 0.52380952381\n",
      "economic activity\n",
      "8 0.821477742084 0.517668655346\n",
      "judicial power\n",
      "9 0.820685434517 0.546511627907\n",
      "federalism\n",
      "10 0.729475100942 0.566621803499\n",
      "interstate relation\n",
      "federal taxation\n",
      "12 0.796296296296 0.689814814815\n",
      "misc\n",
      "13 0.714285714286 0.571428571429\n",
      "private law\n"
     ]
    }
   ],
   "source": [
    "byi_df = acc_by_issue(df)"
   ]
  },
  {
   "cell_type": "code",
   "execution_count": 125,
   "metadata": {
    "collapsed": false
   },
   "outputs": [
    {
     "data": {
      "text/html": [
       "<div>\n",
       "<table border=\"1\" class=\"dataframe\">\n",
       "  <thead>\n",
       "    <tr style=\"text-align: right;\">\n",
       "      <th></th>\n",
       "      <th>Issue</th>\n",
       "      <th>Predicted</th>\n",
       "      <th>Baseline</th>\n",
       "    </tr>\n",
       "  </thead>\n",
       "  <tbody>\n",
       "    <tr>\n",
       "      <th>0</th>\n",
       "      <td>criminal procedure</td>\n",
       "      <td>0.71612</td>\n",
       "      <td>0.60899</td>\n",
       "    </tr>\n",
       "    <tr>\n",
       "      <th>1</th>\n",
       "      <td>civil rights</td>\n",
       "      <td>0.75331</td>\n",
       "      <td>0.548798</td>\n",
       "    </tr>\n",
       "    <tr>\n",
       "      <th>2</th>\n",
       "      <td>First Ammendment</td>\n",
       "      <td>0.681964</td>\n",
       "      <td>0.55603</td>\n",
       "    </tr>\n",
       "    <tr>\n",
       "      <th>3</th>\n",
       "      <td>due process</td>\n",
       "      <td>0.762911</td>\n",
       "      <td>0.514085</td>\n",
       "    </tr>\n",
       "    <tr>\n",
       "      <th>4</th>\n",
       "      <td>privacy</td>\n",
       "      <td>0.825</td>\n",
       "      <td>0.7</td>\n",
       "    </tr>\n",
       "    <tr>\n",
       "      <th>5</th>\n",
       "      <td>attorney or gov officials compensation</td>\n",
       "      <td>0.827586</td>\n",
       "      <td>0.534483</td>\n",
       "    </tr>\n",
       "    <tr>\n",
       "      <th>6</th>\n",
       "      <td>unions</td>\n",
       "      <td>0.793651</td>\n",
       "      <td>0.52381</td>\n",
       "    </tr>\n",
       "    <tr>\n",
       "      <th>7</th>\n",
       "      <td>economic activity</td>\n",
       "      <td>0.821478</td>\n",
       "      <td>0.517669</td>\n",
       "    </tr>\n",
       "    <tr>\n",
       "      <th>8</th>\n",
       "      <td>judicial power</td>\n",
       "      <td>0.820685</td>\n",
       "      <td>0.546512</td>\n",
       "    </tr>\n",
       "    <tr>\n",
       "      <th>9</th>\n",
       "      <td>federalism</td>\n",
       "      <td>0.729475</td>\n",
       "      <td>0.566622</td>\n",
       "    </tr>\n",
       "    <tr>\n",
       "      <th>10</th>\n",
       "      <td>federal taxation</td>\n",
       "      <td>0.796296</td>\n",
       "      <td>0.689815</td>\n",
       "    </tr>\n",
       "    <tr>\n",
       "      <th>11</th>\n",
       "      <td>misc</td>\n",
       "      <td>0.714286</td>\n",
       "      <td>0.571429</td>\n",
       "    </tr>\n",
       "  </tbody>\n",
       "</table>\n",
       "</div>"
      ],
      "text/plain": [
       "                                     Issue Predicted  Baseline\n",
       "0                       criminal procedure   0.71612   0.60899\n",
       "1                             civil rights   0.75331  0.548798\n",
       "2                         First Ammendment  0.681964   0.55603\n",
       "3                              due process  0.762911  0.514085\n",
       "4                                  privacy     0.825       0.7\n",
       "5   attorney or gov officials compensation  0.827586  0.534483\n",
       "6                                   unions  0.793651   0.52381\n",
       "7                        economic activity  0.821478  0.517669\n",
       "8                           judicial power  0.820685  0.546512\n",
       "9                               federalism  0.729475  0.566622\n",
       "10                        federal taxation  0.796296  0.689815\n",
       "11                                    misc  0.714286  0.571429"
      ]
     },
     "execution_count": 125,
     "metadata": {},
     "output_type": "execute_result"
    }
   ],
   "source": [
    "byi_df"
   ]
  },
  {
   "cell_type": "code",
   "execution_count": null,
   "metadata": {
    "collapsed": true
   },
   "outputs": [],
   "source": []
  },
  {
   "cell_type": "code",
   "execution_count": 53,
   "metadata": {
    "collapsed": false
   },
   "outputs": [],
   "source": [
    "g = sns.factorplot(data=byj_df, x='justiceName', y='Predicted', hue='Baseline',\n",
    "                   size=6, kind=\"bar\", palette=\"muted\")"
   ]
  },
  {
   "cell_type": "code",
   "execution_count": 54,
   "metadata": {
    "collapsed": false
   },
   "outputs": [],
   "source": [
    "g.savefig('test3.png')"
   ]
  },
  {
   "cell_type": "code",
   "execution_count": 27,
   "metadata": {
    "collapsed": false
   },
   "outputs": [
    {
     "data": {
      "text/plain": [
       "1    6667\n",
       "2    5221\n",
       "Name: predicted, dtype: int64"
      ]
     },
     "execution_count": 27,
     "metadata": {},
     "output_type": "execute_result"
    }
   ],
   "source": [
    "df.predicted.value_counts()"
   ]
  },
  {
   "cell_type": "code",
   "execution_count": 30,
   "metadata": {
    "collapsed": false
   },
   "outputs": [
    {
     "ename": "TypeError",
     "evalue": "'Index' object is not callable",
     "output_type": "error",
     "traceback": [
      "\u001b[1;31m---------------------------------------------------------------------------\u001b[0m",
      "\u001b[1;31mTypeError\u001b[0m                                 Traceback (most recent call last)",
      "\u001b[1;32m<ipython-input-30-fe47b3f1b4b0>\u001b[0m in \u001b[0;36m<module>\u001b[1;34m()\u001b[0m\n\u001b[1;32m----> 1\u001b[1;33m \u001b[0mdf\u001b[0m\u001b[1;33m.\u001b[0m\u001b[0mcolumns\u001b[0m\u001b[1;33m(\u001b[0m\u001b[1;33m)\u001b[0m\u001b[1;33m\u001b[0m\u001b[0m\n\u001b[0m",
      "\u001b[1;31mTypeError\u001b[0m: 'Index' object is not callable"
     ]
    }
   ],
   "source": [
    "df.columns()"
   ]
  },
  {
   "cell_type": "code",
   "execution_count": 91,
   "metadata": {
    "collapsed": true
   },
   "outputs": [],
   "source": [
    "import matplotlib.pyplot as plt\n",
    "import numpy as np\n",
    "import matplotlib "
   ]
  },
  {
   "cell_type": "code",
   "execution_count": 365,
   "metadata": {
    "collapsed": false
   },
   "outputs": [],
   "source": [
    "#matplotlib.rcParams.update({'font.size': 44})\n",
    "fig, ax = plt.subplots()\n",
    "#index = range(len(judges))\n",
    "index = np.arange(len(judges))\n",
    "bar_width = 0.35\n",
    "\n",
    "opacity = 0.6\n",
    "#error_config = {'ecolor': '0.3'}\n",
    "\n",
    "rects1 = plt.bar(index, byj_df.Predicted, bar_width,\n",
    "                 alpha=opacity,\n",
    "                 color='r',\n",
    "                 label='Predicted')\n",
    "rects1 = plt.bar(index+bar_width, byj_df.Baseline, bar_width,\n",
    "                 alpha=opacity,\n",
    "                 color='b',\n",
    "                 label='Baseline')"
   ]
  },
  {
   "cell_type": "code",
   "execution_count": 366,
   "metadata": {
    "collapsed": false
   },
   "outputs": [],
   "source": [
    "plt.xlabel('Justices', size=28, weight='bold')\n",
    "plt.ylabel('Accuracy', size=28, weight='bold')\n",
    "plt.title('Accuracy by Justice', size=32, weight='bold')\n",
    "plt.xticks(index + bar_width, judges, rotation=17, size=24)\n",
    "plt.yticks(size=24)\n",
    "plt.legend(fontsize=20, loc=2)\n",
    "\n",
    "#plt.tight_layout()\n",
    "plt.show()"
   ]
  },
  {
   "cell_type": "code",
   "execution_count": null,
   "metadata": {
    "collapsed": true
   },
   "outputs": [],
   "source": []
  },
  {
   "cell_type": "code",
   "execution_count": 361,
   "metadata": {
    "collapsed": false
   },
   "outputs": [],
   "source": [
    "#matplotlib.rcParams.update({'font.size': 44})\n",
    "fig, ax = plt.subplots()\n",
    "#index = range(len(judges))\n",
    "index = np.arange(len(byi_df.Issue))\n",
    "bar_width = 0.35\n",
    "\n",
    "opacity = 0.6\n",
    "#error_config = {'ecolor': '0.3'}\n",
    "\n",
    "rects1 = plt.bar(index, byi_df.Predicted, bar_width,\n",
    "                 alpha=opacity,\n",
    "                 color='g',\n",
    "                 label='Predicted')\n",
    "rects1 = plt.bar(index+bar_width, byi_df.Baseline, bar_width,\n",
    "                 alpha=opacity,\n",
    "                 color='y',\n",
    "                 label='Baseline')"
   ]
  },
  {
   "cell_type": "code",
   "execution_count": 362,
   "metadata": {
    "collapsed": false
   },
   "outputs": [],
   "source": [
    "plt.xlabel('Issues', size=28, weight='bold')\n",
    "plt.ylabel('Accuracy', size=28, weight='bold')\n",
    "plt.title('Accuracy by Issues', size=32, weight='bold')\n",
    "plt.xticks(index + bar_width, byi_df.Issue.tolist(), rotation=25, size=20)\n",
    "plt.yticks(size=24)\n",
    "plt.legend(fontsize=20, loc=2)\n",
    "\n",
    "#plt.tight_layout()\n",
    "plt.show()"
   ]
  },
  {
   "cell_type": "code",
   "execution_count": 137,
   "metadata": {
    "collapsed": false
   },
   "outputs": [
    {
     "data": {
      "text/plain": [
       "['criminal procedure',\n",
       " 'civil rights',\n",
       " 'First Ammendment',\n",
       " 'due process',\n",
       " 'privacy',\n",
       " 'attorney or gov officials compensation',\n",
       " 'unions',\n",
       " 'economic activity',\n",
       " 'judicial power',\n",
       " 'federalism',\n",
       " 'federal taxation',\n",
       " 'misc']"
      ]
     },
     "execution_count": 137,
     "metadata": {},
     "output_type": "execute_result"
    }
   ],
   "source": [
    "byi_df.Issue.tolist()"
   ]
  },
  {
   "cell_type": "code",
   "execution_count": 387,
   "metadata": {
    "collapsed": false
   },
   "outputs": [
    {
     "data": {
      "text/plain": [
       "pandas.core.series.Series"
      ]
     },
     "execution_count": 387,
     "metadata": {},
     "output_type": "execute_result"
    }
   ],
   "source": [
    "type(a)"
   ]
  },
  {
   "cell_type": "code",
   "execution_count": 385,
   "metadata": {
    "collapsed": false
   },
   "outputs": [],
   "source": [
    "a =df.justiceName.value_counts()"
   ]
  },
  {
   "cell_type": "code",
   "execution_count": 389,
   "metadata": {
    "collapsed": false
   },
   "outputs": [],
   "source": [
    "years = pd.concat([byj_df, b], axis=1)"
   ]
  },
  {
   "cell_type": "code",
   "execution_count": 390,
   "metadata": {
    "collapsed": false
   },
   "outputs": [
    {
     "data": {
      "text/html": [
       "<div>\n",
       "<table border=\"1\" class=\"dataframe\">\n",
       "  <thead>\n",
       "    <tr style=\"text-align: right;\">\n",
       "      <th></th>\n",
       "      <th>justiceName</th>\n",
       "      <th>Predicted</th>\n",
       "      <th>Baseline</th>\n",
       "      <th>0</th>\n",
       "    </tr>\n",
       "  </thead>\n",
       "  <tbody>\n",
       "    <tr>\n",
       "      <th>0</th>\n",
       "      <td>AScalia</td>\n",
       "      <td>0.869565</td>\n",
       "      <td>0.669761</td>\n",
       "      <td>2047</td>\n",
       "    </tr>\n",
       "    <tr>\n",
       "      <th>1</th>\n",
       "      <td>AMKennedy</td>\n",
       "      <td>0.8405</td>\n",
       "      <td>0.587</td>\n",
       "      <td>2000</td>\n",
       "    </tr>\n",
       "    <tr>\n",
       "      <th>2</th>\n",
       "      <td>CThomas</td>\n",
       "      <td>0.870745</td>\n",
       "      <td>0.689362</td>\n",
       "      <td>1880</td>\n",
       "    </tr>\n",
       "    <tr>\n",
       "      <th>3</th>\n",
       "      <td>RBGinsburg</td>\n",
       "      <td>0.739967</td>\n",
       "      <td>0.632216</td>\n",
       "      <td>1819</td>\n",
       "    </tr>\n",
       "    <tr>\n",
       "      <th>4</th>\n",
       "      <td>SGBreyer</td>\n",
       "      <td>0.75071</td>\n",
       "      <td>0.590574</td>\n",
       "      <td>1761</td>\n",
       "    </tr>\n",
       "    <tr>\n",
       "      <th>5</th>\n",
       "      <td>JGRoberts</td>\n",
       "      <td>0.867168</td>\n",
       "      <td>0.58396</td>\n",
       "      <td>798</td>\n",
       "    </tr>\n",
       "    <tr>\n",
       "      <th>6</th>\n",
       "      <td>SAAlito</td>\n",
       "      <td>0.837302</td>\n",
       "      <td>0.637566</td>\n",
       "      <td>756</td>\n",
       "    </tr>\n",
       "    <tr>\n",
       "      <th>7</th>\n",
       "      <td>SSotomayor</td>\n",
       "      <td>0.774737</td>\n",
       "      <td>0.633684</td>\n",
       "      <td>475</td>\n",
       "    </tr>\n",
       "    <tr>\n",
       "      <th>8</th>\n",
       "      <td>EKagan</td>\n",
       "      <td>0.826705</td>\n",
       "      <td>0.613636</td>\n",
       "      <td>352</td>\n",
       "    </tr>\n",
       "  </tbody>\n",
       "</table>\n",
       "</div>"
      ],
      "text/plain": [
       "  justiceName Predicted  Baseline     0\n",
       "0     AScalia  0.869565  0.669761  2047\n",
       "1   AMKennedy    0.8405     0.587  2000\n",
       "2     CThomas  0.870745  0.689362  1880\n",
       "3  RBGinsburg  0.739967  0.632216  1819\n",
       "4    SGBreyer   0.75071  0.590574  1761\n",
       "5   JGRoberts  0.867168   0.58396   798\n",
       "6     SAAlito  0.837302  0.637566   756\n",
       "7  SSotomayor  0.774737  0.633684   475\n",
       "8      EKagan  0.826705  0.613636   352"
      ]
     },
     "execution_count": 390,
     "metadata": {},
     "output_type": "execute_result"
    }
   ],
   "source": [
    "years"
   ]
  },
  {
   "cell_type": "code",
   "execution_count": 178,
   "metadata": {
    "collapsed": false
   },
   "outputs": [
    {
     "data": {
      "text/html": [
       "<div>\n",
       "<table border=\"1\" class=\"dataframe\">\n",
       "  <thead>\n",
       "    <tr style=\"text-align: right;\">\n",
       "      <th></th>\n",
       "      <th>justiceName</th>\n",
       "      <th>Predicted</th>\n",
       "      <th>Baseline</th>\n",
       "      <th>0</th>\n",
       "    </tr>\n",
       "  </thead>\n",
       "  <tbody>\n",
       "    <tr>\n",
       "      <th>0</th>\n",
       "      <td>AScalia</td>\n",
       "      <td>0.813874</td>\n",
       "      <td>0.669761</td>\n",
       "      <td>2047</td>\n",
       "    </tr>\n",
       "    <tr>\n",
       "      <th>1</th>\n",
       "      <td>AMKennedy</td>\n",
       "      <td>0.8035</td>\n",
       "      <td>0.587</td>\n",
       "      <td>2000</td>\n",
       "    </tr>\n",
       "    <tr>\n",
       "      <th>2</th>\n",
       "      <td>CThomas</td>\n",
       "      <td>0.761702</td>\n",
       "      <td>0.689362</td>\n",
       "      <td>1880</td>\n",
       "    </tr>\n",
       "    <tr>\n",
       "      <th>3</th>\n",
       "      <td>RBGinsburg</td>\n",
       "      <td>0.637713</td>\n",
       "      <td>0.632216</td>\n",
       "      <td>1819</td>\n",
       "    </tr>\n",
       "    <tr>\n",
       "      <th>4</th>\n",
       "      <td>SGBreyer</td>\n",
       "      <td>0.804089</td>\n",
       "      <td>0.590574</td>\n",
       "      <td>1761</td>\n",
       "    </tr>\n",
       "    <tr>\n",
       "      <th>5</th>\n",
       "      <td>JGRoberts</td>\n",
       "      <td>0.828321</td>\n",
       "      <td>0.58396</td>\n",
       "      <td>798</td>\n",
       "    </tr>\n",
       "    <tr>\n",
       "      <th>6</th>\n",
       "      <td>SAAlito</td>\n",
       "      <td>0.665344</td>\n",
       "      <td>0.637566</td>\n",
       "      <td>756</td>\n",
       "    </tr>\n",
       "    <tr>\n",
       "      <th>7</th>\n",
       "      <td>SSotomayor</td>\n",
       "      <td>0.682105</td>\n",
       "      <td>0.633684</td>\n",
       "      <td>475</td>\n",
       "    </tr>\n",
       "    <tr>\n",
       "      <th>8</th>\n",
       "      <td>EKagan</td>\n",
       "      <td>0.866477</td>\n",
       "      <td>0.613636</td>\n",
       "      <td>352</td>\n",
       "    </tr>\n",
       "  </tbody>\n",
       "</table>\n",
       "</div>"
      ],
      "text/plain": [
       "  justiceName Predicted  Baseline     0\n",
       "0     AScalia  0.813874  0.669761  2047\n",
       "1   AMKennedy    0.8035     0.587  2000\n",
       "2     CThomas  0.761702  0.689362  1880\n",
       "3  RBGinsburg  0.637713  0.632216  1819\n",
       "4    SGBreyer  0.804089  0.590574  1761\n",
       "5   JGRoberts  0.828321   0.58396   798\n",
       "6     SAAlito  0.665344  0.637566   756\n",
       "7  SSotomayor  0.682105  0.633684   475\n",
       "8      EKagan  0.866477  0.613636   352"
      ]
     },
     "execution_count": 178,
     "metadata": {},
     "output_type": "execute_result"
    }
   ],
   "source": [
    "years"
   ]
  },
  {
   "cell_type": "code",
   "execution_count": 179,
   "metadata": {
    "collapsed": false
   },
   "outputs": [
    {
     "data": {
      "text/plain": [
       "AScalia       2047\n",
       "AMKennedy     2000\n",
       "CThomas       1880\n",
       "RBGinsburg    1819\n",
       "SGBreyer      1761\n",
       "JGRoberts      798\n",
       "SAAlito        756\n",
       "SSotomayor     475\n",
       "EKagan         352\n",
       "Name: justiceName, dtype: int64"
      ]
     },
     "execution_count": 179,
     "metadata": {},
     "output_type": "execute_result"
    }
   ],
   "source": [
    "df.justiceName.value_counts()"
   ]
  },
  {
   "cell_type": "code",
   "execution_count": 388,
   "metadata": {
    "collapsed": false
   },
   "outputs": [],
   "source": [
    "b =pd.DataFrame(a.values)"
   ]
  },
  {
   "cell_type": "code",
   "execution_count": 391,
   "metadata": {
    "collapsed": false
   },
   "outputs": [],
   "source": [
    "years['diff'] = years.Predicted-years.Baseline"
   ]
  },
  {
   "cell_type": "code",
   "execution_count": 394,
   "metadata": {
    "collapsed": false
   },
   "outputs": [
    {
     "data": {
      "text/html": [
       "<div>\n",
       "<table border=\"1\" class=\"dataframe\">\n",
       "  <thead>\n",
       "    <tr style=\"text-align: right;\">\n",
       "      <th></th>\n",
       "      <th>justiceName</th>\n",
       "      <th>Predicted</th>\n",
       "      <th>Baseline</th>\n",
       "      <th>n_votes</th>\n",
       "      <th>diff</th>\n",
       "    </tr>\n",
       "  </thead>\n",
       "  <tbody>\n",
       "    <tr>\n",
       "      <th>0</th>\n",
       "      <td>AScalia</td>\n",
       "      <td>0.869565</td>\n",
       "      <td>0.669761</td>\n",
       "      <td>2047</td>\n",
       "      <td>0.199805</td>\n",
       "    </tr>\n",
       "    <tr>\n",
       "      <th>1</th>\n",
       "      <td>AMKennedy</td>\n",
       "      <td>0.8405</td>\n",
       "      <td>0.587</td>\n",
       "      <td>2000</td>\n",
       "      <td>0.2535</td>\n",
       "    </tr>\n",
       "    <tr>\n",
       "      <th>2</th>\n",
       "      <td>CThomas</td>\n",
       "      <td>0.870745</td>\n",
       "      <td>0.689362</td>\n",
       "      <td>1880</td>\n",
       "      <td>0.181383</td>\n",
       "    </tr>\n",
       "    <tr>\n",
       "      <th>3</th>\n",
       "      <td>RBGinsburg</td>\n",
       "      <td>0.739967</td>\n",
       "      <td>0.632216</td>\n",
       "      <td>1819</td>\n",
       "      <td>0.107752</td>\n",
       "    </tr>\n",
       "    <tr>\n",
       "      <th>4</th>\n",
       "      <td>SGBreyer</td>\n",
       "      <td>0.75071</td>\n",
       "      <td>0.590574</td>\n",
       "      <td>1761</td>\n",
       "      <td>0.160136</td>\n",
       "    </tr>\n",
       "    <tr>\n",
       "      <th>5</th>\n",
       "      <td>JGRoberts</td>\n",
       "      <td>0.867168</td>\n",
       "      <td>0.58396</td>\n",
       "      <td>798</td>\n",
       "      <td>0.283208</td>\n",
       "    </tr>\n",
       "    <tr>\n",
       "      <th>6</th>\n",
       "      <td>SAAlito</td>\n",
       "      <td>0.837302</td>\n",
       "      <td>0.637566</td>\n",
       "      <td>756</td>\n",
       "      <td>0.199735</td>\n",
       "    </tr>\n",
       "    <tr>\n",
       "      <th>7</th>\n",
       "      <td>SSotomayor</td>\n",
       "      <td>0.774737</td>\n",
       "      <td>0.633684</td>\n",
       "      <td>475</td>\n",
       "      <td>0.141053</td>\n",
       "    </tr>\n",
       "    <tr>\n",
       "      <th>8</th>\n",
       "      <td>EKagan</td>\n",
       "      <td>0.826705</td>\n",
       "      <td>0.613636</td>\n",
       "      <td>352</td>\n",
       "      <td>0.213068</td>\n",
       "    </tr>\n",
       "  </tbody>\n",
       "</table>\n",
       "</div>"
      ],
      "text/plain": [
       "  justiceName Predicted  Baseline  n_votes      diff\n",
       "0     AScalia  0.869565  0.669761     2047  0.199805\n",
       "1   AMKennedy    0.8405     0.587     2000    0.2535\n",
       "2     CThomas  0.870745  0.689362     1880  0.181383\n",
       "3  RBGinsburg  0.739967  0.632216     1819  0.107752\n",
       "4    SGBreyer   0.75071  0.590574     1761  0.160136\n",
       "5   JGRoberts  0.867168   0.58396      798  0.283208\n",
       "6     SAAlito  0.837302  0.637566      756  0.199735\n",
       "7  SSotomayor  0.774737  0.633684      475  0.141053\n",
       "8      EKagan  0.826705  0.613636      352  0.213068"
      ]
     },
     "execution_count": 394,
     "metadata": {},
     "output_type": "execute_result"
    }
   ],
   "source": [
    "years"
   ]
  },
  {
   "cell_type": "code",
   "execution_count": 400,
   "metadata": {
    "collapsed": false,
    "scrolled": false
   },
   "outputs": [
    {
     "data": {
      "text/html": [
       "<div>\n",
       "<table border=\"1\" class=\"dataframe\">\n",
       "  <thead>\n",
       "    <tr style=\"text-align: right;\">\n",
       "      <th></th>\n",
       "      <th>justiceName</th>\n",
       "      <th>Predicted</th>\n",
       "      <th>Baseline</th>\n",
       "      <th>n_votes</th>\n",
       "      <th>diff</th>\n",
       "    </tr>\n",
       "  </thead>\n",
       "  <tbody>\n",
       "    <tr>\n",
       "      <th>0</th>\n",
       "      <td>AScalia</td>\n",
       "      <td>0.869565</td>\n",
       "      <td>0.669761</td>\n",
       "      <td>2047</td>\n",
       "      <td>0.199805</td>\n",
       "    </tr>\n",
       "    <tr>\n",
       "      <th>1</th>\n",
       "      <td>AMKennedy</td>\n",
       "      <td>0.8405</td>\n",
       "      <td>0.587</td>\n",
       "      <td>2000</td>\n",
       "      <td>0.2535</td>\n",
       "    </tr>\n",
       "    <tr>\n",
       "      <th>2</th>\n",
       "      <td>CThomas</td>\n",
       "      <td>0.870745</td>\n",
       "      <td>0.689362</td>\n",
       "      <td>1880</td>\n",
       "      <td>0.181383</td>\n",
       "    </tr>\n",
       "    <tr>\n",
       "      <th>3</th>\n",
       "      <td>RBGinsburg</td>\n",
       "      <td>0.739967</td>\n",
       "      <td>0.632216</td>\n",
       "      <td>1819</td>\n",
       "      <td>0.107752</td>\n",
       "    </tr>\n",
       "    <tr>\n",
       "      <th>4</th>\n",
       "      <td>SGBreyer</td>\n",
       "      <td>0.75071</td>\n",
       "      <td>0.590574</td>\n",
       "      <td>1761</td>\n",
       "      <td>0.160136</td>\n",
       "    </tr>\n",
       "    <tr>\n",
       "      <th>5</th>\n",
       "      <td>JGRoberts</td>\n",
       "      <td>0.867168</td>\n",
       "      <td>0.58396</td>\n",
       "      <td>798</td>\n",
       "      <td>0.283208</td>\n",
       "    </tr>\n",
       "    <tr>\n",
       "      <th>6</th>\n",
       "      <td>SAAlito</td>\n",
       "      <td>0.837302</td>\n",
       "      <td>0.637566</td>\n",
       "      <td>756</td>\n",
       "      <td>0.199735</td>\n",
       "    </tr>\n",
       "    <tr>\n",
       "      <th>7</th>\n",
       "      <td>SSotomayor</td>\n",
       "      <td>0.774737</td>\n",
       "      <td>0.633684</td>\n",
       "      <td>475</td>\n",
       "      <td>0.141053</td>\n",
       "    </tr>\n",
       "    <tr>\n",
       "      <th>8</th>\n",
       "      <td>EKagan</td>\n",
       "      <td>0.826705</td>\n",
       "      <td>0.613636</td>\n",
       "      <td>352</td>\n",
       "      <td>0.213068</td>\n",
       "    </tr>\n",
       "  </tbody>\n",
       "</table>\n",
       "</div>"
      ],
      "text/plain": [
       "  justiceName Predicted  Baseline  n_votes      diff\n",
       "0     AScalia  0.869565  0.669761     2047  0.199805\n",
       "1   AMKennedy    0.8405     0.587     2000    0.2535\n",
       "2     CThomas  0.870745  0.689362     1880  0.181383\n",
       "3  RBGinsburg  0.739967  0.632216     1819  0.107752\n",
       "4    SGBreyer   0.75071  0.590574     1761  0.160136\n",
       "5   JGRoberts  0.867168   0.58396      798  0.283208\n",
       "6     SAAlito  0.837302  0.637566      756  0.199735\n",
       "7  SSotomayor  0.774737  0.633684      475  0.141053\n",
       "8      EKagan  0.826705  0.613636      352  0.213068"
      ]
     },
     "execution_count": 400,
     "metadata": {},
     "output_type": "execute_result"
    }
   ],
   "source": [
    "years"
   ]
  },
  {
   "cell_type": "code",
   "execution_count": 393,
   "metadata": {
    "collapsed": false
   },
   "outputs": [],
   "source": [
    "years.rename(columns={0:'n_votes'}, inplace=True)"
   ]
  },
  {
   "cell_type": "code",
   "execution_count": 252,
   "metadata": {
    "collapsed": false
   },
   "outputs": [],
   "source": [
    "years['diff'] = years['diff']/100"
   ]
  },
  {
   "cell_type": "code",
   "execution_count": 186,
   "metadata": {
    "collapsed": true
   },
   "outputs": [],
   "source": [
    "sns.set(style=\"ticks\")"
   ]
  },
  {
   "cell_type": "code",
   "execution_count": 231,
   "metadata": {
    "collapsed": false,
    "scrolled": true
   },
   "outputs": [
    {
     "ename": "TypeError",
     "evalue": "No loop matching the specified signature and casting\nwas found for ufunc svd_n_s",
     "output_type": "error",
     "traceback": [
      "\u001b[1;31m---------------------------------------------------------------------------\u001b[0m",
      "\u001b[1;31mTypeError\u001b[0m                                 Traceback (most recent call last)",
      "\u001b[1;32m<ipython-input-231-4dc6082c3845>\u001b[0m in \u001b[0;36m<module>\u001b[1;34m()\u001b[0m\n\u001b[0;32m      1\u001b[0m \u001b[0msns\u001b[0m\u001b[1;33m.\u001b[0m\u001b[0mset\u001b[0m\u001b[1;33m(\u001b[0m\u001b[0mstyle\u001b[0m\u001b[1;33m=\u001b[0m\u001b[1;34m\"darkgrid\"\u001b[0m\u001b[1;33m,\u001b[0m \u001b[0mcolor_codes\u001b[0m\u001b[1;33m=\u001b[0m\u001b[1;32mTrue\u001b[0m\u001b[1;33m)\u001b[0m\u001b[1;33m\u001b[0m\u001b[0m\n\u001b[0;32m      2\u001b[0m \u001b[1;33m\u001b[0m\u001b[0m\n\u001b[1;32m----> 3\u001b[1;33m \u001b[0msns\u001b[0m\u001b[1;33m.\u001b[0m\u001b[0mjointplot\u001b[0m\u001b[1;33m(\u001b[0m\u001b[0myears\u001b[0m\u001b[1;33m[\u001b[0m\u001b[1;34m'diff'\u001b[0m\u001b[1;33m]\u001b[0m\u001b[1;33m,\u001b[0m \u001b[0myears\u001b[0m\u001b[1;33m[\u001b[0m\u001b[1;34m'n_votes'\u001b[0m\u001b[1;33m]\u001b[0m\u001b[1;33m,\u001b[0m \u001b[0mkind\u001b[0m\u001b[1;33m=\u001b[0m\u001b[1;34m'reg'\u001b[0m\u001b[1;33m)\u001b[0m\u001b[1;33m\u001b[0m\u001b[0m\n\u001b[0m",
      "\u001b[1;32m/usr/local/lib/python3.4/dist-packages/seaborn/distributions.py\u001b[0m in \u001b[0;36mjointplot\u001b[1;34m(x, y, data, kind, stat_func, color, size, ratio, space, dropna, xlim, ylim, joint_kws, marginal_kws, annot_kws, **kwargs)\u001b[0m\n\u001b[0;32m    837\u001b[0m \u001b[1;33m\u001b[0m\u001b[0m\n\u001b[0;32m    838\u001b[0m         \u001b[0mjoint_kws\u001b[0m\u001b[1;33m.\u001b[0m\u001b[0msetdefault\u001b[0m\u001b[1;33m(\u001b[0m\u001b[1;34m\"color\"\u001b[0m\u001b[1;33m,\u001b[0m \u001b[0mcolor\u001b[0m\u001b[1;33m)\u001b[0m\u001b[1;33m\u001b[0m\u001b[0m\n\u001b[1;32m--> 839\u001b[1;33m         \u001b[0mgrid\u001b[0m\u001b[1;33m.\u001b[0m\u001b[0mplot_joint\u001b[0m\u001b[1;33m(\u001b[0m\u001b[0mregplot\u001b[0m\u001b[1;33m,\u001b[0m \u001b[1;33m**\u001b[0m\u001b[0mjoint_kws\u001b[0m\u001b[1;33m)\u001b[0m\u001b[1;33m\u001b[0m\u001b[0m\n\u001b[0m\u001b[0;32m    840\u001b[0m \u001b[1;33m\u001b[0m\u001b[0m\n\u001b[0;32m    841\u001b[0m     \u001b[1;32melif\u001b[0m \u001b[0mkind\u001b[0m\u001b[1;33m.\u001b[0m\u001b[0mstartswith\u001b[0m\u001b[1;33m(\u001b[0m\u001b[1;34m\"resid\"\u001b[0m\u001b[1;33m)\u001b[0m\u001b[1;33m:\u001b[0m\u001b[1;33m\u001b[0m\u001b[0m\n",
      "\u001b[1;32m/usr/local/lib/python3.4/dist-packages/seaborn/axisgrid.py\u001b[0m in \u001b[0;36mplot_joint\u001b[1;34m(self, func, **kwargs)\u001b[0m\n\u001b[0;32m   1704\u001b[0m         \"\"\"\n\u001b[0;32m   1705\u001b[0m         \u001b[0mplt\u001b[0m\u001b[1;33m.\u001b[0m\u001b[0msca\u001b[0m\u001b[1;33m(\u001b[0m\u001b[0mself\u001b[0m\u001b[1;33m.\u001b[0m\u001b[0max_joint\u001b[0m\u001b[1;33m)\u001b[0m\u001b[1;33m\u001b[0m\u001b[0m\n\u001b[1;32m-> 1706\u001b[1;33m         \u001b[0mfunc\u001b[0m\u001b[1;33m(\u001b[0m\u001b[0mself\u001b[0m\u001b[1;33m.\u001b[0m\u001b[0mx\u001b[0m\u001b[1;33m,\u001b[0m \u001b[0mself\u001b[0m\u001b[1;33m.\u001b[0m\u001b[0my\u001b[0m\u001b[1;33m,\u001b[0m \u001b[1;33m**\u001b[0m\u001b[0mkwargs\u001b[0m\u001b[1;33m)\u001b[0m\u001b[1;33m\u001b[0m\u001b[0m\n\u001b[0m\u001b[0;32m   1707\u001b[0m \u001b[1;33m\u001b[0m\u001b[0m\n\u001b[0;32m   1708\u001b[0m         \u001b[1;32mreturn\u001b[0m \u001b[0mself\u001b[0m\u001b[1;33m\u001b[0m\u001b[0m\n",
      "\u001b[1;32m/usr/local/lib/python3.4/dist-packages/seaborn/linearmodels.py\u001b[0m in \u001b[0;36mregplot\u001b[1;34m(x, y, data, x_estimator, x_bins, x_ci, scatter, fit_reg, ci, n_boot, units, order, logistic, lowess, robust, logx, x_partial, y_partial, truncate, dropna, x_jitter, y_jitter, label, color, marker, scatter_kws, line_kws, ax)\u001b[0m\n\u001b[0;32m    772\u001b[0m     \u001b[0mscatter_kws\u001b[0m\u001b[1;33m[\u001b[0m\u001b[1;34m\"marker\"\u001b[0m\u001b[1;33m]\u001b[0m \u001b[1;33m=\u001b[0m \u001b[0mmarker\u001b[0m\u001b[1;33m\u001b[0m\u001b[0m\n\u001b[0;32m    773\u001b[0m     \u001b[0mline_kws\u001b[0m \u001b[1;33m=\u001b[0m \u001b[1;33m{\u001b[0m\u001b[1;33m}\u001b[0m \u001b[1;32mif\u001b[0m \u001b[0mline_kws\u001b[0m \u001b[1;32mis\u001b[0m \u001b[1;32mNone\u001b[0m \u001b[1;32melse\u001b[0m \u001b[0mcopy\u001b[0m\u001b[1;33m.\u001b[0m\u001b[0mcopy\u001b[0m\u001b[1;33m(\u001b[0m\u001b[0mline_kws\u001b[0m\u001b[1;33m)\u001b[0m\u001b[1;33m\u001b[0m\u001b[0m\n\u001b[1;32m--> 774\u001b[1;33m     \u001b[0mplotter\u001b[0m\u001b[1;33m.\u001b[0m\u001b[0mplot\u001b[0m\u001b[1;33m(\u001b[0m\u001b[0max\u001b[0m\u001b[1;33m,\u001b[0m \u001b[0mscatter_kws\u001b[0m\u001b[1;33m,\u001b[0m \u001b[0mline_kws\u001b[0m\u001b[1;33m)\u001b[0m\u001b[1;33m\u001b[0m\u001b[0m\n\u001b[0m\u001b[0;32m    775\u001b[0m     \u001b[1;32mreturn\u001b[0m \u001b[0max\u001b[0m\u001b[1;33m\u001b[0m\u001b[0m\n\u001b[0;32m    776\u001b[0m \u001b[1;33m\u001b[0m\u001b[0m\n",
      "\u001b[1;32m/usr/local/lib/python3.4/dist-packages/seaborn/linearmodels.py\u001b[0m in \u001b[0;36mplot\u001b[1;34m(self, ax, scatter_kws, line_kws)\u001b[0m\n\u001b[0;32m    325\u001b[0m             \u001b[0mself\u001b[0m\u001b[1;33m.\u001b[0m\u001b[0mscatterplot\u001b[0m\u001b[1;33m(\u001b[0m\u001b[0max\u001b[0m\u001b[1;33m,\u001b[0m \u001b[0mscatter_kws\u001b[0m\u001b[1;33m)\u001b[0m\u001b[1;33m\u001b[0m\u001b[0m\n\u001b[0;32m    326\u001b[0m         \u001b[1;32mif\u001b[0m \u001b[0mself\u001b[0m\u001b[1;33m.\u001b[0m\u001b[0mfit_reg\u001b[0m\u001b[1;33m:\u001b[0m\u001b[1;33m\u001b[0m\u001b[0m\n\u001b[1;32m--> 327\u001b[1;33m             \u001b[0mself\u001b[0m\u001b[1;33m.\u001b[0m\u001b[0mlineplot\u001b[0m\u001b[1;33m(\u001b[0m\u001b[0max\u001b[0m\u001b[1;33m,\u001b[0m \u001b[0mline_kws\u001b[0m\u001b[1;33m)\u001b[0m\u001b[1;33m\u001b[0m\u001b[0m\n\u001b[0m\u001b[0;32m    328\u001b[0m \u001b[1;33m\u001b[0m\u001b[0m\n\u001b[0;32m    329\u001b[0m         \u001b[1;31m# Label the axes\u001b[0m\u001b[1;33m\u001b[0m\u001b[1;33m\u001b[0m\u001b[0m\n",
      "\u001b[1;32m/usr/local/lib/python3.4/dist-packages/seaborn/linearmodels.py\u001b[0m in \u001b[0;36mlineplot\u001b[1;34m(self, ax, kws)\u001b[0m\n\u001b[0;32m    370\u001b[0m \u001b[1;33m\u001b[0m\u001b[0m\n\u001b[0;32m    371\u001b[0m         \u001b[1;31m# Fit the regression model\u001b[0m\u001b[1;33m\u001b[0m\u001b[1;33m\u001b[0m\u001b[0m\n\u001b[1;32m--> 372\u001b[1;33m         \u001b[0mgrid\u001b[0m\u001b[1;33m,\u001b[0m \u001b[0myhat\u001b[0m\u001b[1;33m,\u001b[0m \u001b[0merr_bands\u001b[0m \u001b[1;33m=\u001b[0m \u001b[0mself\u001b[0m\u001b[1;33m.\u001b[0m\u001b[0mfit_regression\u001b[0m\u001b[1;33m(\u001b[0m\u001b[0max\u001b[0m\u001b[1;33m)\u001b[0m\u001b[1;33m\u001b[0m\u001b[0m\n\u001b[0m\u001b[0;32m    373\u001b[0m \u001b[1;33m\u001b[0m\u001b[0m\n\u001b[0;32m    374\u001b[0m         \u001b[1;31m# Get set default aesthetics\u001b[0m\u001b[1;33m\u001b[0m\u001b[1;33m\u001b[0m\u001b[0m\n",
      "\u001b[1;32m/usr/local/lib/python3.4/dist-packages/seaborn/linearmodels.py\u001b[0m in \u001b[0;36mfit_regression\u001b[1;34m(self, ax, x_range, grid)\u001b[0m\n\u001b[0;32m    202\u001b[0m             \u001b[0myhat\u001b[0m\u001b[1;33m,\u001b[0m \u001b[0myhat_boots\u001b[0m \u001b[1;33m=\u001b[0m \u001b[0mself\u001b[0m\u001b[1;33m.\u001b[0m\u001b[0mfit_logx\u001b[0m\u001b[1;33m(\u001b[0m\u001b[0mgrid\u001b[0m\u001b[1;33m)\u001b[0m\u001b[1;33m\u001b[0m\u001b[0m\n\u001b[0;32m    203\u001b[0m         \u001b[1;32melse\u001b[0m\u001b[1;33m:\u001b[0m\u001b[1;33m\u001b[0m\u001b[0m\n\u001b[1;32m--> 204\u001b[1;33m             \u001b[0myhat\u001b[0m\u001b[1;33m,\u001b[0m \u001b[0myhat_boots\u001b[0m \u001b[1;33m=\u001b[0m \u001b[0mself\u001b[0m\u001b[1;33m.\u001b[0m\u001b[0mfit_fast\u001b[0m\u001b[1;33m(\u001b[0m\u001b[0mgrid\u001b[0m\u001b[1;33m)\u001b[0m\u001b[1;33m\u001b[0m\u001b[0m\n\u001b[0m\u001b[0;32m    205\u001b[0m \u001b[1;33m\u001b[0m\u001b[0m\n\u001b[0;32m    206\u001b[0m         \u001b[1;31m# Compute the confidence interval at each grid point\u001b[0m\u001b[1;33m\u001b[0m\u001b[1;33m\u001b[0m\u001b[0m\n",
      "\u001b[1;32m/usr/local/lib/python3.4/dist-packages/seaborn/linearmodels.py\u001b[0m in \u001b[0;36mfit_fast\u001b[1;34m(self, grid)\u001b[0m\n\u001b[0;32m    217\u001b[0m         \u001b[0mgrid\u001b[0m \u001b[1;33m=\u001b[0m \u001b[0mnp\u001b[0m\u001b[1;33m.\u001b[0m\u001b[0mc_\u001b[0m\u001b[1;33m[\u001b[0m\u001b[0mnp\u001b[0m\u001b[1;33m.\u001b[0m\u001b[0mones\u001b[0m\u001b[1;33m(\u001b[0m\u001b[0mlen\u001b[0m\u001b[1;33m(\u001b[0m\u001b[0mgrid\u001b[0m\u001b[1;33m)\u001b[0m\u001b[1;33m)\u001b[0m\u001b[1;33m,\u001b[0m \u001b[0mgrid\u001b[0m\u001b[1;33m]\u001b[0m\u001b[1;33m\u001b[0m\u001b[0m\n\u001b[0;32m    218\u001b[0m         \u001b[0mreg_func\u001b[0m \u001b[1;33m=\u001b[0m \u001b[1;32mlambda\u001b[0m \u001b[0m_x\u001b[0m\u001b[1;33m,\u001b[0m \u001b[0m_y\u001b[0m\u001b[1;33m:\u001b[0m \u001b[0mnp\u001b[0m\u001b[1;33m.\u001b[0m\u001b[0mlinalg\u001b[0m\u001b[1;33m.\u001b[0m\u001b[0mpinv\u001b[0m\u001b[1;33m(\u001b[0m\u001b[0m_x\u001b[0m\u001b[1;33m)\u001b[0m\u001b[1;33m.\u001b[0m\u001b[0mdot\u001b[0m\u001b[1;33m(\u001b[0m\u001b[0m_y\u001b[0m\u001b[1;33m)\u001b[0m\u001b[1;33m\u001b[0m\u001b[0m\n\u001b[1;32m--> 219\u001b[1;33m         \u001b[0myhat\u001b[0m \u001b[1;33m=\u001b[0m \u001b[0mgrid\u001b[0m\u001b[1;33m.\u001b[0m\u001b[0mdot\u001b[0m\u001b[1;33m(\u001b[0m\u001b[0mreg_func\u001b[0m\u001b[1;33m(\u001b[0m\u001b[0mX\u001b[0m\u001b[1;33m,\u001b[0m \u001b[0my\u001b[0m\u001b[1;33m)\u001b[0m\u001b[1;33m)\u001b[0m\u001b[1;33m\u001b[0m\u001b[0m\n\u001b[0m\u001b[0;32m    220\u001b[0m         \u001b[1;32mif\u001b[0m \u001b[0mself\u001b[0m\u001b[1;33m.\u001b[0m\u001b[0mci\u001b[0m \u001b[1;32mis\u001b[0m \u001b[1;32mNone\u001b[0m\u001b[1;33m:\u001b[0m\u001b[1;33m\u001b[0m\u001b[0m\n\u001b[0;32m    221\u001b[0m             \u001b[1;32mreturn\u001b[0m \u001b[0myhat\u001b[0m\u001b[1;33m,\u001b[0m \u001b[1;32mNone\u001b[0m\u001b[1;33m\u001b[0m\u001b[0m\n",
      "\u001b[1;32m/usr/local/lib/python3.4/dist-packages/seaborn/linearmodels.py\u001b[0m in \u001b[0;36m<lambda>\u001b[1;34m(_x, _y)\u001b[0m\n\u001b[0;32m    216\u001b[0m         \u001b[0mX\u001b[0m\u001b[1;33m,\u001b[0m \u001b[0my\u001b[0m \u001b[1;33m=\u001b[0m \u001b[0mnp\u001b[0m\u001b[1;33m.\u001b[0m\u001b[0mc_\u001b[0m\u001b[1;33m[\u001b[0m\u001b[0mnp\u001b[0m\u001b[1;33m.\u001b[0m\u001b[0mones\u001b[0m\u001b[1;33m(\u001b[0m\u001b[0mlen\u001b[0m\u001b[1;33m(\u001b[0m\u001b[0mself\u001b[0m\u001b[1;33m.\u001b[0m\u001b[0mx\u001b[0m\u001b[1;33m)\u001b[0m\u001b[1;33m)\u001b[0m\u001b[1;33m,\u001b[0m \u001b[0mself\u001b[0m\u001b[1;33m.\u001b[0m\u001b[0mx\u001b[0m\u001b[1;33m]\u001b[0m\u001b[1;33m,\u001b[0m \u001b[0mself\u001b[0m\u001b[1;33m.\u001b[0m\u001b[0my\u001b[0m\u001b[1;33m\u001b[0m\u001b[0m\n\u001b[0;32m    217\u001b[0m         \u001b[0mgrid\u001b[0m \u001b[1;33m=\u001b[0m \u001b[0mnp\u001b[0m\u001b[1;33m.\u001b[0m\u001b[0mc_\u001b[0m\u001b[1;33m[\u001b[0m\u001b[0mnp\u001b[0m\u001b[1;33m.\u001b[0m\u001b[0mones\u001b[0m\u001b[1;33m(\u001b[0m\u001b[0mlen\u001b[0m\u001b[1;33m(\u001b[0m\u001b[0mgrid\u001b[0m\u001b[1;33m)\u001b[0m\u001b[1;33m)\u001b[0m\u001b[1;33m,\u001b[0m \u001b[0mgrid\u001b[0m\u001b[1;33m]\u001b[0m\u001b[1;33m\u001b[0m\u001b[0m\n\u001b[1;32m--> 218\u001b[1;33m         \u001b[0mreg_func\u001b[0m \u001b[1;33m=\u001b[0m \u001b[1;32mlambda\u001b[0m \u001b[0m_x\u001b[0m\u001b[1;33m,\u001b[0m \u001b[0m_y\u001b[0m\u001b[1;33m:\u001b[0m \u001b[0mnp\u001b[0m\u001b[1;33m.\u001b[0m\u001b[0mlinalg\u001b[0m\u001b[1;33m.\u001b[0m\u001b[0mpinv\u001b[0m\u001b[1;33m(\u001b[0m\u001b[0m_x\u001b[0m\u001b[1;33m)\u001b[0m\u001b[1;33m.\u001b[0m\u001b[0mdot\u001b[0m\u001b[1;33m(\u001b[0m\u001b[0m_y\u001b[0m\u001b[1;33m)\u001b[0m\u001b[1;33m\u001b[0m\u001b[0m\n\u001b[0m\u001b[0;32m    219\u001b[0m         \u001b[0myhat\u001b[0m \u001b[1;33m=\u001b[0m \u001b[0mgrid\u001b[0m\u001b[1;33m.\u001b[0m\u001b[0mdot\u001b[0m\u001b[1;33m(\u001b[0m\u001b[0mreg_func\u001b[0m\u001b[1;33m(\u001b[0m\u001b[0mX\u001b[0m\u001b[1;33m,\u001b[0m \u001b[0my\u001b[0m\u001b[1;33m)\u001b[0m\u001b[1;33m)\u001b[0m\u001b[1;33m\u001b[0m\u001b[0m\n\u001b[0;32m    220\u001b[0m         \u001b[1;32mif\u001b[0m \u001b[0mself\u001b[0m\u001b[1;33m.\u001b[0m\u001b[0mci\u001b[0m \u001b[1;32mis\u001b[0m \u001b[1;32mNone\u001b[0m\u001b[1;33m:\u001b[0m\u001b[1;33m\u001b[0m\u001b[0m\n",
      "\u001b[1;32m/usr/local/lib/python3.4/dist-packages/numpy/linalg/linalg.py\u001b[0m in \u001b[0;36mpinv\u001b[1;34m(a, rcond)\u001b[0m\n\u001b[0;32m   1615\u001b[0m     \u001b[0m_assertNoEmpty2d\u001b[0m\u001b[1;33m(\u001b[0m\u001b[0ma\u001b[0m\u001b[1;33m)\u001b[0m\u001b[1;33m\u001b[0m\u001b[0m\n\u001b[0;32m   1616\u001b[0m     \u001b[0ma\u001b[0m \u001b[1;33m=\u001b[0m \u001b[0ma\u001b[0m\u001b[1;33m.\u001b[0m\u001b[0mconjugate\u001b[0m\u001b[1;33m(\u001b[0m\u001b[1;33m)\u001b[0m\u001b[1;33m\u001b[0m\u001b[0m\n\u001b[1;32m-> 1617\u001b[1;33m     \u001b[0mu\u001b[0m\u001b[1;33m,\u001b[0m \u001b[0ms\u001b[0m\u001b[1;33m,\u001b[0m \u001b[0mvt\u001b[0m \u001b[1;33m=\u001b[0m \u001b[0msvd\u001b[0m\u001b[1;33m(\u001b[0m\u001b[0ma\u001b[0m\u001b[1;33m,\u001b[0m \u001b[1;36m0\u001b[0m\u001b[1;33m)\u001b[0m\u001b[1;33m\u001b[0m\u001b[0m\n\u001b[0m\u001b[0;32m   1618\u001b[0m     \u001b[0mm\u001b[0m \u001b[1;33m=\u001b[0m \u001b[0mu\u001b[0m\u001b[1;33m.\u001b[0m\u001b[0mshape\u001b[0m\u001b[1;33m[\u001b[0m\u001b[1;36m0\u001b[0m\u001b[1;33m]\u001b[0m\u001b[1;33m\u001b[0m\u001b[0m\n\u001b[0;32m   1619\u001b[0m     \u001b[0mn\u001b[0m \u001b[1;33m=\u001b[0m \u001b[0mvt\u001b[0m\u001b[1;33m.\u001b[0m\u001b[0mshape\u001b[0m\u001b[1;33m[\u001b[0m\u001b[1;36m1\u001b[0m\u001b[1;33m]\u001b[0m\u001b[1;33m\u001b[0m\u001b[0m\n",
      "\u001b[1;32m/usr/local/lib/python3.4/dist-packages/numpy/linalg/linalg.py\u001b[0m in \u001b[0;36msvd\u001b[1;34m(a, full_matrices, compute_uv)\u001b[0m\n\u001b[0;32m   1357\u001b[0m \u001b[1;33m\u001b[0m\u001b[0m\n\u001b[0;32m   1358\u001b[0m         \u001b[0msignature\u001b[0m \u001b[1;33m=\u001b[0m \u001b[1;34m'D->DdD'\u001b[0m \u001b[1;32mif\u001b[0m \u001b[0misComplexType\u001b[0m\u001b[1;33m(\u001b[0m\u001b[0mt\u001b[0m\u001b[1;33m)\u001b[0m \u001b[1;32melse\u001b[0m \u001b[1;34m'd->ddd'\u001b[0m\u001b[1;33m\u001b[0m\u001b[0m\n\u001b[1;32m-> 1359\u001b[1;33m         \u001b[0mu\u001b[0m\u001b[1;33m,\u001b[0m \u001b[0ms\u001b[0m\u001b[1;33m,\u001b[0m \u001b[0mvt\u001b[0m \u001b[1;33m=\u001b[0m \u001b[0mgufunc\u001b[0m\u001b[1;33m(\u001b[0m\u001b[0ma\u001b[0m\u001b[1;33m,\u001b[0m \u001b[0msignature\u001b[0m\u001b[1;33m=\u001b[0m\u001b[0msignature\u001b[0m\u001b[1;33m,\u001b[0m \u001b[0mextobj\u001b[0m\u001b[1;33m=\u001b[0m\u001b[0mextobj\u001b[0m\u001b[1;33m)\u001b[0m\u001b[1;33m\u001b[0m\u001b[0m\n\u001b[0m\u001b[0;32m   1360\u001b[0m         \u001b[0mu\u001b[0m \u001b[1;33m=\u001b[0m \u001b[0mu\u001b[0m\u001b[1;33m.\u001b[0m\u001b[0mastype\u001b[0m\u001b[1;33m(\u001b[0m\u001b[0mresult_t\u001b[0m\u001b[1;33m,\u001b[0m \u001b[0mcopy\u001b[0m\u001b[1;33m=\u001b[0m\u001b[1;32mFalse\u001b[0m\u001b[1;33m)\u001b[0m\u001b[1;33m\u001b[0m\u001b[0m\n\u001b[0;32m   1361\u001b[0m         \u001b[0ms\u001b[0m \u001b[1;33m=\u001b[0m \u001b[0ms\u001b[0m\u001b[1;33m.\u001b[0m\u001b[0mastype\u001b[0m\u001b[1;33m(\u001b[0m\u001b[0m_realType\u001b[0m\u001b[1;33m(\u001b[0m\u001b[0mresult_t\u001b[0m\u001b[1;33m)\u001b[0m\u001b[1;33m,\u001b[0m \u001b[0mcopy\u001b[0m\u001b[1;33m=\u001b[0m\u001b[1;32mFalse\u001b[0m\u001b[1;33m)\u001b[0m\u001b[1;33m\u001b[0m\u001b[0m\n",
      "\u001b[1;31mTypeError\u001b[0m: No loop matching the specified signature and casting\nwas found for ufunc svd_n_s"
     ]
    }
   ],
   "source": [
    "sns.set(style=\"darkgrid\", color_codes=True)\n",
    "\n",
    "sns.jointplot(years['diff'], years['n_votes'], kind='reg')"
   ]
  },
  {
   "cell_type": "code",
   "execution_count": 395,
   "metadata": {
    "collapsed": true
   },
   "outputs": [],
   "source": [
    "y, x = np.array(years['diff'], dtype=float), np.array(years['n_votes'], dtype=float)"
   ]
  },
  {
   "cell_type": "code",
   "execution_count": 396,
   "metadata": {
    "collapsed": false
   },
   "outputs": [
    {
     "name": "stdout",
     "output_type": "stream",
     "text": [
      "                            OLS Regression Results                            \n",
      "==============================================================================\n",
      "Dep. Variable:                      y   R-squared:                       0.021\n",
      "Model:                            OLS   Adj. R-squared:                 -0.119\n",
      "Method:                 Least Squares   F-statistic:                    0.1469\n",
      "Date:                Thu, 17 Mar 2016   Prob (F-statistic):              0.713\n",
      "Time:                        16:27:26   Log-Likelihood:                 14.094\n",
      "No. Observations:                   9   AIC:                            -24.19\n",
      "Df Residuals:                       7   BIC:                            -23.79\n",
      "Df Model:                           1                                         \n",
      "Covariance Type:            nonrobust                                         \n",
      "==============================================================================\n",
      "                 coef    std err          t      P>|t|      [95.0% Conf. Int.]\n",
      "------------------------------------------------------------------------------\n",
      "const          0.2078      0.042      4.897      0.002         0.107     0.308\n",
      "x1           -1.1e-05   2.87e-05     -0.383      0.713     -7.88e-05  5.68e-05\n",
      "==============================================================================\n",
      "Omnibus:                        0.073   Durbin-Watson:                   1.954\n",
      "Prob(Omnibus):                  0.964   Jarque-Bera (JB):                0.282\n",
      "Skew:                           0.121   Prob(JB):                        0.869\n",
      "Kurtosis:                       2.167   Cond. No.                     3.29e+03\n",
      "==============================================================================\n",
      "\n",
      "Warnings:\n",
      "[1] Standard Errors assume that the covariance matrix of the errors is correctly specified.\n",
      "[2] The condition number is large, 3.29e+03. This might indicate that there are\n",
      "strong multicollinearity or other numerical problems.\n"
     ]
    },
    {
     "name": "stderr",
     "output_type": "stream",
     "text": [
      "/usr/local/lib/python3.4/dist-packages/scipy/stats/stats.py:1557: UserWarning: kurtosistest only valid for n>=20 ... continuing anyway, n=9\n",
      "  \"anyway, n=%i\" % int(n))\n"
     ]
    }
   ],
   "source": [
    "import statsmodels.api as sm\n",
    "results = sm.OLS(y,sm.add_constant(x)).fit()\n",
    "\n",
    "print (results.summary())"
   ]
  },
  {
   "cell_type": "code",
   "execution_count": 397,
   "metadata": {
    "collapsed": false
   },
   "outputs": [
    {
     "data": {
      "text/plain": [
       "<matplotlib.text.Text at 0x7ff3b302a0f0>"
      ]
     },
     "execution_count": 397,
     "metadata": {},
     "output_type": "execute_result"
    }
   ],
   "source": [
    "# Scatter plot\n",
    "plt.scatter(x, y)\n",
    "\n",
    "# Add correlation line\n",
    "axes = plt.gca()\n",
    "m, b = np.polyfit(x, y, deg=1)\n",
    "X_plot = np.linspace(axes.get_xlim()[0],axes.get_xlim()[1],100)\n",
    "plt.plot(X_plot, m*X_plot + b, '-')\n",
    "plt.ylabel(\"Difference in Predicted - Baseline\")\n",
    "plt.xlabel(\"Number of Votes\")\n",
    "plt.title(\"P-Value = 71%\\n Not Statistically significant\")"
   ]
  },
  {
   "cell_type": "code",
   "execution_count": 398,
   "metadata": {
    "collapsed": true
   },
   "outputs": [],
   "source": [
    "plt.show()"
   ]
  },
  {
   "cell_type": "code",
   "execution_count": 254,
   "metadata": {
    "collapsed": false
   },
   "outputs": [
    {
     "name": "stdout",
     "output_type": "stream",
     "text": [
      "criminal procedure\n",
      "1 0.833333333333 0.588888888889\n",
      "civil rights\n",
      "2 0.923076923077 0.730769230769\n",
      "First Ammendment\n",
      "3 0.666666666667 0.571428571429\n",
      "due process\n",
      "4 0.75 0.75\n",
      "privacy\n",
      "5 0.857142857143 0.714285714286\n",
      "attorney or gov officials compensation\n",
      "6 1.0 0.714285714286\n",
      "unions\n",
      "7 0.8 0.7\n",
      "economic activity\n",
      "8 0.9375 0.5375\n",
      "judicial power\n",
      "9 0.863636363636 0.613636363636\n",
      "federalism\n",
      "10 0.842105263158 0.684210526316\n",
      "interstate relation\n",
      "federal taxation\n",
      "12 0.833333333333 0.666666666667\n",
      "misc\n",
      "13 1.0 0.75\n",
      "private law\n"
     ]
    }
   ],
   "source": [
    "kagan = acc_by_issue(df[df.justiceName=='EKagan'])"
   ]
  },
  {
   "cell_type": "code",
   "execution_count": 255,
   "metadata": {
    "collapsed": false
   },
   "outputs": [
    {
     "data": {
      "text/html": [
       "<div>\n",
       "<table border=\"1\" class=\"dataframe\">\n",
       "  <thead>\n",
       "    <tr style=\"text-align: right;\">\n",
       "      <th></th>\n",
       "      <th>Issue</th>\n",
       "      <th>Predicted</th>\n",
       "      <th>Baseline</th>\n",
       "    </tr>\n",
       "  </thead>\n",
       "  <tbody>\n",
       "    <tr>\n",
       "      <th>0</th>\n",
       "      <td>criminal procedure</td>\n",
       "      <td>0.833333</td>\n",
       "      <td>0.588889</td>\n",
       "    </tr>\n",
       "    <tr>\n",
       "      <th>1</th>\n",
       "      <td>civil rights</td>\n",
       "      <td>0.923077</td>\n",
       "      <td>0.730769</td>\n",
       "    </tr>\n",
       "    <tr>\n",
       "      <th>2</th>\n",
       "      <td>First Ammendment</td>\n",
       "      <td>0.666667</td>\n",
       "      <td>0.571429</td>\n",
       "    </tr>\n",
       "    <tr>\n",
       "      <th>3</th>\n",
       "      <td>due process</td>\n",
       "      <td>0.75</td>\n",
       "      <td>0.75</td>\n",
       "    </tr>\n",
       "    <tr>\n",
       "      <th>4</th>\n",
       "      <td>privacy</td>\n",
       "      <td>0.857143</td>\n",
       "      <td>0.714286</td>\n",
       "    </tr>\n",
       "    <tr>\n",
       "      <th>5</th>\n",
       "      <td>attorney or gov officials compensation</td>\n",
       "      <td>1</td>\n",
       "      <td>0.714286</td>\n",
       "    </tr>\n",
       "    <tr>\n",
       "      <th>6</th>\n",
       "      <td>unions</td>\n",
       "      <td>0.8</td>\n",
       "      <td>0.7</td>\n",
       "    </tr>\n",
       "    <tr>\n",
       "      <th>7</th>\n",
       "      <td>economic activity</td>\n",
       "      <td>0.9375</td>\n",
       "      <td>0.5375</td>\n",
       "    </tr>\n",
       "    <tr>\n",
       "      <th>8</th>\n",
       "      <td>judicial power</td>\n",
       "      <td>0.863636</td>\n",
       "      <td>0.613636</td>\n",
       "    </tr>\n",
       "    <tr>\n",
       "      <th>9</th>\n",
       "      <td>federalism</td>\n",
       "      <td>0.842105</td>\n",
       "      <td>0.684211</td>\n",
       "    </tr>\n",
       "    <tr>\n",
       "      <th>10</th>\n",
       "      <td>federal taxation</td>\n",
       "      <td>0.833333</td>\n",
       "      <td>0.666667</td>\n",
       "    </tr>\n",
       "    <tr>\n",
       "      <th>11</th>\n",
       "      <td>misc</td>\n",
       "      <td>1</td>\n",
       "      <td>0.75</td>\n",
       "    </tr>\n",
       "  </tbody>\n",
       "</table>\n",
       "</div>"
      ],
      "text/plain": [
       "                                     Issue Predicted  Baseline\n",
       "0                       criminal procedure  0.833333  0.588889\n",
       "1                             civil rights  0.923077  0.730769\n",
       "2                         First Ammendment  0.666667  0.571429\n",
       "3                              due process      0.75      0.75\n",
       "4                                  privacy  0.857143  0.714286\n",
       "5   attorney or gov officials compensation         1  0.714286\n",
       "6                                   unions       0.8       0.7\n",
       "7                        economic activity    0.9375    0.5375\n",
       "8                           judicial power  0.863636  0.613636\n",
       "9                               federalism  0.842105  0.684211\n",
       "10                        federal taxation  0.833333  0.666667\n",
       "11                                    misc         1      0.75"
      ]
     },
     "execution_count": 255,
     "metadata": {},
     "output_type": "execute_result"
    }
   ],
   "source": [
    "kagan"
   ]
  },
  {
   "cell_type": "code",
   "execution_count": 269,
   "metadata": {
    "collapsed": true
   },
   "outputs": [],
   "source": [
    "def make_plots(df, name):\n",
    "    fig, ax = plt.subplots()\n",
    "    #index = range(len(judges))\n",
    "    index = np.arange(len(df.Issue))\n",
    "    bar_width = 0.35\n",
    "\n",
    "    opacity = 0.6\n",
    "    #error_config = {'ecolor': '0.3'}\n",
    "\n",
    "    rects1 = plt.bar(index, df.Predicted, bar_width,\n",
    "                     alpha=opacity,\n",
    "                     color='orange',\n",
    "                     label='Predicted')\n",
    "    rects1 = plt.bar(index+bar_width, df.Baseline, bar_width,\n",
    "                     alpha=opacity,\n",
    "                     color='grey',\n",
    "                     label='Baseline')\n",
    "    \n",
    "    plt.xlabel('Issues', size=22, weight='bold')\n",
    "    plt.ylabel('Accuracy', size=22, weight='bold')\n",
    "    title = 'Accuracy by Issues: '+name\n",
    "    plt.title(title, size=26, weight='bold')\n",
    "    plt.xticks(index + bar_width, df.Issue.tolist(), rotation=17, horizontalalignment='right', size=12)\n",
    "    plt.yticks(size=24)\n",
    "    plt.legend(fontsize=14, loc=2)\n",
    "\n",
    "    #plt.tight_layout()\n",
    "    plt.savefig(name+'.png', transparent=True)"
   ]
  },
  {
   "cell_type": "code",
   "execution_count": 270,
   "metadata": {
    "collapsed": true
   },
   "outputs": [],
   "source": [
    "make_plots(kagan, 'kagan')"
   ]
  },
  {
   "cell_type": "code",
   "execution_count": 370,
   "metadata": {
    "collapsed": true
   },
   "outputs": [],
   "source": [
    "def go_plots():\n",
    "    v = {}\n",
    "    for j in judges:\n",
    "        v[j] = acc_by_issue(cur_df[cur_df.justiceName==j])\n",
    "        make_plots(v[j], j)\n",
    "        "
   ]
  },
  {
   "cell_type": "code",
   "execution_count": 371,
   "metadata": {
    "collapsed": false,
    "scrolled": true
   },
   "outputs": [
    {
     "name": "stdout",
     "output_type": "stream",
     "text": [
      "criminal procedure\n",
      "civil rights\n",
      "First Ammendment\n",
      "due process\n",
      "privacy\n",
      "attorney or gov officials compensation\n",
      "unions\n",
      "economic activity\n",
      "judicial power\n",
      "federalism\n",
      "interstate relation\n",
      "federal taxation\n",
      "misc\n",
      "private law\n",
      "criminal procedure\n",
      "civil rights\n",
      "First Ammendment\n",
      "due process\n",
      "privacy\n",
      "attorney or gov officials compensation\n",
      "unions\n",
      "economic activity\n",
      "judicial power\n",
      "federalism\n",
      "interstate relation\n",
      "federal taxation\n",
      "misc\n",
      "private law\n",
      "criminal procedure\n",
      "civil rights\n",
      "First Ammendment\n",
      "due process\n",
      "privacy\n",
      "attorney or gov officials compensation\n",
      "unions\n",
      "economic activity\n",
      "judicial power\n",
      "federalism\n",
      "interstate relation\n",
      "federal taxation\n",
      "misc\n",
      "private law\n",
      "criminal procedure\n",
      "civil rights\n",
      "First Ammendment\n",
      "due process\n",
      "privacy\n",
      "attorney or gov officials compensation\n",
      "unions\n",
      "economic activity\n",
      "judicial power\n",
      "federalism\n",
      "interstate relation\n",
      "federal taxation\n",
      "misc\n",
      "private law\n",
      "criminal procedure\n",
      "civil rights\n",
      "First Ammendment\n",
      "due process\n",
      "privacy\n",
      "attorney or gov officials compensation\n",
      "unions\n",
      "economic activity\n",
      "judicial power\n",
      "federalism\n",
      "interstate relation\n",
      "federal taxation\n",
      "misc\n",
      "private law\n",
      "criminal procedure\n",
      "civil rights\n",
      "First Ammendment\n",
      "due process\n",
      "privacy\n",
      "attorney or gov officials compensation\n",
      "unions\n",
      "economic activity\n",
      "judicial power\n",
      "federalism\n",
      "interstate relation\n",
      "federal taxation\n",
      "misc\n",
      "private law\n",
      "criminal procedure\n",
      "civil rights\n",
      "First Ammendment\n",
      "due process\n",
      "privacy\n",
      "attorney or gov officials compensation\n",
      "unions\n",
      "economic activity\n",
      "judicial power\n",
      "federalism\n",
      "interstate relation\n",
      "federal taxation\n",
      "misc\n",
      "private law\n",
      "criminal procedure\n",
      "civil rights\n",
      "First Ammendment\n",
      "due process\n",
      "privacy\n",
      "attorney or gov officials compensation\n",
      "unions\n",
      "economic activity\n",
      "judicial power\n",
      "federalism\n",
      "interstate relation\n",
      "federal taxation\n",
      "misc\n",
      "private law\n",
      "criminal procedure\n",
      "civil rights\n",
      "First Ammendment\n",
      "due process\n",
      "privacy\n",
      "attorney or gov officials compensation\n",
      "unions\n",
      "economic activity\n",
      "judicial power\n",
      "federalism\n",
      "interstate relation\n",
      "federal taxation\n",
      "misc\n",
      "private law\n"
     ]
    }
   ],
   "source": [
    "go_plots()"
   ]
  },
  {
   "cell_type": "code",
   "execution_count": 36,
   "metadata": {
    "collapsed": false
   },
   "outputs": [],
   "source": [
    "df = cur_df"
   ]
  },
  {
   "cell_type": "code",
   "execution_count": 37,
   "metadata": {
    "collapsed": false
   },
   "outputs": [],
   "source": [
    "miscl = df.direction[df.predicted != df.direction]"
   ]
  },
  {
   "cell_type": "code",
   "execution_count": 38,
   "metadata": {
    "collapsed": false
   },
   "outputs": [],
   "source": [
    "m = miscl.value_counts()"
   ]
  },
  {
   "cell_type": "code",
   "execution_count": 381,
   "metadata": {
    "collapsed": false
   },
   "outputs": [],
   "source": [
    "# The slices will be ordered and plotted counter-clockwise.\n",
    "labels = 'Conservative', 'Liberal'\n",
    "sizes = m\n",
    "colors = ['lightcoral', 'lightskyblue']\n",
    "explode = (0.1, 0)  # only \"explode\" the 1st slice (i.e. 'Liberal')\n",
    "\n",
    "plt.pie(sizes, explode=explode, labels=labels, colors=colors,\n",
    "        autopct='%1.1f%%', shadow=True, startangle=90)\n",
    "# Set aspect ratio to be equal so that pie is drawn as a circle.\n",
    "plt.axis('equal')\n",
    "plt.title(\"Misclassified\")\n",
    "\n",
    "fig = plt.figure()\n",
    "#fig.patch.set_alpha(0.9)\n",
    "ax = fig.gca()\n"
   ]
  },
  {
   "cell_type": "code",
   "execution_count": 39,
   "metadata": {
    "collapsed": false
   },
   "outputs": [
    {
     "data": {
      "text/plain": [
       "2674"
      ]
     },
     "execution_count": 39,
     "metadata": {},
     "output_type": "execute_result"
    }
   ],
   "source": [
    "m.sum()"
   ]
  },
  {
   "cell_type": "code",
   "execution_count": 40,
   "metadata": {
    "collapsed": false
   },
   "outputs": [
    {
     "data": {
      "text/plain": [
       "11951"
      ]
     },
     "execution_count": 40,
     "metadata": {},
     "output_type": "execute_result"
    }
   ],
   "source": [
    "len(cur_df)"
   ]
  },
  {
   "cell_type": "code",
   "execution_count": 308,
   "metadata": {
    "collapsed": false
   },
   "outputs": [
    {
     "data": {
      "text/plain": [
       "1     840\n",
       "2     503\n",
       "8     389\n",
       "3     298\n",
       "9     293\n",
       "10    201\n",
       "4     101\n",
       "7      52\n",
       "5      49\n",
       "12     44\n",
       "6      30\n",
       "13     14\n",
       "Name: issueArea, dtype: int64"
      ]
     },
     "execution_count": 308,
     "metadata": {},
     "output_type": "execute_result"
    }
   ],
   "source": [
    "miscl2.value_counts()"
   ]
  },
  {
   "cell_type": "code",
   "execution_count": 364,
   "metadata": {
    "collapsed": false
   },
   "outputs": [],
   "source": [
    "fig.patch.set_alpha(0.1)"
   ]
  },
  {
   "cell_type": "code",
   "execution_count": 310,
   "metadata": {
    "collapsed": false
   },
   "outputs": [
    {
     "data": {
      "text/plain": [
       "1    6489\n",
       "2    5399\n",
       "Name: direction, dtype: int64"
      ]
     },
     "execution_count": 310,
     "metadata": {},
     "output_type": "execute_result"
    }
   ],
   "source": [
    "df.direction.value_counts()"
   ]
  },
  {
   "cell_type": "code",
   "execution_count": 312,
   "metadata": {
    "collapsed": false
   },
   "outputs": [
    {
     "data": {
      "text/plain": [
       "0.54584454912516822"
      ]
     },
     "execution_count": 312,
     "metadata": {},
     "output_type": "execute_result"
    }
   ],
   "source": [
    "df.direction.value_counts()[1]/(df.direction.value_counts()[2]+df.direction.value_counts()[1])"
   ]
  },
  {
   "cell_type": "code",
   "execution_count": null,
   "metadata": {
    "collapsed": true
   },
   "outputs": [],
   "source": []
  },
  {
   "cell_type": "code",
   "execution_count": 383,
   "metadata": {
    "collapsed": false
   },
   "outputs": [
    {
     "name": "stderr",
     "output_type": "stream",
     "text": [
      "/usr/local/lib/python3.4/dist-packages/ipykernel/__main__.py:1: FutureWarning: sort is deprecated, use sort_values(inplace=True) for for INPLACE sorting\n",
      "  if __name__ == '__main__':\n"
     ]
    },
    {
     "data": {
      "text/plain": [
       "<matplotlib.axes._subplots.AxesSubplot at 0x7ff3b3160a90>"
      ]
     },
     "execution_count": 383,
     "metadata": {},
     "output_type": "execute_result"
    }
   ],
   "source": [
    "df.groupby('justiceName')['direction'].mean().sort(inplace=False).plot(kind='bar',color='mediumseagreen', title=\"Conservative-Liberal\", fontsize=12)"
   ]
  },
  {
   "cell_type": "code",
   "execution_count": null,
   "metadata": {
    "collapsed": true
   },
   "outputs": [],
   "source": []
  },
  {
   "cell_type": "code",
   "execution_count": 384,
   "metadata": {
    "collapsed": true
   },
   "outputs": [],
   "source": [
    "plt.show()"
   ]
  },
  {
   "cell_type": "code",
   "execution_count": 333,
   "metadata": {
    "collapsed": false
   },
   "outputs": [],
   "source": [
    "pos = df.groupby('justiceName')['direction'].mean()"
   ]
  },
  {
   "cell_type": "code",
   "execution_count": 337,
   "metadata": {
    "collapsed": false
   },
   "outputs": [],
   "source": [
    "y = y/100"
   ]
  },
  {
   "cell_type": "code",
   "execution_count": 338,
   "metadata": {
    "collapsed": false
   },
   "outputs": [
    {
     "data": {
      "text/plain": [
       "justiceName\n",
       "AMKennedy     1.413000\n",
       "AScalia       1.330239\n",
       "CThomas       1.310638\n",
       "EKagan        1.613636\n",
       "JGRoberts     1.416040\n",
       "RBGinsburg    1.632216\n",
       "SAAlito       1.362434\n",
       "SGBreyer      1.590574\n",
       "SSotomayor    1.633684\n",
       "Name: direction, dtype: float64"
      ]
     },
     "execution_count": 338,
     "metadata": {},
     "output_type": "execute_result"
    }
   ],
   "source": [
    "pos"
   ]
  },
  {
   "cell_type": "code",
   "execution_count": 339,
   "metadata": {
    "collapsed": true
   },
   "outputs": [],
   "source": [
    "z = abs(1.5-pos)"
   ]
  },
  {
   "cell_type": "code",
   "execution_count": 340,
   "metadata": {
    "collapsed": false
   },
   "outputs": [
    {
     "data": {
      "text/plain": [
       "justiceName\n",
       "AMKennedy     0.087000\n",
       "AScalia       0.169761\n",
       "CThomas       0.189362\n",
       "EKagan        0.113636\n",
       "JGRoberts     0.083960\n",
       "RBGinsburg    0.132216\n",
       "SAAlito       0.137566\n",
       "SGBreyer      0.090574\n",
       "SSotomayor    0.133684\n",
       "Name: direction, dtype: float64"
      ]
     },
     "execution_count": 340,
     "metadata": {},
     "output_type": "execute_result"
    }
   ],
   "source": [
    "z"
   ]
  },
  {
   "cell_type": "code",
   "execution_count": 401,
   "metadata": {
    "collapsed": true
   },
   "outputs": [],
   "source": [
    "x, y = np.array(z, dtype=float), np.array(years['diff'], dtype=float)"
   ]
  },
  {
   "cell_type": "code",
   "execution_count": 402,
   "metadata": {
    "collapsed": false
   },
   "outputs": [
    {
     "name": "stdout",
     "output_type": "stream",
     "text": [
      "                            OLS Regression Results                            \n",
      "==============================================================================\n",
      "Dep. Variable:                      y   R-squared:                       0.177\n",
      "Model:                            OLS   Adj. R-squared:                  0.059\n",
      "Method:                 Least Squares   F-statistic:                     1.504\n",
      "Date:                Thu, 17 Mar 2016   Prob (F-statistic):              0.260\n",
      "Time:                        16:31:16   Log-Likelihood:                 14.877\n",
      "No. Observations:                   9   AIC:                            -25.75\n",
      "Df Residuals:                       7   BIC:                            -25.36\n",
      "Df Model:                           1                                         \n",
      "Covariance Type:            nonrobust                                         \n",
      "==============================================================================\n",
      "                 coef    std err          t      P>|t|      [95.0% Conf. Int.]\n",
      "------------------------------------------------------------------------------\n",
      "const          0.1151      0.066      1.741      0.125        -0.041     0.271\n",
      "x1             0.6184      0.504      1.227      0.260        -0.574     1.811\n",
      "==============================================================================\n",
      "Omnibus:                        0.095   Durbin-Watson:                   1.655\n",
      "Prob(Omnibus):                  0.954   Jarque-Bera (JB):                0.128\n",
      "Skew:                           0.097   Prob(JB):                        0.938\n",
      "Kurtosis:                       2.449   Cond. No.                         29.3\n",
      "==============================================================================\n",
      "\n",
      "Warnings:\n",
      "[1] Standard Errors assume that the covariance matrix of the errors is correctly specified.\n"
     ]
    },
    {
     "name": "stderr",
     "output_type": "stream",
     "text": [
      "/usr/local/lib/python3.4/dist-packages/scipy/stats/stats.py:1557: UserWarning: kurtosistest only valid for n>=20 ... continuing anyway, n=9\n",
      "  \"anyway, n=%i\" % int(n))\n"
     ]
    }
   ],
   "source": [
    "results = sm.OLS(y,sm.add_constant(x)).fit()\n",
    "\n",
    "print (results.summary())"
   ]
  },
  {
   "cell_type": "code",
   "execution_count": 405,
   "metadata": {
    "collapsed": false
   },
   "outputs": [
    {
     "data": {
      "text/plain": [
       "<matplotlib.text.Text at 0x7ff3b149f898>"
      ]
     },
     "execution_count": 405,
     "metadata": {},
     "output_type": "execute_result"
    }
   ],
   "source": [
    "# Scatter plot\n",
    "plt.scatter(x, y)\n",
    "\n",
    "# Add correlation line\n",
    "axes = plt.gca()\n",
    "m, b = np.polyfit(x, y, deg=1)\n",
    "X_plot = np.linspace(axes.get_xlim()[0],axes.get_xlim()[1],100)\n",
    "plt.plot(X_plot, m*X_plot + b, '-')\n",
    "plt.ylabel(\"Difference in Predicted - Baseline\")\n",
    "plt.xlabel(\"Difference from 1.5\")\n",
    "plt.title(\"P-Value = 26%\\n Not Statistically significant\")"
   ]
  },
  {
   "cell_type": "code",
   "execution_count": null,
   "metadata": {
    "collapsed": true
   },
   "outputs": [],
   "source": [
    "plt.show()"
   ]
  },
  {
   "cell_type": "code",
   "execution_count": null,
   "metadata": {
    "collapsed": true
   },
   "outputs": [],
   "source": []
  }
 ],
 "metadata": {
  "kernelspec": {
   "display_name": "Python 3",
   "language": "python",
   "name": "python3"
  },
  "language_info": {
   "codemirror_mode": {
    "name": "ipython",
    "version": 3
   },
   "file_extension": ".py",
   "mimetype": "text/x-python",
   "name": "python",
   "nbconvert_exporter": "python",
   "pygments_lexer": "ipython3",
   "version": "3.4.3"
  }
 },
 "nbformat": 4,
 "nbformat_minor": 0
}
